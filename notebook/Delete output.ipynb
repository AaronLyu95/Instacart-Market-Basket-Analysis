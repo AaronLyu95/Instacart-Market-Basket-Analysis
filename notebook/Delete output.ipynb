{
 "cells": [
  {
   "cell_type": "code",
   "execution_count": 1,
   "id": "7caea1c6",
   "metadata": {},
   "outputs": [],
   "source": [
    "from nbformat import read, write\n"
   ]
  },
  {
   "cell_type": "code",
   "execution_count": 3,
   "id": "34ca128c",
   "metadata": {},
   "outputs": [],
   "source": [
    "def Remove_Output(Book):\n",
    "    for cell in Book.cells:\n",
    "        if hasattr(cell, \"outputs\"):\n",
    "            cell.outputs = []\n",
    "        if hasattr(cell, \"prompt_number\"):\n",
    "            del cell[\"prompt_number\"]"
   ]
  },
  {
   "cell_type": "code",
   "execution_count": 6,
   "id": "ed349d68",
   "metadata": {},
   "outputs": [],
   "source": [
    "Book= read(open(\"1_EDA_instacart.ipynb\"), 4)\n",
    "Remove_Output(Book)\n",
    "write(Book, open(\"1_EDA_instacart.ipynb\", \"w\"), 4)"
   ]
  },
  {
   "cell_type": "code",
   "execution_count": null,
   "id": "afb554c8",
   "metadata": {},
   "outputs": [],
   "source": []
  }
 ],
 "metadata": {
  "kernelspec": {
   "display_name": "Python 3 (ipykernel)",
   "language": "python",
   "name": "python3"
  },
  "language_info": {
   "codemirror_mode": {
    "name": "ipython",
    "version": 3
   },
   "file_extension": ".py",
   "mimetype": "text/x-python",
   "name": "python",
   "nbconvert_exporter": "python",
   "pygments_lexer": "ipython3",
   "version": "3.9.5"
  }
 },
 "nbformat": 4,
 "nbformat_minor": 5
}
