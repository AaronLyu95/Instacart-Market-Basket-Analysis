{
 "cells": [
  {
   "cell_type": "code",
   "execution_count": 1,
   "id": "991543ec",
   "metadata": {},
   "outputs": [],
   "source": [
    "from google.cloud import bigquery\n",
    "from google.oauth2 import service_account\n",
    "import time\n",
    "import matplotlib.pyplot as plt\n",
    "import seaborn as sns\n",
    "from google.cloud import bigquery_storage\n",
    "import pandas as pd\n",
    "import numpy as np\n",
    "import plotly.graph_objects as go\n",
    "import plotly.express as px"
   ]
  },
  {
   "cell_type": "code",
   "execution_count": null,
   "id": "3066e497",
   "metadata": {},
   "outputs": [],
   "source": []
  },
  {
   "cell_type": "markdown",
   "id": "68846953",
   "metadata": {},
   "source": [
    "# Load data from BigQuery"
   ]
  },
  {
   "cell_type": "code",
   "execution_count": 2,
   "id": "34a288e6",
   "metadata": {},
   "outputs": [],
   "source": [
    "def bq_connector():\n",
    "    key_path = \"C:/Users/HEN1/Projects/Instacart_Market_Basket_Analysis/keys/plucky-mile-327121-255163f80b63.json\"\n",
    "    credentials = service_account.Credentials.from_service_account_file(\n",
    "        key_path, scopes=[\"https://www.googleapis.com/auth/cloud-platform\"],\n",
    "    )\n",
    "\n",
    "    bqclient = bigquery.Client(credentials=credentials, project=credentials.project_id,)\n",
    "    bqstorageclient = bigquery_storage.BigQueryReadClient(credentials=credentials)\n",
    "    return bqclient, bqstorageclient\n",
    "\n",
    "def bq_full_table_df(bqclient, bqstorageclient, table_name):\n",
    "    sql_query = f\"SELECT * FROM instacart.{table_name}\"\n",
    "    query_job = bqclient.query(sql_query)\n",
    "    time.sleep(30)\n",
    "    count =0 \n",
    "    while query_job.state !='DONE':\n",
    "        print(\"NOT DONE\")\n",
    "        if query_job.state =='PENDING':\n",
    "            print(f\"job from {table_name} is pending\")\n",
    "            break\n",
    "        if query_job.state =='RUNNING':\n",
    "            print(f\"job from {table_name} is running\")\n",
    "            print(query_job.result())\n",
    "            time.sleep(60)\n",
    "            query_job.reload()\n",
    "            time.sleep(10)\n",
    "            count += 1\n",
    "            if count>3:\n",
    "                break\n",
    "        else:\n",
    "            print(\"may meet an error\")\n",
    "            break\n",
    "    if query_job.state == 'DONE':\n",
    "        print(f\"successfully finished getting data from {table_name} table\")\n",
    "        df = query_job.to_dataframe(bqstorage_client=bqstorageclient, \n",
    "                                    progress_bar_type='tqdm_notebook',)\n",
    "        print(\"successfully transferred to df\")\n",
    "        time.sleep(3)\n",
    "    else:\n",
    "        print(\"error\")\n",
    "\n",
    "    return df"
   ]
  },
  {
   "cell_type": "code",
   "execution_count": 3,
   "id": "198306b4",
   "metadata": {},
   "outputs": [],
   "source": [
    "bqclient, bqstorageclient = bq_connector()"
   ]
  },
  {
   "cell_type": "code",
   "execution_count": 4,
   "id": "e1bccbc8",
   "metadata": {},
   "outputs": [
    {
     "name": "stdout",
     "output_type": "stream",
     "text": [
      "successfully finished getting data from aisles table\n"
     ]
    },
    {
     "data": {
      "application/vnd.jupyter.widget-view+json": {
       "model_id": "4b597331e6e1491e92cd8cbc1c5fecea",
       "version_major": 2,
       "version_minor": 0
      },
      "text/plain": [
       "Query is running:   0%|          |"
      ]
     },
     "metadata": {},
     "output_type": "display_data"
    },
    {
     "data": {
      "application/vnd.jupyter.widget-view+json": {
       "model_id": "079e523a936940b5a8d6f87f38cead24",
       "version_major": 2,
       "version_minor": 0
      },
      "text/plain": [
       "Downloading:   0%|          |"
      ]
     },
     "metadata": {},
     "output_type": "display_data"
    },
    {
     "name": "stdout",
     "output_type": "stream",
     "text": [
      "successfully transferred to df\n"
     ]
    }
   ],
   "source": [
    "aisles = bq_full_table_df(bqclient, bqstorageclient, 'aisles')\n",
    "time.sleep(3)"
   ]
  },
  {
   "cell_type": "code",
   "execution_count": 5,
   "id": "221d72ef",
   "metadata": {},
   "outputs": [
    {
     "name": "stdout",
     "output_type": "stream",
     "text": [
      "successfully finished getting data from departments table\n"
     ]
    },
    {
     "data": {
      "application/vnd.jupyter.widget-view+json": {
       "model_id": "3f24a00d8dc147cc8976765d61cf2966",
       "version_major": 2,
       "version_minor": 0
      },
      "text/plain": [
       "Query is running:   0%|          |"
      ]
     },
     "metadata": {},
     "output_type": "display_data"
    },
    {
     "data": {
      "application/vnd.jupyter.widget-view+json": {
       "model_id": "5de349005a584d08b099a9874f36f6d1",
       "version_major": 2,
       "version_minor": 0
      },
      "text/plain": [
       "Downloading:   0%|          |"
      ]
     },
     "metadata": {},
     "output_type": "display_data"
    },
    {
     "name": "stdout",
     "output_type": "stream",
     "text": [
      "successfully transferred to df\n"
     ]
    }
   ],
   "source": [
    "departments = bq_full_table_df(bqclient, bqstorageclient, 'departments')\n",
    "time.sleep(60)"
   ]
  },
  {
   "cell_type": "code",
   "execution_count": 10,
   "id": "3e97d999",
   "metadata": {},
   "outputs": [
    {
     "name": "stdout",
     "output_type": "stream",
     "text": [
      "NOT DONE\n",
      "job from orders is running\n",
      "<google.cloud.bigquery.table.RowIterator object at 0x00000214FFFBC5B0>\n",
      "successfully finished getting data from orders table\n"
     ]
    },
    {
     "data": {
      "application/vnd.jupyter.widget-view+json": {
       "model_id": "3d5572283f8b47c899c5104a62ca8f95",
       "version_major": 2,
       "version_minor": 0
      },
      "text/plain": [
       "Query is running:   0%|          |"
      ]
     },
     "metadata": {},
     "output_type": "display_data"
    },
    {
     "data": {
      "application/vnd.jupyter.widget-view+json": {
       "model_id": "a1749dd7499740da9f4adbf27bbcd730",
       "version_major": 2,
       "version_minor": 0
      },
      "text/plain": [
       "Downloading:   0%|          |"
      ]
     },
     "metadata": {},
     "output_type": "display_data"
    },
    {
     "name": "stdout",
     "output_type": "stream",
     "text": [
      "successfully transferred to df\n"
     ]
    }
   ],
   "source": [
    "orders = bq_full_table_df(bqclient, bqstorageclient, 'orders')\n",
    "time.sleep(60)"
   ]
  },
  {
   "cell_type": "code",
   "execution_count": 9,
   "id": "597a6de5",
   "metadata": {},
   "outputs": [
    {
     "name": "stdout",
     "output_type": "stream",
     "text": [
      "successfully finished getting data from products table\n"
     ]
    },
    {
     "data": {
      "application/vnd.jupyter.widget-view+json": {
       "model_id": "f6ab719ffea6461680d3f61b114bcd4f",
       "version_major": 2,
       "version_minor": 0
      },
      "text/plain": [
       "Query is running:   0%|          |"
      ]
     },
     "metadata": {},
     "output_type": "display_data"
    },
    {
     "data": {
      "application/vnd.jupyter.widget-view+json": {
       "model_id": "64438b1362964978aa5d68f40fb0a041",
       "version_major": 2,
       "version_minor": 0
      },
      "text/plain": [
       "Downloading:   0%|          |"
      ]
     },
     "metadata": {},
     "output_type": "display_data"
    },
    {
     "name": "stdout",
     "output_type": "stream",
     "text": [
      "successfully transferred to df\n"
     ]
    }
   ],
   "source": [
    "products = bq_full_table_df(bqclient, bqstorageclient, 'products')\n",
    "time.sleep(60)"
   ]
  },
  {
   "cell_type": "code",
   "execution_count": 4,
   "id": "50b81a4c",
   "metadata": {},
   "outputs": [
    {
     "name": "stdout",
     "output_type": "stream",
     "text": [
      "NOT DONE\n",
      "job from order_products_prior is running\n",
      "<google.cloud.bigquery.table.RowIterator object at 0x00000214F9E4E880>\n",
      "successfully finished getting data from order_products_prior table\n"
     ]
    },
    {
     "data": {
      "application/vnd.jupyter.widget-view+json": {
       "model_id": "5cccce866277414e9221439243f5b789",
       "version_major": 2,
       "version_minor": 0
      },
      "text/plain": [
       "Query is running:   0%|          |"
      ]
     },
     "metadata": {},
     "output_type": "display_data"
    },
    {
     "data": {
      "application/vnd.jupyter.widget-view+json": {
       "model_id": "37658b262c744a88962c7816a42cdfc0",
       "version_major": 2,
       "version_minor": 0
      },
      "text/plain": [
       "Downloading:   0%|          |"
      ]
     },
     "metadata": {},
     "output_type": "display_data"
    },
    {
     "name": "stdout",
     "output_type": "stream",
     "text": [
      "successfully transferred to df\n"
     ]
    }
   ],
   "source": [
    "order_products_prior = bq_full_table_df(bqclient, bqstorageclient, 'order_products_prior')\n",
    "time.sleep(60)"
   ]
  },
  {
   "cell_type": "code",
   "execution_count": 5,
   "id": "58742b90",
   "metadata": {},
   "outputs": [
    {
     "name": "stdout",
     "output_type": "stream",
     "text": [
      "NOT DONE\n",
      "job from order_products_train is running\n",
      "<google.cloud.bigquery.table.RowIterator object at 0x00000214FB744D60>\n",
      "successfully finished getting data from order_products_train table\n"
     ]
    },
    {
     "data": {
      "application/vnd.jupyter.widget-view+json": {
       "model_id": "f29f7723a4174f899e4bea3ca4bdc1e4",
       "version_major": 2,
       "version_minor": 0
      },
      "text/plain": [
       "Query is running:   0%|          |"
      ]
     },
     "metadata": {},
     "output_type": "display_data"
    },
    {
     "data": {
      "application/vnd.jupyter.widget-view+json": {
       "model_id": "e0f47d781f55466598c3d8f57a261828",
       "version_major": 2,
       "version_minor": 0
      },
      "text/plain": [
       "Downloading:   0%|          |"
      ]
     },
     "metadata": {},
     "output_type": "display_data"
    },
    {
     "name": "stdout",
     "output_type": "stream",
     "text": [
      "successfully transferred to df\n"
     ]
    }
   ],
   "source": [
    "order_products_train = bq_full_table_df(bqclient, bqstorageclient, 'order_products_train')"
   ]
  },
  {
   "cell_type": "markdown",
   "id": "7711e041",
   "metadata": {},
   "source": [
    "# Dataset Info"
   ]
  },
  {
   "cell_type": "code",
   "execution_count": 12,
   "id": "c78ef101",
   "metadata": {},
   "outputs": [],
   "source": [
    "aisles.head()"
   ]
  },
  {
   "cell_type": "code",
   "execution_count": 13,
   "id": "4e13d584",
   "metadata": {},
   "outputs": [],
   "source": [
    "aisles.info()"
   ]
  },
  {
   "cell_type": "code",
   "execution_count": 14,
   "id": "6db3896c",
   "metadata": {},
   "outputs": [],
   "source": [
    "departments.head()"
   ]
  },
  {
   "cell_type": "code",
   "execution_count": 15,
   "id": "277c4c92",
   "metadata": {},
   "outputs": [],
   "source": [
    "departments.info()"
   ]
  },
  {
   "cell_type": "code",
   "execution_count": 11,
   "id": "04f5c093",
   "metadata": {},
   "outputs": [
    {
     "data": {
      "text/html": [
       "<div>\n",
       "<style scoped>\n",
       "    .dataframe tbody tr th:only-of-type {\n",
       "        vertical-align: middle;\n",
       "    }\n",
       "\n",
       "    .dataframe tbody tr th {\n",
       "        vertical-align: top;\n",
       "    }\n",
       "\n",
       "    .dataframe thead th {\n",
       "        text-align: right;\n",
       "    }\n",
       "</style>\n",
       "<table border=\"1\" class=\"dataframe\">\n",
       "  <thead>\n",
       "    <tr style=\"text-align: right;\">\n",
       "      <th></th>\n",
       "      <th>order_id</th>\n",
       "      <th>user_id</th>\n",
       "      <th>eval_set</th>\n",
       "      <th>order_number</th>\n",
       "      <th>order_dow</th>\n",
       "      <th>order_hour_of_day</th>\n",
       "      <th>days_since_prior_order</th>\n",
       "    </tr>\n",
       "  </thead>\n",
       "  <tbody>\n",
       "    <tr>\n",
       "      <th>0</th>\n",
       "      <td>3370391</td>\n",
       "      <td>116</td>\n",
       "      <td>prior</td>\n",
       "      <td>1</td>\n",
       "      <td>0</td>\n",
       "      <td>5</td>\n",
       "      <td>NaN</td>\n",
       "    </tr>\n",
       "    <tr>\n",
       "      <th>1</th>\n",
       "      <td>2436872</td>\n",
       "      <td>4531</td>\n",
       "      <td>prior</td>\n",
       "      <td>1</td>\n",
       "      <td>0</td>\n",
       "      <td>4</td>\n",
       "      <td>NaN</td>\n",
       "    </tr>\n",
       "    <tr>\n",
       "      <th>2</th>\n",
       "      <td>2827892</td>\n",
       "      <td>5553</td>\n",
       "      <td>prior</td>\n",
       "      <td>1</td>\n",
       "      <td>0</td>\n",
       "      <td>5</td>\n",
       "      <td>NaN</td>\n",
       "    </tr>\n",
       "    <tr>\n",
       "      <th>3</th>\n",
       "      <td>1513465</td>\n",
       "      <td>8417</td>\n",
       "      <td>prior</td>\n",
       "      <td>1</td>\n",
       "      <td>0</td>\n",
       "      <td>2</td>\n",
       "      <td>NaN</td>\n",
       "    </tr>\n",
       "    <tr>\n",
       "      <th>4</th>\n",
       "      <td>713224</td>\n",
       "      <td>13230</td>\n",
       "      <td>prior</td>\n",
       "      <td>1</td>\n",
       "      <td>0</td>\n",
       "      <td>4</td>\n",
       "      <td>NaN</td>\n",
       "    </tr>\n",
       "  </tbody>\n",
       "</table>\n",
       "</div>"
      ],
      "text/plain": [
       "   order_id  user_id eval_set  order_number  order_dow  order_hour_of_day  \\\n",
       "0   3370391      116    prior             1          0                  5   \n",
       "1   2436872     4531    prior             1          0                  4   \n",
       "2   2827892     5553    prior             1          0                  5   \n",
       "3   1513465     8417    prior             1          0                  2   \n",
       "4    713224    13230    prior             1          0                  4   \n",
       "\n",
       "   days_since_prior_order  \n",
       "0                     NaN  \n",
       "1                     NaN  \n",
       "2                     NaN  \n",
       "3                     NaN  \n",
       "4                     NaN  "
      ]
     },
     "execution_count": 11,
     "metadata": {},
     "output_type": "execute_result"
    }
   ],
   "source": [
    "orders.head()"
   ]
  },
  {
   "cell_type": "code",
   "execution_count": 12,
   "id": "5b2b30d8",
   "metadata": {},
   "outputs": [
    {
     "name": "stdout",
     "output_type": "stream",
     "text": [
      "<class 'pandas.core.frame.DataFrame'>\n",
      "RangeIndex: 3421083 entries, 0 to 3421082\n",
      "Data columns (total 7 columns):\n",
      " #   Column                  Dtype  \n",
      "---  ------                  -----  \n",
      " 0   order_id                Int64  \n",
      " 1   user_id                 Int64  \n",
      " 2   eval_set                object \n",
      " 3   order_number            Int64  \n",
      " 4   order_dow               Int64  \n",
      " 5   order_hour_of_day       Int64  \n",
      " 6   days_since_prior_order  float64\n",
      "dtypes: Int64(5), float64(1), object(1)\n",
      "memory usage: 199.0+ MB\n"
     ]
    }
   ],
   "source": [
    "orders.info()"
   ]
  },
  {
   "cell_type": "code",
   "execution_count": 13,
   "id": "2970920a",
   "metadata": {},
   "outputs": [
    {
     "data": {
      "text/plain": [
       "array(['prior', 'train', 'test'], dtype=object)"
      ]
     },
     "execution_count": 13,
     "metadata": {},
     "output_type": "execute_result"
    }
   ],
   "source": [
    "orders.eval_set.unique()"
   ]
  },
  {
   "cell_type": "code",
   "execution_count": 15,
   "id": "b8dd1177",
   "metadata": {},
   "outputs": [
    {
     "data": {
      "text/plain": [
       "prior    3214874\n",
       "train     131209\n",
       "test       75000\n",
       "Name: eval_set, dtype: int64"
      ]
     },
     "execution_count": 15,
     "metadata": {},
     "output_type": "execute_result"
    }
   ],
   "source": [
    "orders.eval_set.value_counts()"
   ]
  },
  {
   "cell_type": "code",
   "execution_count": 18,
   "id": "557e603b",
   "metadata": {},
   "outputs": [],
   "source": [
    "products.head()"
   ]
  },
  {
   "cell_type": "code",
   "execution_count": 19,
   "id": "3970ff36",
   "metadata": {},
   "outputs": [],
   "source": [
    "products.info()"
   ]
  },
  {
   "cell_type": "code",
   "execution_count": 6,
   "id": "bc0afc32",
   "metadata": {},
   "outputs": [
    {
     "data": {
      "text/html": [
       "<div>\n",
       "<style scoped>\n",
       "    .dataframe tbody tr th:only-of-type {\n",
       "        vertical-align: middle;\n",
       "    }\n",
       "\n",
       "    .dataframe tbody tr th {\n",
       "        vertical-align: top;\n",
       "    }\n",
       "\n",
       "    .dataframe thead th {\n",
       "        text-align: right;\n",
       "    }\n",
       "</style>\n",
       "<table border=\"1\" class=\"dataframe\">\n",
       "  <thead>\n",
       "    <tr style=\"text-align: right;\">\n",
       "      <th></th>\n",
       "      <th>order_id</th>\n",
       "      <th>product_id</th>\n",
       "      <th>add_to_cart_order</th>\n",
       "      <th>reordered</th>\n",
       "    </tr>\n",
       "  </thead>\n",
       "  <tbody>\n",
       "    <tr>\n",
       "      <th>0</th>\n",
       "      <td>1910419</td>\n",
       "      <td>6366</td>\n",
       "      <td>3</td>\n",
       "      <td>1</td>\n",
       "    </tr>\n",
       "    <tr>\n",
       "      <th>1</th>\n",
       "      <td>394918</td>\n",
       "      <td>28221</td>\n",
       "      <td>3</td>\n",
       "      <td>1</td>\n",
       "    </tr>\n",
       "    <tr>\n",
       "      <th>2</th>\n",
       "      <td>2989331</td>\n",
       "      <td>26785</td>\n",
       "      <td>3</td>\n",
       "      <td>1</td>\n",
       "    </tr>\n",
       "    <tr>\n",
       "      <th>3</th>\n",
       "      <td>3308044</td>\n",
       "      <td>1511</td>\n",
       "      <td>3</td>\n",
       "      <td>1</td>\n",
       "    </tr>\n",
       "    <tr>\n",
       "      <th>4</th>\n",
       "      <td>1618145</td>\n",
       "      <td>42888</td>\n",
       "      <td>4</td>\n",
       "      <td>1</td>\n",
       "    </tr>\n",
       "  </tbody>\n",
       "</table>\n",
       "</div>"
      ],
      "text/plain": [
       "   order_id  product_id  add_to_cart_order  reordered\n",
       "0   1910419        6366                  3          1\n",
       "1    394918       28221                  3          1\n",
       "2   2989331       26785                  3          1\n",
       "3   3308044        1511                  3          1\n",
       "4   1618145       42888                  4          1"
      ]
     },
     "execution_count": 6,
     "metadata": {},
     "output_type": "execute_result"
    }
   ],
   "source": [
    "order_products_prior.head()"
   ]
  },
  {
   "cell_type": "code",
   "execution_count": 7,
   "id": "751b1309",
   "metadata": {},
   "outputs": [
    {
     "name": "stdout",
     "output_type": "stream",
     "text": [
      "<class 'pandas.core.frame.DataFrame'>\n",
      "RangeIndex: 32434489 entries, 0 to 32434488\n",
      "Data columns (total 4 columns):\n",
      " #   Column             Dtype\n",
      "---  ------             -----\n",
      " 0   order_id           Int64\n",
      " 1   product_id         Int64\n",
      " 2   add_to_cart_order  Int64\n",
      " 3   reordered          Int64\n",
      "dtypes: Int64(4)\n",
      "memory usage: 1.1 GB\n"
     ]
    }
   ],
   "source": [
    "order_products_prior.info()"
   ]
  },
  {
   "cell_type": "code",
   "execution_count": 8,
   "id": "5a6e75da",
   "metadata": {},
   "outputs": [
    {
     "data": {
      "text/html": [
       "<div>\n",
       "<style scoped>\n",
       "    .dataframe tbody tr th:only-of-type {\n",
       "        vertical-align: middle;\n",
       "    }\n",
       "\n",
       "    .dataframe tbody tr th {\n",
       "        vertical-align: top;\n",
       "    }\n",
       "\n",
       "    .dataframe thead th {\n",
       "        text-align: right;\n",
       "    }\n",
       "</style>\n",
       "<table border=\"1\" class=\"dataframe\">\n",
       "  <thead>\n",
       "    <tr style=\"text-align: right;\">\n",
       "      <th></th>\n",
       "      <th>order_id</th>\n",
       "      <th>product_id</th>\n",
       "      <th>add_to_cart_order</th>\n",
       "      <th>reordered</th>\n",
       "    </tr>\n",
       "  </thead>\n",
       "  <tbody>\n",
       "    <tr>\n",
       "      <th>0</th>\n",
       "      <td>98</td>\n",
       "      <td>32463</td>\n",
       "      <td>45</td>\n",
       "      <td>0</td>\n",
       "    </tr>\n",
       "    <tr>\n",
       "      <th>1</th>\n",
       "      <td>98</td>\n",
       "      <td>25659</td>\n",
       "      <td>49</td>\n",
       "      <td>0</td>\n",
       "    </tr>\n",
       "    <tr>\n",
       "      <th>2</th>\n",
       "      <td>1591</td>\n",
       "      <td>38805</td>\n",
       "      <td>27</td>\n",
       "      <td>0</td>\n",
       "    </tr>\n",
       "    <tr>\n",
       "      <th>3</th>\n",
       "      <td>1955</td>\n",
       "      <td>7503</td>\n",
       "      <td>30</td>\n",
       "      <td>0</td>\n",
       "    </tr>\n",
       "    <tr>\n",
       "      <th>4</th>\n",
       "      <td>1955</td>\n",
       "      <td>12320</td>\n",
       "      <td>31</td>\n",
       "      <td>0</td>\n",
       "    </tr>\n",
       "  </tbody>\n",
       "</table>\n",
       "</div>"
      ],
      "text/plain": [
       "   order_id  product_id  add_to_cart_order  reordered\n",
       "0        98       32463                 45          0\n",
       "1        98       25659                 49          0\n",
       "2      1591       38805                 27          0\n",
       "3      1955        7503                 30          0\n",
       "4      1955       12320                 31          0"
      ]
     },
     "execution_count": 8,
     "metadata": {},
     "output_type": "execute_result"
    }
   ],
   "source": [
    "order_products_train.head()"
   ]
  },
  {
   "cell_type": "code",
   "execution_count": 9,
   "id": "a8b93185",
   "metadata": {},
   "outputs": [
    {
     "name": "stdout",
     "output_type": "stream",
     "text": [
      "<class 'pandas.core.frame.DataFrame'>\n",
      "RangeIndex: 1384617 entries, 0 to 1384616\n",
      "Data columns (total 4 columns):\n",
      " #   Column             Non-Null Count    Dtype\n",
      "---  ------             --------------    -----\n",
      " 0   order_id           1384617 non-null  Int64\n",
      " 1   product_id         1384617 non-null  Int64\n",
      " 2   add_to_cart_order  1384617 non-null  Int64\n",
      " 3   reordered          1384617 non-null  Int64\n",
      "dtypes: Int64(4)\n",
      "memory usage: 47.5 MB\n"
     ]
    }
   ],
   "source": [
    "order_products_train.info()"
   ]
  },
  {
   "cell_type": "markdown",
   "id": "d1c26c56",
   "metadata": {},
   "source": [
    "# Analysis on orders data"
   ]
  },
  {
   "cell_type": "code",
   "execution_count": null,
   "id": "5f6696eb",
   "metadata": {},
   "outputs": [],
   "source": [
    "orders.nunique()"
   ]
  },
  {
   "cell_type": "code",
   "execution_count": null,
   "id": "ff654996",
   "metadata": {},
   "outputs": [],
   "source": [
    "orders.isnull().sum()"
   ]
  },
  {
   "cell_type": "code",
   "execution_count": null,
   "id": "e2da1bdf",
   "metadata": {},
   "outputs": [],
   "source": [
    "sns.set_palette(\"GnBu\")"
   ]
  },
  {
   "cell_type": "markdown",
   "id": "4476411b",
   "metadata": {},
   "source": [
    "### Day of week"
   ]
  },
  {
   "cell_type": "code",
   "execution_count": null,
   "id": "1a41651d",
   "metadata": {},
   "outputs": [],
   "source": [
    "sns.countplot(data=orders, x=\"order_dow\", palette=\"GnBu\")"
   ]
  },
  {
   "cell_type": "markdown",
   "id": "7a79e9ae",
   "metadata": {},
   "source": [
    "It is obvious that most orders are on days 0 and 1. Unfortunately there is no info regarding which values represent which day."
   ]
  },
  {
   "cell_type": "markdown",
   "id": "a41c3f5a",
   "metadata": {},
   "source": [
    "### Hour of Day"
   ]
  },
  {
   "cell_type": "code",
   "execution_count": null,
   "id": "0931ccea",
   "metadata": {},
   "outputs": [],
   "source": [
    "sns.countplot(data=orders, x=\"order_hour_of_day\", palette=\"GnBu\")"
   ]
  },
  {
   "cell_type": "markdown",
   "id": "e7ff4274",
   "metadata": {},
   "source": [
    "It is obvious to tell that most orders are between 10:00-16:00."
   ]
  },
  {
   "cell_type": "markdown",
   "id": "52424207",
   "metadata": {},
   "source": [
    "### Reorder period"
   ]
  },
  {
   "cell_type": "code",
   "execution_count": null,
   "id": "ea1932d0",
   "metadata": {},
   "outputs": [],
   "source": [
    "sns.countplot(data=orders, x=\"days_since_prior_order\", palette=\"GnBu\")\n",
    "plt.xticks(rotation='vertical')\n",
    "plt.show()"
   ]
  },
  {
   "cell_type": "markdown",
   "id": "ee130049",
   "metadata": {},
   "source": [
    "It shows that a lot of people may not place a second order within 1 month. However, if people are willing to reorder in 1 month, they are more likely to place the order after exactly 1 week.\n"
   ]
  },
  {
   "cell_type": "markdown",
   "id": "0195af61",
   "metadata": {},
   "source": [
    "### How many orders for each customer are there?"
   ]
  },
  {
   "cell_type": "code",
   "execution_count": null,
   "id": "ac5ede0a",
   "metadata": {},
   "outputs": [],
   "source": [
    "customer_last_order = orders.sort_values('order_number').groupby(['user_id']).tail(1)"
   ]
  },
  {
   "cell_type": "code",
   "execution_count": null,
   "id": "238d85cb",
   "metadata": {},
   "outputs": [],
   "source": [
    "plt.figure(figsize=(16, 6))\n",
    "sns.countplot(data=customer_last_order, x=\"order_number\", palette=\"GnBu\")\n",
    "plt.xticks(rotation='vertical')\n",
    "plt.show()"
   ]
  },
  {
   "cell_type": "code",
   "execution_count": null,
   "id": "3c007b3c",
   "metadata": {},
   "outputs": [],
   "source": [
    "customer_last_order.order_number.mean()"
   ]
  },
  {
   "cell_type": "code",
   "execution_count": null,
   "id": "bd4317da",
   "metadata": {},
   "outputs": [],
   "source": [
    "customer_last_order.order_number.median()"
   ]
  },
  {
   "cell_type": "code",
   "execution_count": null,
   "id": "20991767",
   "metadata": {},
   "outputs": [],
   "source": [
    "customer_last_order.order_number.mode()"
   ]
  },
  {
   "cell_type": "markdown",
   "id": "79166616",
   "metadata": {},
   "source": [
    "The number of orders placed by customers is looked like a heavy-tailed distribution. It can tell that a few orders placed customers have high frequency, while customers placed a lot of orders have low frequency.  \n",
    "The mean orders placed per customer is around 16.60.  \n",
    "The median orders placed per customer is around 10.  \n",
    "The mode orders placed per customer is around 4.\n"
   ]
  },
  {
   "cell_type": "markdown",
   "id": "d81c9160",
   "metadata": {},
   "source": [
    "# Analysis on orders and products combined data"
   ]
  },
  {
   "cell_type": "code",
   "execution_count": 10,
   "id": "f7cad272",
   "metadata": {},
   "outputs": [],
   "source": [
    "products_departments = products.merge(departments, on='department_id', how='left')"
   ]
  },
  {
   "cell_type": "code",
   "execution_count": 11,
   "id": "d3580a85",
   "metadata": {},
   "outputs": [],
   "source": [
    "products_all = products_departments.merge(aisles, on='aisle_id', how='left')"
   ]
  },
  {
   "cell_type": "code",
   "execution_count": null,
   "id": "e1d50d3b",
   "metadata": {},
   "outputs": [],
   "source": []
  },
  {
   "cell_type": "code",
   "execution_count": 10,
   "id": "186e0732",
   "metadata": {},
   "outputs": [],
   "source": [
    "order_products_prior.head(10)"
   ]
  },
  {
   "cell_type": "code",
   "execution_count": 11,
   "id": "57871dc4",
   "metadata": {},
   "outputs": [],
   "source": [
    "orders[orders['eval_set']=='test'].head()"
   ]
  },
  {
   "cell_type": "code",
   "execution_count": 12,
   "id": "7b4f9d8f",
   "metadata": {},
   "outputs": [],
   "source": [
    "orders['eval_set'].unique()"
   ]
  },
  {
   "cell_type": "code",
   "execution_count": 13,
   "id": "1b3a6620",
   "metadata": {},
   "outputs": [],
   "source": [
    "order_products_prior.shape[0]"
   ]
  },
  {
   "cell_type": "code",
   "execution_count": 14,
   "id": "25a92021",
   "metadata": {},
   "outputs": [],
   "source": [
    "order_products_prior.order_id.nunique()"
   ]
  },
  {
   "cell_type": "code",
   "execution_count": 15,
   "id": "189c0522",
   "metadata": {},
   "outputs": [],
   "source": [
    "order_products_prior.shape[0]/order_products_prior.order_id.nunique()"
   ]
  },
  {
   "cell_type": "code",
   "execution_count": 30,
   "id": "4df98507",
   "metadata": {},
   "outputs": [],
   "source": [
    "prior_no_products_by_orders = order_products_prior.order_id.value_counts().rename_axis('order_id').reset_index(name='counts')"
   ]
  },
  {
   "cell_type": "code",
   "execution_count": 40,
   "id": "000655ad",
   "metadata": {},
   "outputs": [],
   "source": [
    "plt.figure(figsize=(16, 6))\n",
    "sns.countplot(data=prior_no_products_by_orders, x=\"counts\", palette=\"YlGnBu\")\n",
    "plt.xticks(rotation='vertical')\n",
    "plt.show()"
   ]
  },
  {
   "cell_type": "markdown",
   "id": "084f88b9",
   "metadata": {},
   "source": [
    "As we can see, there are 32434489 orders and products combination in the prior dataset, and there are 3214874 unique orders, which means there are average 10 products per order. The x-axis of plot represents how many products in the orders, and the y-axis represents how many orders have x-axis number of products. The ditribution has a long-tail as well, which suggests that most orders have 4-7 products. "
   ]
  },
  {
   "cell_type": "markdown",
   "id": "de1e41b9",
   "metadata": {},
   "source": [
    "## Best Sellers"
   ]
  },
  {
   "cell_type": "code",
   "execution_count": 12,
   "id": "1bf2a6ee",
   "metadata": {},
   "outputs": [],
   "source": [
    "order_products_prior_combined_products = order_products_prior.merge(products_all, how='left', on='product_id')"
   ]
  },
  {
   "cell_type": "code",
   "execution_count": 13,
   "id": "8637d1cd",
   "metadata": {},
   "outputs": [
    {
     "data": {
      "text/html": [
       "<div>\n",
       "<style scoped>\n",
       "    .dataframe tbody tr th:only-of-type {\n",
       "        vertical-align: middle;\n",
       "    }\n",
       "\n",
       "    .dataframe tbody tr th {\n",
       "        vertical-align: top;\n",
       "    }\n",
       "\n",
       "    .dataframe thead th {\n",
       "        text-align: right;\n",
       "    }\n",
       "</style>\n",
       "<table border=\"1\" class=\"dataframe\">\n",
       "  <thead>\n",
       "    <tr style=\"text-align: right;\">\n",
       "      <th></th>\n",
       "      <th>order_id</th>\n",
       "      <th>product_id</th>\n",
       "      <th>add_to_cart_order</th>\n",
       "      <th>reordered</th>\n",
       "      <th>product_name</th>\n",
       "      <th>aisle_id</th>\n",
       "      <th>department_id</th>\n",
       "      <th>department</th>\n",
       "      <th>aisle</th>\n",
       "    </tr>\n",
       "  </thead>\n",
       "  <tbody>\n",
       "    <tr>\n",
       "      <th>0</th>\n",
       "      <td>606860</td>\n",
       "      <td>9597</td>\n",
       "      <td>10</td>\n",
       "      <td>1</td>\n",
       "      <td>Sweet Kale Chopped Salad</td>\n",
       "      <td>123</td>\n",
       "      <td>4</td>\n",
       "      <td>produce</td>\n",
       "      <td>packaged vegetables fruits</td>\n",
       "    </tr>\n",
       "    <tr>\n",
       "      <th>1</th>\n",
       "      <td>1424748</td>\n",
       "      <td>32655</td>\n",
       "      <td>10</td>\n",
       "      <td>1</td>\n",
       "      <td>Organic Large Grade AA Brown Eggs</td>\n",
       "      <td>86</td>\n",
       "      <td>16</td>\n",
       "      <td>dairy eggs</td>\n",
       "      <td>eggs</td>\n",
       "    </tr>\n",
       "    <tr>\n",
       "      <th>2</th>\n",
       "      <td>1174241</td>\n",
       "      <td>37646</td>\n",
       "      <td>10</td>\n",
       "      <td>1</td>\n",
       "      <td>Organic Gala Apples</td>\n",
       "      <td>24</td>\n",
       "      <td>4</td>\n",
       "      <td>produce</td>\n",
       "      <td>fresh fruits</td>\n",
       "    </tr>\n",
       "    <tr>\n",
       "      <th>3</th>\n",
       "      <td>3123407</td>\n",
       "      <td>3721</td>\n",
       "      <td>11</td>\n",
       "      <td>1</td>\n",
       "      <td>Unsweetened Green Tea</td>\n",
       "      <td>94</td>\n",
       "      <td>7</td>\n",
       "      <td>beverages</td>\n",
       "      <td>tea</td>\n",
       "    </tr>\n",
       "    <tr>\n",
       "      <th>4</th>\n",
       "      <td>2349724</td>\n",
       "      <td>18523</td>\n",
       "      <td>11</td>\n",
       "      <td>1</td>\n",
       "      <td>Total 2% All Natural Greek Strained Yogurt wit...</td>\n",
       "      <td>120</td>\n",
       "      <td>16</td>\n",
       "      <td>dairy eggs</td>\n",
       "      <td>yogurt</td>\n",
       "    </tr>\n",
       "  </tbody>\n",
       "</table>\n",
       "</div>"
      ],
      "text/plain": [
       "   order_id  product_id  add_to_cart_order  reordered  \\\n",
       "0    606860        9597                 10          1   \n",
       "1   1424748       32655                 10          1   \n",
       "2   1174241       37646                 10          1   \n",
       "3   3123407        3721                 11          1   \n",
       "4   2349724       18523                 11          1   \n",
       "\n",
       "                                        product_name  aisle_id  department_id  \\\n",
       "0                           Sweet Kale Chopped Salad       123              4   \n",
       "1                  Organic Large Grade AA Brown Eggs        86             16   \n",
       "2                                Organic Gala Apples        24              4   \n",
       "3                              Unsweetened Green Tea        94              7   \n",
       "4  Total 2% All Natural Greek Strained Yogurt wit...       120             16   \n",
       "\n",
       "   department                       aisle  \n",
       "0     produce  packaged vegetables fruits  \n",
       "1  dairy eggs                        eggs  \n",
       "2     produce                fresh fruits  \n",
       "3   beverages                         tea  \n",
       "4  dairy eggs                      yogurt  "
      ]
     },
     "execution_count": 13,
     "metadata": {},
     "output_type": "execute_result"
    }
   ],
   "source": [
    "order_products_prior_combined_products.head()"
   ]
  },
  {
   "cell_type": "code",
   "execution_count": 64,
   "id": "8b66abaa",
   "metadata": {},
   "outputs": [],
   "source": [
    "products_unit_sold = order_products_prior_combined_products.groupby(['product_id'])['product_id'].count().reset_index(name='count').sort_values(['count'], ascending=False).merge(products_all, how='left', on='product_id')"
   ]
  },
  {
   "cell_type": "code",
   "execution_count": 81,
   "id": "a3cac261",
   "metadata": {},
   "outputs": [],
   "source": [
    "products_unit_sold.shape[0]"
   ]
  },
  {
   "cell_type": "code",
   "execution_count": 68,
   "id": "4810c78a",
   "metadata": {},
   "outputs": [],
   "source": [
    "products_unit_sold.head(20)"
   ]
  },
  {
   "cell_type": "code",
   "execution_count": 86,
   "id": "0566b82d",
   "metadata": {},
   "outputs": [],
   "source": [
    "products_unit_sold_gb_aisle = order_products_prior_combined_products.groupby(['aisle_id'])['aisle_id'].count().reset_index(name='count').sort_values(['count'], ascending=False).merge(aisles, how='left', on='aisle_id')"
   ]
  },
  {
   "cell_type": "code",
   "execution_count": 88,
   "id": "6dc71513",
   "metadata": {},
   "outputs": [],
   "source": [
    "products_unit_sold_gb_aisle.head(20)"
   ]
  },
  {
   "cell_type": "code",
   "execution_count": 90,
   "id": "0b5e599f",
   "metadata": {},
   "outputs": [],
   "source": [
    "products_unit_sold_departments = order_products_prior_combined_products.groupby(['department_id'])['department_id'].count().reset_index(name='count').sort_values(['count'], ascending=False).merge(departments, how='left', on='department_id')"
   ]
  },
  {
   "cell_type": "code",
   "execution_count": 91,
   "id": "689d9748",
   "metadata": {},
   "outputs": [],
   "source": [
    "products_unit_sold_departments.head(20)"
   ]
  },
  {
   "cell_type": "code",
   "execution_count": 101,
   "id": "c363fcf0",
   "metadata": {},
   "outputs": [],
   "source": [
    "import seaborn as sns\n",
    "import matplotlib.pyplot as plt\n",
    "\n",
    "# Prepare the data from the department dataframe\n",
    "labels = products_unit_sold_departments['department']\n",
    "sizes = products_unit_sold_departments['count']\n",
    "colors = sns.color_palette(\"YlGnBu\")[0:len(labels)]  # Use a pastel color palette\n",
    "\n",
    "# Create the pie chart\n",
    "plt.figure(figsize=(12, 8))\n",
    "plt.pie(sizes, labels=labels, colors=colors, autopct='%1.1f%%', startangle=90)\n",
    "\n",
    "# Add a title\n",
    "plt.title('Distribution of Unit Sold by Departments')\n",
    "\n",
    "# Display the chart\n",
    "plt.tight_layout()\n",
    "plt.show()\n"
   ]
  },
  {
   "cell_type": "markdown",
   "id": "6ee73dd6",
   "metadata": {},
   "source": [
    "From above table, we can see the the top 10 unit sold products are Banana, Bag of Organic Bananas, Organic Strawberries, Organic Baby Spinach, Organic Hass Avocado, Organic Avocado, Large Lemon, Strawberries, Limes, Organic Whole Milk. Most of them are from produce department, fresh fruits aisle. It's pretty common that people love to buy fresh fruits. From above table, we can tell that the most popular products from instacart are daily fundamental fresh foods like fruits and vegitables. "
   ]
  },
  {
   "cell_type": "markdown",
   "id": "a38b692d",
   "metadata": {},
   "source": [
    "Here are the top five aisles by count:\n",
    "\n",
    "1. Fresh Fruits (Aisle ID: 24) - Count: 3,642,188\n",
    "2. Fresh Vegetables (Aisle ID: 83) - Count: 3,418,021\n",
    "3. Packaged Vegetables Fruits (Aisle ID: 123) - Count: 1,765,313\n",
    "4. Yogurt (Aisle ID: 120) - Count: 1,452,343\n",
    "5. Packaged Cheese (Aisle ID: 21) - Count: 979,763"
   ]
  },
  {
   "cell_type": "markdown",
   "id": "478bd086",
   "metadata": {},
   "source": [
    "Here are the top five departments by count:\n",
    "\n",
    "1. Produce (Department ID: 4) - Count: 9,479,291\n",
    "2. Dairy Eggs (Department ID: 16) - Count: 5,414,016\n",
    "3. Snacks (Department ID: 19) - Count: 2,887,550\n",
    "4. Beverages (Department ID: 7) - Count: 2,690,129\n",
    "5. Frozen (Department ID: 1) - Count: 2,236,432"
   ]
  },
  {
   "cell_type": "markdown",
   "id": "721cdc92",
   "metadata": {},
   "source": [
    "There are some insights we can provide from above information. \n",
    "\n",
    "1. The top aisles and departments with the highest counts indicate the most popular categories among customers. Allocate resources and marketing efforts to promote and showcase these popular aisles and departments to drive sales. For example, highlight fresh fruits, fresh vegetables, dairy eggs, snacks, and beverages, as these are highly sought-after categories.\n",
    "\n",
    "2. Cross-Promote Related Aisles and Departments: Identify complementary aisles and departments that can be cross-promoted to encourage customers to explore and purchase items from multiple categories. For instance, promote packaged vegetables with fresh fruits, or pair yogurt with granola bars or energy bars. This can increase basket size and drive overall sales.\n",
    "\n",
    "3. Improve Online Visibility and Navigation: Optimize the e-commerce platform to enhance the visibility and accessibility of popular aisles and departments. Ensure that customers can easily find and navigate through the relevant categories. Implement effective search filters, intuitive navigation menus, and personalized recommendations to enhance the user experience and drive sales.\n"
   ]
  },
  {
   "cell_type": "markdown",
   "id": "ee1d2c2d",
   "metadata": {},
   "source": [
    "## Most Reordered Products"
   ]
  },
  {
   "cell_type": "code",
   "execution_count": 103,
   "id": "106a6263",
   "metadata": {},
   "outputs": [],
   "source": [
    "order_products_prior_combined_products.info()"
   ]
  },
  {
   "cell_type": "code",
   "execution_count": 109,
   "id": "ae8070d6",
   "metadata": {},
   "outputs": [],
   "source": [
    "# Group the dataframe by product_id, calculate proportion of reordered being 1, reset index, rename column, and sort in descending order\n",
    "proportion_reordered = order_products_prior_combined_products.groupby('product_id').agg(occurrence=('product_id', 'count'), reordered_rate=('reordered', 'mean')).reset_index().sort_values('reordered_rate', ascending=False).merge(products_all, how='left', on='product_id')\n"
   ]
  },
  {
   "cell_type": "code",
   "execution_count": 115,
   "id": "aa2d776d",
   "metadata": {},
   "outputs": [],
   "source": [
    "# Display the result\n",
    "print(proportion_reordered.head(20))\n"
   ]
  },
  {
   "cell_type": "markdown",
   "id": "fff212fb",
   "metadata": {},
   "source": [
    "1. Reordered Rate: The products in the top 20 list exhibit high reordered rates, ranging from 0.88 to 0.941176. This suggests that customers are highly likely to reorder these products, indicating strong customer satisfaction and preference for these items.\n",
    "\n",
    "2. Department and Aisle Analysis: The top 20 products are spread across various departments and aisles, including produce, personal care, beverages, snacks, babies, pantry, alcohol, and others. This indicates that customers have diverse preferences when it comes to repurchasing items, spanning multiple categories and departments.\n",
    "\n",
    "3. Cross-Selling Opportunities: The analysis reveals potential cross-selling opportunities within specific departments. For example, customers purchasing items from the snacks department (e.g., candy, chocolate) are likely to reorder related snack items. Instacart can optimize product placements, suggest related products, and create bundles to encourage customers to explore complementary items.\n",
    "\n",
    "4. Customer Preferences: The top 20 products provide valuable insights into customer preferences and buying patterns. Instacart can use this information to optimize inventory management, ensure the availability of popular products, and identify emerging trends or shifts in customer preferences.\n",
    "\n"
   ]
  },
  {
   "cell_type": "markdown",
   "id": "6d5f1dec",
   "metadata": {},
   "source": [
    "## Which item do people put into the cart first?"
   ]
  },
  {
   "cell_type": "code",
   "execution_count": 18,
   "id": "ffc9f972",
   "metadata": {},
   "outputs": [],
   "source": [
    "first_product = order_products_prior_combined_products[order_products_prior_combined_products['add_to_cart_order']==1].copy()"
   ]
  },
  {
   "cell_type": "code",
   "execution_count": 14,
   "id": "d4d94602",
   "metadata": {},
   "outputs": [
    {
     "data": {
      "text/html": [
       "<div>\n",
       "<style scoped>\n",
       "    .dataframe tbody tr th:only-of-type {\n",
       "        vertical-align: middle;\n",
       "    }\n",
       "\n",
       "    .dataframe tbody tr th {\n",
       "        vertical-align: top;\n",
       "    }\n",
       "\n",
       "    .dataframe thead th {\n",
       "        text-align: right;\n",
       "    }\n",
       "</style>\n",
       "<table border=\"1\" class=\"dataframe\">\n",
       "  <thead>\n",
       "    <tr style=\"text-align: right;\">\n",
       "      <th></th>\n",
       "      <th>order_id</th>\n",
       "      <th>product_id</th>\n",
       "      <th>add_to_cart_order</th>\n",
       "      <th>reordered</th>\n",
       "      <th>product_name</th>\n",
       "      <th>aisle_id</th>\n",
       "      <th>department_id</th>\n",
       "      <th>department</th>\n",
       "      <th>aisle</th>\n",
       "    </tr>\n",
       "  </thead>\n",
       "  <tbody>\n",
       "    <tr>\n",
       "      <th>0</th>\n",
       "      <td>606860</td>\n",
       "      <td>9597</td>\n",
       "      <td>10</td>\n",
       "      <td>1</td>\n",
       "      <td>Sweet Kale Chopped Salad</td>\n",
       "      <td>123</td>\n",
       "      <td>4</td>\n",
       "      <td>produce</td>\n",
       "      <td>packaged vegetables fruits</td>\n",
       "    </tr>\n",
       "    <tr>\n",
       "      <th>1</th>\n",
       "      <td>1424748</td>\n",
       "      <td>32655</td>\n",
       "      <td>10</td>\n",
       "      <td>1</td>\n",
       "      <td>Organic Large Grade AA Brown Eggs</td>\n",
       "      <td>86</td>\n",
       "      <td>16</td>\n",
       "      <td>dairy eggs</td>\n",
       "      <td>eggs</td>\n",
       "    </tr>\n",
       "    <tr>\n",
       "      <th>2</th>\n",
       "      <td>1174241</td>\n",
       "      <td>37646</td>\n",
       "      <td>10</td>\n",
       "      <td>1</td>\n",
       "      <td>Organic Gala Apples</td>\n",
       "      <td>24</td>\n",
       "      <td>4</td>\n",
       "      <td>produce</td>\n",
       "      <td>fresh fruits</td>\n",
       "    </tr>\n",
       "    <tr>\n",
       "      <th>3</th>\n",
       "      <td>3123407</td>\n",
       "      <td>3721</td>\n",
       "      <td>11</td>\n",
       "      <td>1</td>\n",
       "      <td>Unsweetened Green Tea</td>\n",
       "      <td>94</td>\n",
       "      <td>7</td>\n",
       "      <td>beverages</td>\n",
       "      <td>tea</td>\n",
       "    </tr>\n",
       "    <tr>\n",
       "      <th>4</th>\n",
       "      <td>2349724</td>\n",
       "      <td>18523</td>\n",
       "      <td>11</td>\n",
       "      <td>1</td>\n",
       "      <td>Total 2% All Natural Greek Strained Yogurt wit...</td>\n",
       "      <td>120</td>\n",
       "      <td>16</td>\n",
       "      <td>dairy eggs</td>\n",
       "      <td>yogurt</td>\n",
       "    </tr>\n",
       "  </tbody>\n",
       "</table>\n",
       "</div>"
      ],
      "text/plain": [
       "   order_id  product_id  add_to_cart_order  reordered  \\\n",
       "0    606860        9597                 10          1   \n",
       "1   1424748       32655                 10          1   \n",
       "2   1174241       37646                 10          1   \n",
       "3   3123407        3721                 11          1   \n",
       "4   2349724       18523                 11          1   \n",
       "\n",
       "                                        product_name  aisle_id  department_id  \\\n",
       "0                           Sweet Kale Chopped Salad       123              4   \n",
       "1                  Organic Large Grade AA Brown Eggs        86             16   \n",
       "2                                Organic Gala Apples        24              4   \n",
       "3                              Unsweetened Green Tea        94              7   \n",
       "4  Total 2% All Natural Greek Strained Yogurt wit...       120             16   \n",
       "\n",
       "   department                       aisle  \n",
       "0     produce  packaged vegetables fruits  \n",
       "1  dairy eggs                        eggs  \n",
       "2     produce                fresh fruits  \n",
       "3   beverages                         tea  \n",
       "4  dairy eggs                      yogurt  "
      ]
     },
     "execution_count": 14,
     "metadata": {},
     "output_type": "execute_result"
    }
   ],
   "source": [
    "order_products_prior_combined_products.head()"
   ]
  },
  {
   "cell_type": "code",
   "execution_count": 21,
   "id": "be9cb367",
   "metadata": {},
   "outputs": [],
   "source": [
    "cart_first_product = order_products_prior_combined_products.groupby('product_id').agg({\n",
    "    'add_to_cart_order': lambda x: sum(x == 1),\n",
    "    'product_id': 'count'\n",
    "}).rename(columns={'add_to_cart_order': 'order_first_count', 'product_id': 'product_count'}).sort_values(\n",
    "    ['order_first_count'], ascending=False)\n",
    "\n",
    "cart_first_product['percentage'] = cart_first_product['order_first_count'] / cart_first_product['product_count']\n",
    "cart_first_product = cart_first_product.merge(products, how='left', on='product_id')\n",
    "\n"
   ]
  },
  {
   "cell_type": "code",
   "execution_count": 22,
   "id": "b86710de",
   "metadata": {},
   "outputs": [
    {
     "data": {
      "text/html": [
       "<div>\n",
       "<style scoped>\n",
       "    .dataframe tbody tr th:only-of-type {\n",
       "        vertical-align: middle;\n",
       "    }\n",
       "\n",
       "    .dataframe tbody tr th {\n",
       "        vertical-align: top;\n",
       "    }\n",
       "\n",
       "    .dataframe thead th {\n",
       "        text-align: right;\n",
       "    }\n",
       "</style>\n",
       "<table border=\"1\" class=\"dataframe\">\n",
       "  <thead>\n",
       "    <tr style=\"text-align: right;\">\n",
       "      <th></th>\n",
       "      <th>product_id</th>\n",
       "      <th>order_first_count</th>\n",
       "      <th>product_count</th>\n",
       "      <th>percentage</th>\n",
       "      <th>product_name</th>\n",
       "      <th>aisle_id</th>\n",
       "      <th>department_id</th>\n",
       "    </tr>\n",
       "  </thead>\n",
       "  <tbody>\n",
       "    <tr>\n",
       "      <th>0</th>\n",
       "      <td>24852</td>\n",
       "      <td>110916</td>\n",
       "      <td>472565</td>\n",
       "      <td>0.234711</td>\n",
       "      <td>Banana</td>\n",
       "      <td>24</td>\n",
       "      <td>4</td>\n",
       "    </tr>\n",
       "    <tr>\n",
       "      <th>1</th>\n",
       "      <td>13176</td>\n",
       "      <td>78988</td>\n",
       "      <td>379450</td>\n",
       "      <td>0.208164</td>\n",
       "      <td>Bag of Organic Bananas</td>\n",
       "      <td>24</td>\n",
       "      <td>4</td>\n",
       "    </tr>\n",
       "    <tr>\n",
       "      <th>2</th>\n",
       "      <td>27845</td>\n",
       "      <td>30927</td>\n",
       "      <td>137905</td>\n",
       "      <td>0.224263</td>\n",
       "      <td>Organic Whole Milk</td>\n",
       "      <td>84</td>\n",
       "      <td>16</td>\n",
       "    </tr>\n",
       "    <tr>\n",
       "      <th>3</th>\n",
       "      <td>21137</td>\n",
       "      <td>27975</td>\n",
       "      <td>264683</td>\n",
       "      <td>0.105692</td>\n",
       "      <td>Organic Strawberries</td>\n",
       "      <td>24</td>\n",
       "      <td>4</td>\n",
       "    </tr>\n",
       "    <tr>\n",
       "      <th>4</th>\n",
       "      <td>47209</td>\n",
       "      <td>24116</td>\n",
       "      <td>213584</td>\n",
       "      <td>0.112911</td>\n",
       "      <td>Organic Hass Avocado</td>\n",
       "      <td>24</td>\n",
       "      <td>4</td>\n",
       "    </tr>\n",
       "    <tr>\n",
       "      <th>5</th>\n",
       "      <td>21903</td>\n",
       "      <td>23543</td>\n",
       "      <td>241921</td>\n",
       "      <td>0.097317</td>\n",
       "      <td>Organic Baby Spinach</td>\n",
       "      <td>123</td>\n",
       "      <td>4</td>\n",
       "    </tr>\n",
       "    <tr>\n",
       "      <th>6</th>\n",
       "      <td>47766</td>\n",
       "      <td>22398</td>\n",
       "      <td>176815</td>\n",
       "      <td>0.126675</td>\n",
       "      <td>Organic Avocado</td>\n",
       "      <td>24</td>\n",
       "      <td>4</td>\n",
       "    </tr>\n",
       "    <tr>\n",
       "      <th>7</th>\n",
       "      <td>19660</td>\n",
       "      <td>16822</td>\n",
       "      <td>56087</td>\n",
       "      <td>0.299927</td>\n",
       "      <td>Spring Water</td>\n",
       "      <td>115</td>\n",
       "      <td>7</td>\n",
       "    </tr>\n",
       "    <tr>\n",
       "      <th>8</th>\n",
       "      <td>16797</td>\n",
       "      <td>16366</td>\n",
       "      <td>142951</td>\n",
       "      <td>0.114487</td>\n",
       "      <td>Strawberries</td>\n",
       "      <td>24</td>\n",
       "      <td>4</td>\n",
       "    </tr>\n",
       "    <tr>\n",
       "      <th>9</th>\n",
       "      <td>27966</td>\n",
       "      <td>14393</td>\n",
       "      <td>137057</td>\n",
       "      <td>0.105015</td>\n",
       "      <td>Organic Raspberries</td>\n",
       "      <td>123</td>\n",
       "      <td>4</td>\n",
       "    </tr>\n",
       "  </tbody>\n",
       "</table>\n",
       "</div>"
      ],
      "text/plain": [
       "   product_id  order_first_count  product_count  percentage  \\\n",
       "0       24852             110916         472565    0.234711   \n",
       "1       13176              78988         379450    0.208164   \n",
       "2       27845              30927         137905    0.224263   \n",
       "3       21137              27975         264683    0.105692   \n",
       "4       47209              24116         213584    0.112911   \n",
       "5       21903              23543         241921    0.097317   \n",
       "6       47766              22398         176815    0.126675   \n",
       "7       19660              16822          56087    0.299927   \n",
       "8       16797              16366         142951    0.114487   \n",
       "9       27966              14393         137057    0.105015   \n",
       "\n",
       "             product_name  aisle_id  department_id  \n",
       "0                  Banana        24              4  \n",
       "1  Bag of Organic Bananas        24              4  \n",
       "2      Organic Whole Milk        84             16  \n",
       "3    Organic Strawberries        24              4  \n",
       "4    Organic Hass Avocado        24              4  \n",
       "5    Organic Baby Spinach       123              4  \n",
       "6         Organic Avocado        24              4  \n",
       "7            Spring Water       115              7  \n",
       "8            Strawberries        24              4  \n",
       "9     Organic Raspberries       123              4  "
      ]
     },
     "execution_count": 22,
     "metadata": {},
     "output_type": "execute_result"
    }
   ],
   "source": [
    "cart_first_product.head(10)"
   ]
  },
  {
   "cell_type": "code",
   "execution_count": 26,
   "id": "0535fb88",
   "metadata": {},
   "outputs": [
    {
     "data": {
      "text/html": [
       "<div>\n",
       "<style scoped>\n",
       "    .dataframe tbody tr th:only-of-type {\n",
       "        vertical-align: middle;\n",
       "    }\n",
       "\n",
       "    .dataframe tbody tr th {\n",
       "        vertical-align: top;\n",
       "    }\n",
       "\n",
       "    .dataframe thead th {\n",
       "        text-align: right;\n",
       "    }\n",
       "</style>\n",
       "<table border=\"1\" class=\"dataframe\">\n",
       "  <thead>\n",
       "    <tr style=\"text-align: right;\">\n",
       "      <th></th>\n",
       "      <th>product_id</th>\n",
       "      <th>order_first_count</th>\n",
       "      <th>product_count</th>\n",
       "      <th>percentage</th>\n",
       "      <th>product_name</th>\n",
       "      <th>aisle_id</th>\n",
       "      <th>department_id</th>\n",
       "    </tr>\n",
       "  </thead>\n",
       "  <tbody>\n",
       "    <tr>\n",
       "      <th>5911</th>\n",
       "      <td>47765</td>\n",
       "      <td>70</td>\n",
       "      <td>111</td>\n",
       "      <td>0.630631</td>\n",
       "      <td>Alimentum Infant Formula</td>\n",
       "      <td>92</td>\n",
       "      <td>18</td>\n",
       "    </tr>\n",
       "    <tr>\n",
       "      <th>5702</th>\n",
       "      <td>6209</td>\n",
       "      <td>74</td>\n",
       "      <td>155</td>\n",
       "      <td>0.477419</td>\n",
       "      <td>TAB</td>\n",
       "      <td>77</td>\n",
       "      <td>7</td>\n",
       "    </tr>\n",
       "    <tr>\n",
       "      <th>3292</th>\n",
       "      <td>10031</td>\n",
       "      <td>146</td>\n",
       "      <td>311</td>\n",
       "      <td>0.469453</td>\n",
       "      <td>Homestyle Orange Juice</td>\n",
       "      <td>31</td>\n",
       "      <td>7</td>\n",
       "    </tr>\n",
       "    <tr>\n",
       "      <th>436</th>\n",
       "      <td>35470</td>\n",
       "      <td>1051</td>\n",
       "      <td>2244</td>\n",
       "      <td>0.46836</td>\n",
       "      <td>Water Mineral</td>\n",
       "      <td>115</td>\n",
       "      <td>7</td>\n",
       "    </tr>\n",
       "    <tr>\n",
       "      <th>3397</th>\n",
       "      <td>40462</td>\n",
       "      <td>142</td>\n",
       "      <td>307</td>\n",
       "      <td>0.462541</td>\n",
       "      <td>Cleanse</td>\n",
       "      <td>31</td>\n",
       "      <td>7</td>\n",
       "    </tr>\n",
       "    <tr>\n",
       "      <th>4922</th>\n",
       "      <td>20814</td>\n",
       "      <td>90</td>\n",
       "      <td>202</td>\n",
       "      <td>0.445545</td>\n",
       "      <td>Sensitive with Iron Infant Formula</td>\n",
       "      <td>92</td>\n",
       "      <td>18</td>\n",
       "    </tr>\n",
       "    <tr>\n",
       "      <th>4074</th>\n",
       "      <td>34568</td>\n",
       "      <td>114</td>\n",
       "      <td>259</td>\n",
       "      <td>0.440154</td>\n",
       "      <td>Bourbon Kentucky Frontier Whiskey</td>\n",
       "      <td>124</td>\n",
       "      <td>5</td>\n",
       "    </tr>\n",
       "    <tr>\n",
       "      <th>725</th>\n",
       "      <td>11885</td>\n",
       "      <td>684</td>\n",
       "      <td>1556</td>\n",
       "      <td>0.439589</td>\n",
       "      <td>Sparkling Water, Bottles</td>\n",
       "      <td>115</td>\n",
       "      <td>7</td>\n",
       "    </tr>\n",
       "    <tr>\n",
       "      <th>753</th>\n",
       "      <td>45004</td>\n",
       "      <td>662</td>\n",
       "      <td>1531</td>\n",
       "      <td>0.432397</td>\n",
       "      <td>White Multifold Towels</td>\n",
       "      <td>54</td>\n",
       "      <td>17</td>\n",
       "    </tr>\n",
       "    <tr>\n",
       "      <th>3924</th>\n",
       "      <td>31380</td>\n",
       "      <td>119</td>\n",
       "      <td>277</td>\n",
       "      <td>0.429603</td>\n",
       "      <td>Omeprazole Acid Reducer Tablets</td>\n",
       "      <td>70</td>\n",
       "      <td>11</td>\n",
       "    </tr>\n",
       "  </tbody>\n",
       "</table>\n",
       "</div>"
      ],
      "text/plain": [
       "      product_id  order_first_count  product_count  percentage  \\\n",
       "5911       47765                 70            111    0.630631   \n",
       "5702        6209                 74            155    0.477419   \n",
       "3292       10031                146            311    0.469453   \n",
       "436        35470               1051           2244     0.46836   \n",
       "3397       40462                142            307    0.462541   \n",
       "4922       20814                 90            202    0.445545   \n",
       "4074       34568                114            259    0.440154   \n",
       "725        11885                684           1556    0.439589   \n",
       "753        45004                662           1531    0.432397   \n",
       "3924       31380                119            277    0.429603   \n",
       "\n",
       "                            product_name  aisle_id  department_id  \n",
       "5911            Alimentum Infant Formula        92             18  \n",
       "5702                                 TAB        77              7  \n",
       "3292              Homestyle Orange Juice        31              7  \n",
       "436                        Water Mineral       115              7  \n",
       "3397                             Cleanse        31              7  \n",
       "4922  Sensitive with Iron Infant Formula        92             18  \n",
       "4074   Bourbon Kentucky Frontier Whiskey       124              5  \n",
       "725             Sparkling Water, Bottles       115              7  \n",
       "753               White Multifold Towels        54             17  \n",
       "3924     Omeprazole Acid Reducer Tablets        70             11  "
      ]
     },
     "execution_count": 26,
     "metadata": {},
     "output_type": "execute_result"
    }
   ],
   "source": [
    "cart_first_product[cart_first_product['order_first_count']>cart_first_product['order_first_count'].mean()].sort_values(['percentage'], ascending=False).head(10)"
   ]
  },
  {
   "cell_type": "markdown",
   "id": "afce2983",
   "metadata": {},
   "source": [
    "The 'order_first_count' column represents the count of occurrences where a specific product was added as the first item in the cart. By analyzing this count, you can identify which products are most frequently chosen as the initial item by customers. These products are pretty popular from above tables. By comparing the 'product_count' and 'order_first_count' columns, you can identify products that have a high overall demand but a relatively low count of being added as the first item. This discrepancy may indicate an opportunity to promote these products more effectively or improve their visibility to capture the first choice of customers. Then we have filter table by order_first_count is greater than the mean of the this column, which can filter those products with low first add to cart frequency. We can see the top 10 percentage rate of these products. We can get some insights by these 2 tables:\n",
    "1. High first item count and high percentage: Products that appear in the top positions of both dataframes have a high count of being added as the first item (order_first_count) and a high percentage of occurrences as the first item (percentage). These products are consistently popular and preferred by customers as their initial choice. They represent strong contenders for featured placement, promotional campaigns, or upselling strategies.\n",
    "\n",
    "2. High first item count and lower percentage: Products that have a high count of being added as the first item but a lower percentage in the second dataframe may indicate a high overall demand for the product, but it is not always the first choice for customers. These products could present opportunities for improving their visibility or positioning to capture more first item selections.\n",
    "\n",
    "3. Lower first item count and high percentage: Products that have a lower count of being added as the first item but a high percentage in the second dataframe suggest that although these products are not frequently added as the first item, they have a strong association with other items. Consider exploring cross-selling opportunities or creating bundles/packages featuring these products to leverage their popularity and increase their first item selection rate."
   ]
  },
  {
   "cell_type": "markdown",
   "id": "b8aea1eb",
   "metadata": {},
   "source": [
    "# Visualize the products categories"
   ]
  },
  {
   "cell_type": "code",
   "execution_count": 32,
   "id": "0f95ba57",
   "metadata": {},
   "outputs": [
    {
     "name": "stdout",
     "output_type": "stream",
     "text": [
      "<class 'pandas.core.frame.DataFrame'>\n",
      "Int64Index: 32434489 entries, 0 to 32434488\n",
      "Data columns (total 9 columns):\n",
      " #   Column             Dtype \n",
      "---  ------             ----- \n",
      " 0   order_id           Int64 \n",
      " 1   product_id         Int64 \n",
      " 2   add_to_cart_order  Int64 \n",
      " 3   reordered          Int64 \n",
      " 4   product_name       object\n",
      " 5   aisle_id           Int64 \n",
      " 6   department_id      Int64 \n",
      " 7   department         object\n",
      " 8   aisle              object\n",
      "dtypes: Int64(6), object(3)\n",
      "memory usage: 2.6+ GB\n"
     ]
    }
   ],
   "source": [
    "order_products_prior_combined_products.info()"
   ]
  },
  {
   "cell_type": "code",
   "execution_count": 39,
   "id": "1f00ce92",
   "metadata": {},
   "outputs": [
    {
     "data": {
      "application/vnd.plotly.v1+json": {
       "config": {
        "plotlyServerURL": "https://plot.ly"
       },
       "data": [
        {
         "branchvalues": "total",
         "domain": {
          "x": [
           0,
           1
          ],
          "y": [
           0,
           1
          ]
         },
         "hovertemplate": "labels=%{label}<br>count=%{value}<br>parent=%{parent}<br>id=%{id}<extra></extra>",
         "ids": [
          "household/air fresheners candles",
          "international/asian foods",
          "babies/baby accessories",
          "babies/baby bath body care",
          "babies/baby food formula",
          "bakery/bakery desserts",
          "pantry/baking ingredients",
          "pantry/baking supplies decor",
          "personal care/beauty",
          "alcohol/beers coolers",
          "personal care/body lotions soap",
          "bakery/bread",
          "bakery/breakfast bakery",
          "breakfast/breakfast bars pastries",
          "bulk/bulk dried fruits vegetables",
          "bulk/bulk grains rice dried goods",
          "bakery/buns rolls",
          "dairy eggs/butter",
          "snacks/candy chocolate",
          "canned goods/canned fruit applesauce",
          "canned goods/canned jarred vegetables",
          "canned goods/canned meals beans",
          "canned goods/canned meat seafood",
          "pets/cat food care",
          "breakfast/cereal",
          "snacks/chips pretzels",
          "household/cleaning products",
          "beverages/cocoa drink mixes",
          "beverages/coffee",
          "personal care/cold flu allergy",
          "pantry/condiments",
          "snacks/cookies cakes",
          "snacks/crackers",
          "dairy eggs/cream",
          "personal care/deodorants",
          "babies/diapers wipes",
          "personal care/digestion",
          "household/dish detergents",
          "pets/dog food care",
          "pantry/doughs gelatins bake mixes",
          "dry goods pasta/dry pasta",
          "dairy eggs/eggs",
          "snacks/energy granola bars",
          "beverages/energy sports drinks",
          "personal care/eye ear care",
          "personal care/facial care",
          "personal care/feminine care",
          "personal care/first aid",
          "household/food storage",
          "deli/fresh dips tapenades",
          "produce/fresh fruits",
          "produce/fresh herbs",
          "dry goods pasta/fresh pasta",
          "produce/fresh vegetables",
          "frozen/frozen appetizers sides",
          "frozen/frozen breads doughs",
          "frozen/frozen breakfast",
          "frozen/frozen dessert",
          "frozen/frozen juice",
          "frozen/frozen meals",
          "frozen/frozen meat seafood",
          "frozen/frozen pizza",
          "frozen/frozen produce",
          "frozen/frozen vegan vegetarian",
          "snacks/fruit vegetable snacks",
          "dry goods pasta/grains rice dried goods",
          "breakfast/granola",
          "personal care/hair care",
          "pantry/honeys syrups nectars",
          "breakfast/hot cereal pancake mixes",
          "meat seafood/hot dogs bacon sausage",
          "frozen/ice cream ice",
          "snacks/ice cream toppings",
          "international/indian foods",
          "dry goods pasta/instant foods",
          "beverages/juice nectars",
          "household/kitchen supplies",
          "international/kosher foods",
          "international/latino foods",
          "household/laundry",
          "deli/lunch meat",
          "pantry/marinades meat preparation",
          "meat seafood/meat counter",
          "dairy eggs/milk",
          "snacks/mint gum",
          "missing/missing",
          "household/more household",
          "personal care/muscles joints pain relief",
          "snacks/nuts seeds dried fruit",
          "pantry/oils vinegars",
          "personal care/oral hygiene",
          "other/other",
          "dairy eggs/other creams cheeses",
          "dairy eggs/packaged cheese",
          "meat seafood/packaged meat",
          "meat seafood/packaged poultry",
          "produce/packaged produce",
          "meat seafood/packaged seafood",
          "produce/packaged vegetables fruits",
          "household/paper goods",
          "dry goods pasta/pasta sauce",
          "pantry/pickled goods olives",
          "household/plates bowls cups flatware",
          "snacks/popcorn jerky",
          "meat seafood/poultry counter",
          "deli/prepared meals",
          "deli/prepared soups salads",
          "pantry/preserved dips spreads",
          "personal care/protein meal replacements",
          "alcohol/red wines",
          "beverages/refrigerated",
          "dairy eggs/refrigerated pudding desserts",
          "pantry/salad dressing toppings",
          "meat seafood/seafood counter",
          "personal care/shave needs",
          "personal care/skin care",
          "personal care/soap",
          "beverages/soft drinks",
          "canned goods/soup broth bouillon",
          "dairy eggs/soy lactosefree",
          "dairy eggs/specialty cheeses",
          "alcohol/specialty wines champagnes",
          "pantry/spices seasonings",
          "alcohol/spirits",
          "pantry/spreads",
          "beverages/tea",
          "deli/tofu meat alternatives",
          "bakery/tortillas flat bread",
          "snacks/trail mix snack mix",
          "household/trash bags liners",
          "personal care/vitamins supplements",
          "beverages/water seltzer sparkling water",
          "alcohol/white wines",
          "dairy eggs/yogurt",
          "alcohol",
          "babies",
          "bakery",
          "beverages",
          "breakfast",
          "bulk",
          "canned goods",
          "dairy eggs",
          "deli",
          "dry goods pasta",
          "frozen",
          "household",
          "international",
          "meat seafood",
          "missing",
          "other",
          "pantry",
          "personal care",
          "pets",
          "produce",
          "snacks"
         ],
         "labels": [
          "air fresheners candles",
          "asian foods",
          "baby accessories",
          "baby bath body care",
          "baby food formula",
          "bakery desserts",
          "baking ingredients",
          "baking supplies decor",
          "beauty",
          "beers coolers",
          "body lotions soap",
          "bread",
          "breakfast bakery",
          "breakfast bars pastries",
          "bulk dried fruits vegetables",
          "bulk grains rice dried goods",
          "buns rolls",
          "butter",
          "candy chocolate",
          "canned fruit applesauce",
          "canned jarred vegetables",
          "canned meals beans",
          "canned meat seafood",
          "cat food care",
          "cereal",
          "chips pretzels",
          "cleaning products",
          "cocoa drink mixes",
          "coffee",
          "cold flu allergy",
          "condiments",
          "cookies cakes",
          "crackers",
          "cream",
          "deodorants",
          "diapers wipes",
          "digestion",
          "dish detergents",
          "dog food care",
          "doughs gelatins bake mixes",
          "dry pasta",
          "eggs",
          "energy granola bars",
          "energy sports drinks",
          "eye ear care",
          "facial care",
          "feminine care",
          "first aid",
          "food storage",
          "fresh dips tapenades",
          "fresh fruits",
          "fresh herbs",
          "fresh pasta",
          "fresh vegetables",
          "frozen appetizers sides",
          "frozen breads doughs",
          "frozen breakfast",
          "frozen dessert",
          "frozen juice",
          "frozen meals",
          "frozen meat seafood",
          "frozen pizza",
          "frozen produce",
          "frozen vegan vegetarian",
          "fruit vegetable snacks",
          "grains rice dried goods",
          "granola",
          "hair care",
          "honeys syrups nectars",
          "hot cereal pancake mixes",
          "hot dogs bacon sausage",
          "ice cream ice",
          "ice cream toppings",
          "indian foods",
          "instant foods",
          "juice nectars",
          "kitchen supplies",
          "kosher foods",
          "latino foods",
          "laundry",
          "lunch meat",
          "marinades meat preparation",
          "meat counter",
          "milk",
          "mint gum",
          "missing",
          "more household",
          "muscles joints pain relief",
          "nuts seeds dried fruit",
          "oils vinegars",
          "oral hygiene",
          "other",
          "other creams cheeses",
          "packaged cheese",
          "packaged meat",
          "packaged poultry",
          "packaged produce",
          "packaged seafood",
          "packaged vegetables fruits",
          "paper goods",
          "pasta sauce",
          "pickled goods olives",
          "plates bowls cups flatware",
          "popcorn jerky",
          "poultry counter",
          "prepared meals",
          "prepared soups salads",
          "preserved dips spreads",
          "protein meal replacements",
          "red wines",
          "refrigerated",
          "refrigerated pudding desserts",
          "salad dressing toppings",
          "seafood counter",
          "shave needs",
          "skin care",
          "soap",
          "soft drinks",
          "soup broth bouillon",
          "soy lactosefree",
          "specialty cheeses",
          "specialty wines champagnes",
          "spices seasonings",
          "spirits",
          "spreads",
          "tea",
          "tofu meat alternatives",
          "tortillas flat bread",
          "trail mix snack mix",
          "trash bags liners",
          "vitamins supplements",
          "water seltzer sparkling water",
          "white wines",
          "yogurt",
          "alcohol",
          "babies",
          "bakery",
          "beverages",
          "breakfast",
          "bulk",
          "canned goods",
          "dairy eggs",
          "deli",
          "dry goods pasta",
          "frozen",
          "household",
          "international",
          "meat seafood",
          "missing",
          "other",
          "pantry",
          "personal care",
          "pets",
          "produce",
          "snacks"
         ],
         "name": "",
         "parents": [
          "household",
          "international",
          "babies",
          "babies",
          "babies",
          "bakery",
          "pantry",
          "pantry",
          "personal care",
          "alcohol",
          "personal care",
          "bakery",
          "bakery",
          "breakfast",
          "bulk",
          "bulk",
          "bakery",
          "dairy eggs",
          "snacks",
          "canned goods",
          "canned goods",
          "canned goods",
          "canned goods",
          "pets",
          "breakfast",
          "snacks",
          "household",
          "beverages",
          "beverages",
          "personal care",
          "pantry",
          "snacks",
          "snacks",
          "dairy eggs",
          "personal care",
          "babies",
          "personal care",
          "household",
          "pets",
          "pantry",
          "dry goods pasta",
          "dairy eggs",
          "snacks",
          "beverages",
          "personal care",
          "personal care",
          "personal care",
          "personal care",
          "household",
          "deli",
          "produce",
          "produce",
          "dry goods pasta",
          "produce",
          "frozen",
          "frozen",
          "frozen",
          "frozen",
          "frozen",
          "frozen",
          "frozen",
          "frozen",
          "frozen",
          "frozen",
          "snacks",
          "dry goods pasta",
          "breakfast",
          "personal care",
          "pantry",
          "breakfast",
          "meat seafood",
          "frozen",
          "snacks",
          "international",
          "dry goods pasta",
          "beverages",
          "household",
          "international",
          "international",
          "household",
          "deli",
          "pantry",
          "meat seafood",
          "dairy eggs",
          "snacks",
          "missing",
          "household",
          "personal care",
          "snacks",
          "pantry",
          "personal care",
          "other",
          "dairy eggs",
          "dairy eggs",
          "meat seafood",
          "meat seafood",
          "produce",
          "meat seafood",
          "produce",
          "household",
          "dry goods pasta",
          "pantry",
          "household",
          "snacks",
          "meat seafood",
          "deli",
          "deli",
          "pantry",
          "personal care",
          "alcohol",
          "beverages",
          "dairy eggs",
          "pantry",
          "meat seafood",
          "personal care",
          "personal care",
          "personal care",
          "beverages",
          "canned goods",
          "dairy eggs",
          "dairy eggs",
          "alcohol",
          "pantry",
          "alcohol",
          "pantry",
          "beverages",
          "deli",
          "bakery",
          "snacks",
          "household",
          "personal care",
          "beverages",
          "alcohol",
          "dairy eggs",
          "",
          "",
          "",
          "",
          "",
          "",
          "",
          "",
          "",
          "",
          "",
          "",
          "",
          "",
          "",
          "",
          "",
          "",
          "",
          "",
          ""
         ],
         "type": "treemap",
         "values": [
          19851,
          166607,
          8160,
          8581,
          382456,
          34871,
          326692,
          23692,
          6168,
          48657,
          40768,
          584834,
          250770,
          71860,
          17368,
          17205,
          113015,
          254317,
          300567,
          87197,
          297037,
          270314,
          67046,
          63421,
          377586,
          722470,
          118477,
          21214,
          207075,
          26061,
          222049,
          234065,
          458838,
          318002,
          14815,
          24605,
          26873,
          94927,
          34303,
          106089,
          266637,
          452134,
          456386,
          103615,
          8974,
          12169,
          19753,
          10872,
          65946,
          355685,
          3642188,
          377741,
          36727,
          3418021,
          194582,
          40208,
          232763,
          19319,
          4853,
          390299,
          71742,
          162218,
          522654,
          99369,
          175757,
          144189,
          101959,
          32013,
          66926,
          158164,
          305655,
          498425,
          11202,
          15901,
          200687,
          333933,
          9172,
          11798,
          74947,
          94354,
          395130,
          62510,
          70887,
          891015,
          22664,
          69145,
          17514,
          18683,
          306487,
          245466,
          63749,
          36291,
          308007,
          979763,
          33865,
          118437,
          276028,
          20931,
          1765313,
          242996,
          218387,
          112639,
          43348,
          163524,
          129514,
          99032,
          71928,
          108691,
          36599,
          35181,
          575881,
          37691,
          99331,
          29642,
          10344,
          10164,
          64059,
          357537,
          346464,
          638253,
          82491,
          11198,
          212092,
          28102,
          289400,
          249341,
          129474,
          193297,
          35590,
          32081,
          45059,
          841533,
          30558,
          1452343,
          153696,
          423802,
          1176787,
          2690129,
          709569,
          34573,
          1068058,
          5414016,
          1051249,
          866627,
          2236432,
          738666,
          269253,
          708931,
          69145,
          36291,
          1875577,
          447123,
          97724,
          9479291,
          2887550
         ]
        }
       ],
       "layout": {
        "height": 800,
        "legend": {
         "tracegroupgap": 0
        },
        "margin": {
         "b": 40,
         "l": 0,
         "r": 0,
         "t": 40
        },
        "template": {
         "data": {
          "bar": [
           {
            "error_x": {
             "color": "#2a3f5f"
            },
            "error_y": {
             "color": "#2a3f5f"
            },
            "marker": {
             "line": {
              "color": "#E5ECF6",
              "width": 0.5
             },
             "pattern": {
              "fillmode": "overlay",
              "size": 10,
              "solidity": 0.2
             }
            },
            "type": "bar"
           }
          ],
          "barpolar": [
           {
            "marker": {
             "line": {
              "color": "#E5ECF6",
              "width": 0.5
             },
             "pattern": {
              "fillmode": "overlay",
              "size": 10,
              "solidity": 0.2
             }
            },
            "type": "barpolar"
           }
          ],
          "carpet": [
           {
            "aaxis": {
             "endlinecolor": "#2a3f5f",
             "gridcolor": "white",
             "linecolor": "white",
             "minorgridcolor": "white",
             "startlinecolor": "#2a3f5f"
            },
            "baxis": {
             "endlinecolor": "#2a3f5f",
             "gridcolor": "white",
             "linecolor": "white",
             "minorgridcolor": "white",
             "startlinecolor": "#2a3f5f"
            },
            "type": "carpet"
           }
          ],
          "choropleth": [
           {
            "colorbar": {
             "outlinewidth": 0,
             "ticks": ""
            },
            "type": "choropleth"
           }
          ],
          "contour": [
           {
            "colorbar": {
             "outlinewidth": 0,
             "ticks": ""
            },
            "colorscale": [
             [
              0,
              "#0d0887"
             ],
             [
              0.1111111111111111,
              "#46039f"
             ],
             [
              0.2222222222222222,
              "#7201a8"
             ],
             [
              0.3333333333333333,
              "#9c179e"
             ],
             [
              0.4444444444444444,
              "#bd3786"
             ],
             [
              0.5555555555555556,
              "#d8576b"
             ],
             [
              0.6666666666666666,
              "#ed7953"
             ],
             [
              0.7777777777777778,
              "#fb9f3a"
             ],
             [
              0.8888888888888888,
              "#fdca26"
             ],
             [
              1,
              "#f0f921"
             ]
            ],
            "type": "contour"
           }
          ],
          "contourcarpet": [
           {
            "colorbar": {
             "outlinewidth": 0,
             "ticks": ""
            },
            "type": "contourcarpet"
           }
          ],
          "heatmap": [
           {
            "colorbar": {
             "outlinewidth": 0,
             "ticks": ""
            },
            "colorscale": [
             [
              0,
              "#0d0887"
             ],
             [
              0.1111111111111111,
              "#46039f"
             ],
             [
              0.2222222222222222,
              "#7201a8"
             ],
             [
              0.3333333333333333,
              "#9c179e"
             ],
             [
              0.4444444444444444,
              "#bd3786"
             ],
             [
              0.5555555555555556,
              "#d8576b"
             ],
             [
              0.6666666666666666,
              "#ed7953"
             ],
             [
              0.7777777777777778,
              "#fb9f3a"
             ],
             [
              0.8888888888888888,
              "#fdca26"
             ],
             [
              1,
              "#f0f921"
             ]
            ],
            "type": "heatmap"
           }
          ],
          "heatmapgl": [
           {
            "colorbar": {
             "outlinewidth": 0,
             "ticks": ""
            },
            "colorscale": [
             [
              0,
              "#0d0887"
             ],
             [
              0.1111111111111111,
              "#46039f"
             ],
             [
              0.2222222222222222,
              "#7201a8"
             ],
             [
              0.3333333333333333,
              "#9c179e"
             ],
             [
              0.4444444444444444,
              "#bd3786"
             ],
             [
              0.5555555555555556,
              "#d8576b"
             ],
             [
              0.6666666666666666,
              "#ed7953"
             ],
             [
              0.7777777777777778,
              "#fb9f3a"
             ],
             [
              0.8888888888888888,
              "#fdca26"
             ],
             [
              1,
              "#f0f921"
             ]
            ],
            "type": "heatmapgl"
           }
          ],
          "histogram": [
           {
            "marker": {
             "pattern": {
              "fillmode": "overlay",
              "size": 10,
              "solidity": 0.2
             }
            },
            "type": "histogram"
           }
          ],
          "histogram2d": [
           {
            "colorbar": {
             "outlinewidth": 0,
             "ticks": ""
            },
            "colorscale": [
             [
              0,
              "#0d0887"
             ],
             [
              0.1111111111111111,
              "#46039f"
             ],
             [
              0.2222222222222222,
              "#7201a8"
             ],
             [
              0.3333333333333333,
              "#9c179e"
             ],
             [
              0.4444444444444444,
              "#bd3786"
             ],
             [
              0.5555555555555556,
              "#d8576b"
             ],
             [
              0.6666666666666666,
              "#ed7953"
             ],
             [
              0.7777777777777778,
              "#fb9f3a"
             ],
             [
              0.8888888888888888,
              "#fdca26"
             ],
             [
              1,
              "#f0f921"
             ]
            ],
            "type": "histogram2d"
           }
          ],
          "histogram2dcontour": [
           {
            "colorbar": {
             "outlinewidth": 0,
             "ticks": ""
            },
            "colorscale": [
             [
              0,
              "#0d0887"
             ],
             [
              0.1111111111111111,
              "#46039f"
             ],
             [
              0.2222222222222222,
              "#7201a8"
             ],
             [
              0.3333333333333333,
              "#9c179e"
             ],
             [
              0.4444444444444444,
              "#bd3786"
             ],
             [
              0.5555555555555556,
              "#d8576b"
             ],
             [
              0.6666666666666666,
              "#ed7953"
             ],
             [
              0.7777777777777778,
              "#fb9f3a"
             ],
             [
              0.8888888888888888,
              "#fdca26"
             ],
             [
              1,
              "#f0f921"
             ]
            ],
            "type": "histogram2dcontour"
           }
          ],
          "mesh3d": [
           {
            "colorbar": {
             "outlinewidth": 0,
             "ticks": ""
            },
            "type": "mesh3d"
           }
          ],
          "parcoords": [
           {
            "line": {
             "colorbar": {
              "outlinewidth": 0,
              "ticks": ""
             }
            },
            "type": "parcoords"
           }
          ],
          "pie": [
           {
            "automargin": true,
            "type": "pie"
           }
          ],
          "scatter": [
           {
            "marker": {
             "colorbar": {
              "outlinewidth": 0,
              "ticks": ""
             }
            },
            "type": "scatter"
           }
          ],
          "scatter3d": [
           {
            "line": {
             "colorbar": {
              "outlinewidth": 0,
              "ticks": ""
             }
            },
            "marker": {
             "colorbar": {
              "outlinewidth": 0,
              "ticks": ""
             }
            },
            "type": "scatter3d"
           }
          ],
          "scattercarpet": [
           {
            "marker": {
             "colorbar": {
              "outlinewidth": 0,
              "ticks": ""
             }
            },
            "type": "scattercarpet"
           }
          ],
          "scattergeo": [
           {
            "marker": {
             "colorbar": {
              "outlinewidth": 0,
              "ticks": ""
             }
            },
            "type": "scattergeo"
           }
          ],
          "scattergl": [
           {
            "marker": {
             "colorbar": {
              "outlinewidth": 0,
              "ticks": ""
             }
            },
            "type": "scattergl"
           }
          ],
          "scattermapbox": [
           {
            "marker": {
             "colorbar": {
              "outlinewidth": 0,
              "ticks": ""
             }
            },
            "type": "scattermapbox"
           }
          ],
          "scatterpolar": [
           {
            "marker": {
             "colorbar": {
              "outlinewidth": 0,
              "ticks": ""
             }
            },
            "type": "scatterpolar"
           }
          ],
          "scatterpolargl": [
           {
            "marker": {
             "colorbar": {
              "outlinewidth": 0,
              "ticks": ""
             }
            },
            "type": "scatterpolargl"
           }
          ],
          "scatterternary": [
           {
            "marker": {
             "colorbar": {
              "outlinewidth": 0,
              "ticks": ""
             }
            },
            "type": "scatterternary"
           }
          ],
          "surface": [
           {
            "colorbar": {
             "outlinewidth": 0,
             "ticks": ""
            },
            "colorscale": [
             [
              0,
              "#0d0887"
             ],
             [
              0.1111111111111111,
              "#46039f"
             ],
             [
              0.2222222222222222,
              "#7201a8"
             ],
             [
              0.3333333333333333,
              "#9c179e"
             ],
             [
              0.4444444444444444,
              "#bd3786"
             ],
             [
              0.5555555555555556,
              "#d8576b"
             ],
             [
              0.6666666666666666,
              "#ed7953"
             ],
             [
              0.7777777777777778,
              "#fb9f3a"
             ],
             [
              0.8888888888888888,
              "#fdca26"
             ],
             [
              1,
              "#f0f921"
             ]
            ],
            "type": "surface"
           }
          ],
          "table": [
           {
            "cells": {
             "fill": {
              "color": "#EBF0F8"
             },
             "line": {
              "color": "white"
             }
            },
            "header": {
             "fill": {
              "color": "#C8D4E3"
             },
             "line": {
              "color": "white"
             }
            },
            "type": "table"
           }
          ]
         },
         "layout": {
          "annotationdefaults": {
           "arrowcolor": "#2a3f5f",
           "arrowhead": 0,
           "arrowwidth": 1
          },
          "autotypenumbers": "strict",
          "coloraxis": {
           "colorbar": {
            "outlinewidth": 0,
            "ticks": ""
           }
          },
          "colorscale": {
           "diverging": [
            [
             0,
             "#8e0152"
            ],
            [
             0.1,
             "#c51b7d"
            ],
            [
             0.2,
             "#de77ae"
            ],
            [
             0.3,
             "#f1b6da"
            ],
            [
             0.4,
             "#fde0ef"
            ],
            [
             0.5,
             "#f7f7f7"
            ],
            [
             0.6,
             "#e6f5d0"
            ],
            [
             0.7,
             "#b8e186"
            ],
            [
             0.8,
             "#7fbc41"
            ],
            [
             0.9,
             "#4d9221"
            ],
            [
             1,
             "#276419"
            ]
           ],
           "sequential": [
            [
             0,
             "#0d0887"
            ],
            [
             0.1111111111111111,
             "#46039f"
            ],
            [
             0.2222222222222222,
             "#7201a8"
            ],
            [
             0.3333333333333333,
             "#9c179e"
            ],
            [
             0.4444444444444444,
             "#bd3786"
            ],
            [
             0.5555555555555556,
             "#d8576b"
            ],
            [
             0.6666666666666666,
             "#ed7953"
            ],
            [
             0.7777777777777778,
             "#fb9f3a"
            ],
            [
             0.8888888888888888,
             "#fdca26"
            ],
            [
             1,
             "#f0f921"
            ]
           ],
           "sequentialminus": [
            [
             0,
             "#0d0887"
            ],
            [
             0.1111111111111111,
             "#46039f"
            ],
            [
             0.2222222222222222,
             "#7201a8"
            ],
            [
             0.3333333333333333,
             "#9c179e"
            ],
            [
             0.4444444444444444,
             "#bd3786"
            ],
            [
             0.5555555555555556,
             "#d8576b"
            ],
            [
             0.6666666666666666,
             "#ed7953"
            ],
            [
             0.7777777777777778,
             "#fb9f3a"
            ],
            [
             0.8888888888888888,
             "#fdca26"
            ],
            [
             1,
             "#f0f921"
            ]
           ]
          },
          "colorway": [
           "#636efa",
           "#EF553B",
           "#00cc96",
           "#ab63fa",
           "#FFA15A",
           "#19d3f3",
           "#FF6692",
           "#B6E880",
           "#FF97FF",
           "#FECB52"
          ],
          "font": {
           "color": "#2a3f5f"
          },
          "geo": {
           "bgcolor": "white",
           "lakecolor": "white",
           "landcolor": "#E5ECF6",
           "showlakes": true,
           "showland": true,
           "subunitcolor": "white"
          },
          "hoverlabel": {
           "align": "left"
          },
          "hovermode": "closest",
          "mapbox": {
           "style": "light"
          },
          "paper_bgcolor": "white",
          "plot_bgcolor": "#E5ECF6",
          "polar": {
           "angularaxis": {
            "gridcolor": "white",
            "linecolor": "white",
            "ticks": ""
           },
           "bgcolor": "#E5ECF6",
           "radialaxis": {
            "gridcolor": "white",
            "linecolor": "white",
            "ticks": ""
           }
          },
          "scene": {
           "xaxis": {
            "backgroundcolor": "#E5ECF6",
            "gridcolor": "white",
            "gridwidth": 2,
            "linecolor": "white",
            "showbackground": true,
            "ticks": "",
            "zerolinecolor": "white"
           },
           "yaxis": {
            "backgroundcolor": "#E5ECF6",
            "gridcolor": "white",
            "gridwidth": 2,
            "linecolor": "white",
            "showbackground": true,
            "ticks": "",
            "zerolinecolor": "white"
           },
           "zaxis": {
            "backgroundcolor": "#E5ECF6",
            "gridcolor": "white",
            "gridwidth": 2,
            "linecolor": "white",
            "showbackground": true,
            "ticks": "",
            "zerolinecolor": "white"
           }
          },
          "shapedefaults": {
           "line": {
            "color": "#2a3f5f"
           }
          },
          "ternary": {
           "aaxis": {
            "gridcolor": "white",
            "linecolor": "white",
            "ticks": ""
           },
           "baxis": {
            "gridcolor": "white",
            "linecolor": "white",
            "ticks": ""
           },
           "bgcolor": "#E5ECF6",
           "caxis": {
            "gridcolor": "white",
            "linecolor": "white",
            "ticks": ""
           }
          },
          "title": {
           "x": 0.05
          },
          "xaxis": {
           "automargin": true,
           "gridcolor": "white",
           "linecolor": "white",
           "ticks": "",
           "title": {
            "standoff": 15
           },
           "zerolinecolor": "white",
           "zerolinewidth": 2
          },
          "yaxis": {
           "automargin": true,
           "gridcolor": "white",
           "linecolor": "white",
           "ticks": "",
           "title": {
            "standoff": 15
           },
           "zerolinecolor": "white",
           "zerolinewidth": 2
          }
         }
        },
        "title": {
         "text": "Aisles Organized Within Departments"
        },
        "width": 1200
       }
      },
      "text/html": [
       "<div>                            <div id=\"3d69a4cc-a998-418d-91ca-ee26f3eb195a\" class=\"plotly-graph-div\" style=\"height:800px; width:1200px;\"></div>            <script type=\"text/javascript\">                require([\"plotly\"], function(Plotly) {                    window.PLOTLYENV=window.PLOTLYENV || {};                                    if (document.getElementById(\"3d69a4cc-a998-418d-91ca-ee26f3eb195a\")) {                    Plotly.newPlot(                        \"3d69a4cc-a998-418d-91ca-ee26f3eb195a\",                        [{\"branchvalues\":\"total\",\"domain\":{\"x\":[0.0,1.0],\"y\":[0.0,1.0]},\"hovertemplate\":\"labels=%{label}<br>count=%{value}<br>parent=%{parent}<br>id=%{id}<extra></extra>\",\"ids\":[\"household/air fresheners candles\",\"international/asian foods\",\"babies/baby accessories\",\"babies/baby bath body care\",\"babies/baby food formula\",\"bakery/bakery desserts\",\"pantry/baking ingredients\",\"pantry/baking supplies decor\",\"personal care/beauty\",\"alcohol/beers coolers\",\"personal care/body lotions soap\",\"bakery/bread\",\"bakery/breakfast bakery\",\"breakfast/breakfast bars pastries\",\"bulk/bulk dried fruits vegetables\",\"bulk/bulk grains rice dried goods\",\"bakery/buns rolls\",\"dairy eggs/butter\",\"snacks/candy chocolate\",\"canned goods/canned fruit applesauce\",\"canned goods/canned jarred vegetables\",\"canned goods/canned meals beans\",\"canned goods/canned meat seafood\",\"pets/cat food care\",\"breakfast/cereal\",\"snacks/chips pretzels\",\"household/cleaning products\",\"beverages/cocoa drink mixes\",\"beverages/coffee\",\"personal care/cold flu allergy\",\"pantry/condiments\",\"snacks/cookies cakes\",\"snacks/crackers\",\"dairy eggs/cream\",\"personal care/deodorants\",\"babies/diapers wipes\",\"personal care/digestion\",\"household/dish detergents\",\"pets/dog food care\",\"pantry/doughs gelatins bake mixes\",\"dry goods pasta/dry pasta\",\"dairy eggs/eggs\",\"snacks/energy granola bars\",\"beverages/energy sports drinks\",\"personal care/eye ear care\",\"personal care/facial care\",\"personal care/feminine care\",\"personal care/first aid\",\"household/food storage\",\"deli/fresh dips tapenades\",\"produce/fresh fruits\",\"produce/fresh herbs\",\"dry goods pasta/fresh pasta\",\"produce/fresh vegetables\",\"frozen/frozen appetizers sides\",\"frozen/frozen breads doughs\",\"frozen/frozen breakfast\",\"frozen/frozen dessert\",\"frozen/frozen juice\",\"frozen/frozen meals\",\"frozen/frozen meat seafood\",\"frozen/frozen pizza\",\"frozen/frozen produce\",\"frozen/frozen vegan vegetarian\",\"snacks/fruit vegetable snacks\",\"dry goods pasta/grains rice dried goods\",\"breakfast/granola\",\"personal care/hair care\",\"pantry/honeys syrups nectars\",\"breakfast/hot cereal pancake mixes\",\"meat seafood/hot dogs bacon sausage\",\"frozen/ice cream ice\",\"snacks/ice cream toppings\",\"international/indian foods\",\"dry goods pasta/instant foods\",\"beverages/juice nectars\",\"household/kitchen supplies\",\"international/kosher foods\",\"international/latino foods\",\"household/laundry\",\"deli/lunch meat\",\"pantry/marinades meat preparation\",\"meat seafood/meat counter\",\"dairy eggs/milk\",\"snacks/mint gum\",\"missing/missing\",\"household/more household\",\"personal care/muscles joints pain relief\",\"snacks/nuts seeds dried fruit\",\"pantry/oils vinegars\",\"personal care/oral hygiene\",\"other/other\",\"dairy eggs/other creams cheeses\",\"dairy eggs/packaged cheese\",\"meat seafood/packaged meat\",\"meat seafood/packaged poultry\",\"produce/packaged produce\",\"meat seafood/packaged seafood\",\"produce/packaged vegetables fruits\",\"household/paper goods\",\"dry goods pasta/pasta sauce\",\"pantry/pickled goods olives\",\"household/plates bowls cups flatware\",\"snacks/popcorn jerky\",\"meat seafood/poultry counter\",\"deli/prepared meals\",\"deli/prepared soups salads\",\"pantry/preserved dips spreads\",\"personal care/protein meal replacements\",\"alcohol/red wines\",\"beverages/refrigerated\",\"dairy eggs/refrigerated pudding desserts\",\"pantry/salad dressing toppings\",\"meat seafood/seafood counter\",\"personal care/shave needs\",\"personal care/skin care\",\"personal care/soap\",\"beverages/soft drinks\",\"canned goods/soup broth bouillon\",\"dairy eggs/soy lactosefree\",\"dairy eggs/specialty cheeses\",\"alcohol/specialty wines champagnes\",\"pantry/spices seasonings\",\"alcohol/spirits\",\"pantry/spreads\",\"beverages/tea\",\"deli/tofu meat alternatives\",\"bakery/tortillas flat bread\",\"snacks/trail mix snack mix\",\"household/trash bags liners\",\"personal care/vitamins supplements\",\"beverages/water seltzer sparkling water\",\"alcohol/white wines\",\"dairy eggs/yogurt\",\"alcohol\",\"babies\",\"bakery\",\"beverages\",\"breakfast\",\"bulk\",\"canned goods\",\"dairy eggs\",\"deli\",\"dry goods pasta\",\"frozen\",\"household\",\"international\",\"meat seafood\",\"missing\",\"other\",\"pantry\",\"personal care\",\"pets\",\"produce\",\"snacks\"],\"labels\":[\"air fresheners candles\",\"asian foods\",\"baby accessories\",\"baby bath body care\",\"baby food formula\",\"bakery desserts\",\"baking ingredients\",\"baking supplies decor\",\"beauty\",\"beers coolers\",\"body lotions soap\",\"bread\",\"breakfast bakery\",\"breakfast bars pastries\",\"bulk dried fruits vegetables\",\"bulk grains rice dried goods\",\"buns rolls\",\"butter\",\"candy chocolate\",\"canned fruit applesauce\",\"canned jarred vegetables\",\"canned meals beans\",\"canned meat seafood\",\"cat food care\",\"cereal\",\"chips pretzels\",\"cleaning products\",\"cocoa drink mixes\",\"coffee\",\"cold flu allergy\",\"condiments\",\"cookies cakes\",\"crackers\",\"cream\",\"deodorants\",\"diapers wipes\",\"digestion\",\"dish detergents\",\"dog food care\",\"doughs gelatins bake mixes\",\"dry pasta\",\"eggs\",\"energy granola bars\",\"energy sports drinks\",\"eye ear care\",\"facial care\",\"feminine care\",\"first aid\",\"food storage\",\"fresh dips tapenades\",\"fresh fruits\",\"fresh herbs\",\"fresh pasta\",\"fresh vegetables\",\"frozen appetizers sides\",\"frozen breads doughs\",\"frozen breakfast\",\"frozen dessert\",\"frozen juice\",\"frozen meals\",\"frozen meat seafood\",\"frozen pizza\",\"frozen produce\",\"frozen vegan vegetarian\",\"fruit vegetable snacks\",\"grains rice dried goods\",\"granola\",\"hair care\",\"honeys syrups nectars\",\"hot cereal pancake mixes\",\"hot dogs bacon sausage\",\"ice cream ice\",\"ice cream toppings\",\"indian foods\",\"instant foods\",\"juice nectars\",\"kitchen supplies\",\"kosher foods\",\"latino foods\",\"laundry\",\"lunch meat\",\"marinades meat preparation\",\"meat counter\",\"milk\",\"mint gum\",\"missing\",\"more household\",\"muscles joints pain relief\",\"nuts seeds dried fruit\",\"oils vinegars\",\"oral hygiene\",\"other\",\"other creams cheeses\",\"packaged cheese\",\"packaged meat\",\"packaged poultry\",\"packaged produce\",\"packaged seafood\",\"packaged vegetables fruits\",\"paper goods\",\"pasta sauce\",\"pickled goods olives\",\"plates bowls cups flatware\",\"popcorn jerky\",\"poultry counter\",\"prepared meals\",\"prepared soups salads\",\"preserved dips spreads\",\"protein meal replacements\",\"red wines\",\"refrigerated\",\"refrigerated pudding desserts\",\"salad dressing toppings\",\"seafood counter\",\"shave needs\",\"skin care\",\"soap\",\"soft drinks\",\"soup broth bouillon\",\"soy lactosefree\",\"specialty cheeses\",\"specialty wines champagnes\",\"spices seasonings\",\"spirits\",\"spreads\",\"tea\",\"tofu meat alternatives\",\"tortillas flat bread\",\"trail mix snack mix\",\"trash bags liners\",\"vitamins supplements\",\"water seltzer sparkling water\",\"white wines\",\"yogurt\",\"alcohol\",\"babies\",\"bakery\",\"beverages\",\"breakfast\",\"bulk\",\"canned goods\",\"dairy eggs\",\"deli\",\"dry goods pasta\",\"frozen\",\"household\",\"international\",\"meat seafood\",\"missing\",\"other\",\"pantry\",\"personal care\",\"pets\",\"produce\",\"snacks\"],\"name\":\"\",\"parents\":[\"household\",\"international\",\"babies\",\"babies\",\"babies\",\"bakery\",\"pantry\",\"pantry\",\"personal care\",\"alcohol\",\"personal care\",\"bakery\",\"bakery\",\"breakfast\",\"bulk\",\"bulk\",\"bakery\",\"dairy eggs\",\"snacks\",\"canned goods\",\"canned goods\",\"canned goods\",\"canned goods\",\"pets\",\"breakfast\",\"snacks\",\"household\",\"beverages\",\"beverages\",\"personal care\",\"pantry\",\"snacks\",\"snacks\",\"dairy eggs\",\"personal care\",\"babies\",\"personal care\",\"household\",\"pets\",\"pantry\",\"dry goods pasta\",\"dairy eggs\",\"snacks\",\"beverages\",\"personal care\",\"personal care\",\"personal care\",\"personal care\",\"household\",\"deli\",\"produce\",\"produce\",\"dry goods pasta\",\"produce\",\"frozen\",\"frozen\",\"frozen\",\"frozen\",\"frozen\",\"frozen\",\"frozen\",\"frozen\",\"frozen\",\"frozen\",\"snacks\",\"dry goods pasta\",\"breakfast\",\"personal care\",\"pantry\",\"breakfast\",\"meat seafood\",\"frozen\",\"snacks\",\"international\",\"dry goods pasta\",\"beverages\",\"household\",\"international\",\"international\",\"household\",\"deli\",\"pantry\",\"meat seafood\",\"dairy eggs\",\"snacks\",\"missing\",\"household\",\"personal care\",\"snacks\",\"pantry\",\"personal care\",\"other\",\"dairy eggs\",\"dairy eggs\",\"meat seafood\",\"meat seafood\",\"produce\",\"meat seafood\",\"produce\",\"household\",\"dry goods pasta\",\"pantry\",\"household\",\"snacks\",\"meat seafood\",\"deli\",\"deli\",\"pantry\",\"personal care\",\"alcohol\",\"beverages\",\"dairy eggs\",\"pantry\",\"meat seafood\",\"personal care\",\"personal care\",\"personal care\",\"beverages\",\"canned goods\",\"dairy eggs\",\"dairy eggs\",\"alcohol\",\"pantry\",\"alcohol\",\"pantry\",\"beverages\",\"deli\",\"bakery\",\"snacks\",\"household\",\"personal care\",\"beverages\",\"alcohol\",\"dairy eggs\",\"\",\"\",\"\",\"\",\"\",\"\",\"\",\"\",\"\",\"\",\"\",\"\",\"\",\"\",\"\",\"\",\"\",\"\",\"\",\"\",\"\"],\"type\":\"treemap\",\"values\":[19851,166607,8160,8581,382456,34871,326692,23692,6168,48657,40768,584834,250770,71860,17368,17205,113015,254317,300567,87197,297037,270314,67046,63421,377586,722470,118477,21214,207075,26061,222049,234065,458838,318002,14815,24605,26873,94927,34303,106089,266637,452134,456386,103615,8974,12169,19753,10872,65946,355685,3642188,377741,36727,3418021,194582,40208,232763,19319,4853,390299,71742,162218,522654,99369,175757,144189,101959,32013,66926,158164,305655,498425,11202,15901,200687,333933,9172,11798,74947,94354,395130,62510,70887,891015,22664,69145,17514,18683,306487,245466,63749,36291,308007,979763,33865,118437,276028,20931,1765313,242996,218387,112639,43348,163524,129514,99032,71928,108691,36599,35181,575881,37691,99331,29642,10344,10164,64059,357537,346464,638253,82491,11198,212092,28102,289400,249341,129474,193297,35590,32081,45059,841533,30558,1452343,153696,423802,1176787,2690129,709569,34573,1068058,5414016,1051249,866627,2236432,738666,269253,708931,69145,36291,1875577,447123,97724,9479291,2887550]}],                        {\"height\":800,\"legend\":{\"tracegroupgap\":0},\"margin\":{\"b\":40,\"l\":0,\"r\":0,\"t\":40},\"template\":{\"data\":{\"bar\":[{\"error_x\":{\"color\":\"#2a3f5f\"},\"error_y\":{\"color\":\"#2a3f5f\"},\"marker\":{\"line\":{\"color\":\"#E5ECF6\",\"width\":0.5},\"pattern\":{\"fillmode\":\"overlay\",\"size\":10,\"solidity\":0.2}},\"type\":\"bar\"}],\"barpolar\":[{\"marker\":{\"line\":{\"color\":\"#E5ECF6\",\"width\":0.5},\"pattern\":{\"fillmode\":\"overlay\",\"size\":10,\"solidity\":0.2}},\"type\":\"barpolar\"}],\"carpet\":[{\"aaxis\":{\"endlinecolor\":\"#2a3f5f\",\"gridcolor\":\"white\",\"linecolor\":\"white\",\"minorgridcolor\":\"white\",\"startlinecolor\":\"#2a3f5f\"},\"baxis\":{\"endlinecolor\":\"#2a3f5f\",\"gridcolor\":\"white\",\"linecolor\":\"white\",\"minorgridcolor\":\"white\",\"startlinecolor\":\"#2a3f5f\"},\"type\":\"carpet\"}],\"choropleth\":[{\"colorbar\":{\"outlinewidth\":0,\"ticks\":\"\"},\"type\":\"choropleth\"}],\"contour\":[{\"colorbar\":{\"outlinewidth\":0,\"ticks\":\"\"},\"colorscale\":[[0.0,\"#0d0887\"],[0.1111111111111111,\"#46039f\"],[0.2222222222222222,\"#7201a8\"],[0.3333333333333333,\"#9c179e\"],[0.4444444444444444,\"#bd3786\"],[0.5555555555555556,\"#d8576b\"],[0.6666666666666666,\"#ed7953\"],[0.7777777777777778,\"#fb9f3a\"],[0.8888888888888888,\"#fdca26\"],[1.0,\"#f0f921\"]],\"type\":\"contour\"}],\"contourcarpet\":[{\"colorbar\":{\"outlinewidth\":0,\"ticks\":\"\"},\"type\":\"contourcarpet\"}],\"heatmap\":[{\"colorbar\":{\"outlinewidth\":0,\"ticks\":\"\"},\"colorscale\":[[0.0,\"#0d0887\"],[0.1111111111111111,\"#46039f\"],[0.2222222222222222,\"#7201a8\"],[0.3333333333333333,\"#9c179e\"],[0.4444444444444444,\"#bd3786\"],[0.5555555555555556,\"#d8576b\"],[0.6666666666666666,\"#ed7953\"],[0.7777777777777778,\"#fb9f3a\"],[0.8888888888888888,\"#fdca26\"],[1.0,\"#f0f921\"]],\"type\":\"heatmap\"}],\"heatmapgl\":[{\"colorbar\":{\"outlinewidth\":0,\"ticks\":\"\"},\"colorscale\":[[0.0,\"#0d0887\"],[0.1111111111111111,\"#46039f\"],[0.2222222222222222,\"#7201a8\"],[0.3333333333333333,\"#9c179e\"],[0.4444444444444444,\"#bd3786\"],[0.5555555555555556,\"#d8576b\"],[0.6666666666666666,\"#ed7953\"],[0.7777777777777778,\"#fb9f3a\"],[0.8888888888888888,\"#fdca26\"],[1.0,\"#f0f921\"]],\"type\":\"heatmapgl\"}],\"histogram\":[{\"marker\":{\"pattern\":{\"fillmode\":\"overlay\",\"size\":10,\"solidity\":0.2}},\"type\":\"histogram\"}],\"histogram2d\":[{\"colorbar\":{\"outlinewidth\":0,\"ticks\":\"\"},\"colorscale\":[[0.0,\"#0d0887\"],[0.1111111111111111,\"#46039f\"],[0.2222222222222222,\"#7201a8\"],[0.3333333333333333,\"#9c179e\"],[0.4444444444444444,\"#bd3786\"],[0.5555555555555556,\"#d8576b\"],[0.6666666666666666,\"#ed7953\"],[0.7777777777777778,\"#fb9f3a\"],[0.8888888888888888,\"#fdca26\"],[1.0,\"#f0f921\"]],\"type\":\"histogram2d\"}],\"histogram2dcontour\":[{\"colorbar\":{\"outlinewidth\":0,\"ticks\":\"\"},\"colorscale\":[[0.0,\"#0d0887\"],[0.1111111111111111,\"#46039f\"],[0.2222222222222222,\"#7201a8\"],[0.3333333333333333,\"#9c179e\"],[0.4444444444444444,\"#bd3786\"],[0.5555555555555556,\"#d8576b\"],[0.6666666666666666,\"#ed7953\"],[0.7777777777777778,\"#fb9f3a\"],[0.8888888888888888,\"#fdca26\"],[1.0,\"#f0f921\"]],\"type\":\"histogram2dcontour\"}],\"mesh3d\":[{\"colorbar\":{\"outlinewidth\":0,\"ticks\":\"\"},\"type\":\"mesh3d\"}],\"parcoords\":[{\"line\":{\"colorbar\":{\"outlinewidth\":0,\"ticks\":\"\"}},\"type\":\"parcoords\"}],\"pie\":[{\"automargin\":true,\"type\":\"pie\"}],\"scatter\":[{\"marker\":{\"colorbar\":{\"outlinewidth\":0,\"ticks\":\"\"}},\"type\":\"scatter\"}],\"scatter3d\":[{\"line\":{\"colorbar\":{\"outlinewidth\":0,\"ticks\":\"\"}},\"marker\":{\"colorbar\":{\"outlinewidth\":0,\"ticks\":\"\"}},\"type\":\"scatter3d\"}],\"scattercarpet\":[{\"marker\":{\"colorbar\":{\"outlinewidth\":0,\"ticks\":\"\"}},\"type\":\"scattercarpet\"}],\"scattergeo\":[{\"marker\":{\"colorbar\":{\"outlinewidth\":0,\"ticks\":\"\"}},\"type\":\"scattergeo\"}],\"scattergl\":[{\"marker\":{\"colorbar\":{\"outlinewidth\":0,\"ticks\":\"\"}},\"type\":\"scattergl\"}],\"scattermapbox\":[{\"marker\":{\"colorbar\":{\"outlinewidth\":0,\"ticks\":\"\"}},\"type\":\"scattermapbox\"}],\"scatterpolar\":[{\"marker\":{\"colorbar\":{\"outlinewidth\":0,\"ticks\":\"\"}},\"type\":\"scatterpolar\"}],\"scatterpolargl\":[{\"marker\":{\"colorbar\":{\"outlinewidth\":0,\"ticks\":\"\"}},\"type\":\"scatterpolargl\"}],\"scatterternary\":[{\"marker\":{\"colorbar\":{\"outlinewidth\":0,\"ticks\":\"\"}},\"type\":\"scatterternary\"}],\"surface\":[{\"colorbar\":{\"outlinewidth\":0,\"ticks\":\"\"},\"colorscale\":[[0.0,\"#0d0887\"],[0.1111111111111111,\"#46039f\"],[0.2222222222222222,\"#7201a8\"],[0.3333333333333333,\"#9c179e\"],[0.4444444444444444,\"#bd3786\"],[0.5555555555555556,\"#d8576b\"],[0.6666666666666666,\"#ed7953\"],[0.7777777777777778,\"#fb9f3a\"],[0.8888888888888888,\"#fdca26\"],[1.0,\"#f0f921\"]],\"type\":\"surface\"}],\"table\":[{\"cells\":{\"fill\":{\"color\":\"#EBF0F8\"},\"line\":{\"color\":\"white\"}},\"header\":{\"fill\":{\"color\":\"#C8D4E3\"},\"line\":{\"color\":\"white\"}},\"type\":\"table\"}]},\"layout\":{\"annotationdefaults\":{\"arrowcolor\":\"#2a3f5f\",\"arrowhead\":0,\"arrowwidth\":1},\"autotypenumbers\":\"strict\",\"coloraxis\":{\"colorbar\":{\"outlinewidth\":0,\"ticks\":\"\"}},\"colorscale\":{\"diverging\":[[0,\"#8e0152\"],[0.1,\"#c51b7d\"],[0.2,\"#de77ae\"],[0.3,\"#f1b6da\"],[0.4,\"#fde0ef\"],[0.5,\"#f7f7f7\"],[0.6,\"#e6f5d0\"],[0.7,\"#b8e186\"],[0.8,\"#7fbc41\"],[0.9,\"#4d9221\"],[1,\"#276419\"]],\"sequential\":[[0.0,\"#0d0887\"],[0.1111111111111111,\"#46039f\"],[0.2222222222222222,\"#7201a8\"],[0.3333333333333333,\"#9c179e\"],[0.4444444444444444,\"#bd3786\"],[0.5555555555555556,\"#d8576b\"],[0.6666666666666666,\"#ed7953\"],[0.7777777777777778,\"#fb9f3a\"],[0.8888888888888888,\"#fdca26\"],[1.0,\"#f0f921\"]],\"sequentialminus\":[[0.0,\"#0d0887\"],[0.1111111111111111,\"#46039f\"],[0.2222222222222222,\"#7201a8\"],[0.3333333333333333,\"#9c179e\"],[0.4444444444444444,\"#bd3786\"],[0.5555555555555556,\"#d8576b\"],[0.6666666666666666,\"#ed7953\"],[0.7777777777777778,\"#fb9f3a\"],[0.8888888888888888,\"#fdca26\"],[1.0,\"#f0f921\"]]},\"colorway\":[\"#636efa\",\"#EF553B\",\"#00cc96\",\"#ab63fa\",\"#FFA15A\",\"#19d3f3\",\"#FF6692\",\"#B6E880\",\"#FF97FF\",\"#FECB52\"],\"font\":{\"color\":\"#2a3f5f\"},\"geo\":{\"bgcolor\":\"white\",\"lakecolor\":\"white\",\"landcolor\":\"#E5ECF6\",\"showlakes\":true,\"showland\":true,\"subunitcolor\":\"white\"},\"hoverlabel\":{\"align\":\"left\"},\"hovermode\":\"closest\",\"mapbox\":{\"style\":\"light\"},\"paper_bgcolor\":\"white\",\"plot_bgcolor\":\"#E5ECF6\",\"polar\":{\"angularaxis\":{\"gridcolor\":\"white\",\"linecolor\":\"white\",\"ticks\":\"\"},\"bgcolor\":\"#E5ECF6\",\"radialaxis\":{\"gridcolor\":\"white\",\"linecolor\":\"white\",\"ticks\":\"\"}},\"scene\":{\"xaxis\":{\"backgroundcolor\":\"#E5ECF6\",\"gridcolor\":\"white\",\"gridwidth\":2,\"linecolor\":\"white\",\"showbackground\":true,\"ticks\":\"\",\"zerolinecolor\":\"white\"},\"yaxis\":{\"backgroundcolor\":\"#E5ECF6\",\"gridcolor\":\"white\",\"gridwidth\":2,\"linecolor\":\"white\",\"showbackground\":true,\"ticks\":\"\",\"zerolinecolor\":\"white\"},\"zaxis\":{\"backgroundcolor\":\"#E5ECF6\",\"gridcolor\":\"white\",\"gridwidth\":2,\"linecolor\":\"white\",\"showbackground\":true,\"ticks\":\"\",\"zerolinecolor\":\"white\"}},\"shapedefaults\":{\"line\":{\"color\":\"#2a3f5f\"}},\"ternary\":{\"aaxis\":{\"gridcolor\":\"white\",\"linecolor\":\"white\",\"ticks\":\"\"},\"baxis\":{\"gridcolor\":\"white\",\"linecolor\":\"white\",\"ticks\":\"\"},\"bgcolor\":\"#E5ECF6\",\"caxis\":{\"gridcolor\":\"white\",\"linecolor\":\"white\",\"ticks\":\"\"}},\"title\":{\"x\":0.05},\"xaxis\":{\"automargin\":true,\"gridcolor\":\"white\",\"linecolor\":\"white\",\"ticks\":\"\",\"title\":{\"standoff\":15},\"zerolinecolor\":\"white\",\"zerolinewidth\":2},\"yaxis\":{\"automargin\":true,\"gridcolor\":\"white\",\"linecolor\":\"white\",\"ticks\":\"\",\"title\":{\"standoff\":15},\"zerolinecolor\":\"white\",\"zerolinewidth\":2}}},\"title\":{\"text\":\"Aisles Organized Within Departments\"},\"width\":1200},                        {\"responsive\": true}                    ).then(function(){\n",
       "                            \n",
       "var gd = document.getElementById('3d69a4cc-a998-418d-91ca-ee26f3eb195a');\n",
       "var x = new MutationObserver(function (mutations, observer) {{\n",
       "        var display = window.getComputedStyle(gd).display;\n",
       "        if (!display || display === 'none') {{\n",
       "            console.log([gd, 'removed!']);\n",
       "            Plotly.purge(gd);\n",
       "            observer.disconnect();\n",
       "        }}\n",
       "}});\n",
       "\n",
       "// Listen for the removal of the full notebook cells\n",
       "var notebookContainer = gd.closest('#notebook-container');\n",
       "if (notebookContainer) {{\n",
       "    x.observe(notebookContainer, {childList: true});\n",
       "}}\n",
       "\n",
       "// Listen for the clearing of the current output cell\n",
       "var outputEl = gd.closest('.output');\n",
       "if (outputEl) {{\n",
       "    x.observe(outputEl, {childList: true});\n",
       "}}\n",
       "\n",
       "                        })                };                });            </script>        </div>"
      ]
     },
     "metadata": {},
     "output_type": "display_data"
    }
   ],
   "source": [
    "aisle_count = order_products_prior_combined_products.groupby(['department', 'aisle']).size().reset_index(name='count')\n",
    "\n",
    "# Plot the treemap using plotly express\n",
    "fig = px.treemap(aisle_count, path=['department', 'aisle'], values='count')\n",
    "\n",
    "# Update layout for better visibility\n",
    "fig.update_layout(\n",
    "    title='Aisles Organized Within Departments',\n",
    "    width=1200,\n",
    "    height=800,\n",
    "    margin=dict(t=40, l=0, r=0, b=40),\n",
    ")\n",
    "\n",
    "fig.show()"
   ]
  },
  {
   "cell_type": "code",
   "execution_count": null,
   "id": "10693268",
   "metadata": {},
   "outputs": [],
   "source": []
  },
  {
   "cell_type": "code",
   "execution_count": 48,
   "id": "9b640aeb",
   "metadata": {},
   "outputs": [],
   "source": [
    "# Join order details to prior orders\n",
    "dt_orders_prior = pd.merge(orders[orders['eval_set'] == 'prior'], order_products_prior, on='order_id')\n",
    "\n",
    "\n",
    "# Summarise orders by product and hour\n",
    "dt_product_hour = dt_orders_prior.groupby(['product_id', 'order_hour_of_day']).size().reset_index(name='count')\n",
    "dt_product_sum = dt_orders_prior.groupby('product_id').size().reset_index(name='total')\n",
    "dt_product_hour = pd.merge(dt_product_hour, dt_product_sum, on='product_id')\n",
    "dt_product_hour['pcnt_orders'] = dt_product_hour['count'] / dt_product_hour['total']\n",
    "\n",
    "# Create summary of top 25 morning and afternoon products\n",
    "morning_products = dt_product_hour[(dt_product_hour['total'] > 3000) & (dt_product_hour['order_hour_of_day'].isin([9, 10, 11]))].nlargest(25, 'pcnt_orders')\n",
    "afternoon_products = dt_product_hour[(dt_product_hour['total'] > 3000) & (dt_product_hour['order_hour_of_day'].isin([15, 16, 17]))].nlargest(25, 'pcnt_orders')\n",
    "dt_product_hour_subset = pd.concat([morning_products, afternoon_products], ignore_index=True)\n",
    "\n",
    "# Merge on product description\n",
    "dt_product_hour_subset = pd.merge(dt_product_hour_subset[['product_id', 'pcnt_orders', 'order_hour_of_day']], products[['product_id', 'product_name']], on='product_id', how='left')\n",
    "\n",
    "# Extract summary of all data for those products\n",
    "dt_product_hour_subset2 = pd.merge(dt_product_hour_subset['product_id'], dt_product_hour, on='product_id', how='left')\n",
    "\n",
    "# Create a plot of the data\n",
    "lst_products = dt_product_hour_subset['product_id'].unique()"
   ]
  },
  {
   "cell_type": "code",
   "execution_count": 95,
   "id": "7af16649",
   "metadata": {},
   "outputs": [
    {
     "data": {
      "application/vnd.plotly.v1+json": {
       "config": {
        "plotlyServerURL": "https://plot.ly"
       },
       "data": [
        {
         "line": {
          "color": "rgba(7, 138, 31, 0.4)"
         },
         "mode": "lines",
         "type": "scatter",
         "x": [
          0,
          1,
          2,
          3,
          4,
          5,
          6,
          7,
          8,
          9,
          10,
          11,
          12,
          13,
          14,
          15,
          16,
          17,
          18,
          19,
          20,
          21,
          22,
          23,
          0,
          1,
          2,
          3,
          4,
          5,
          6,
          7,
          8,
          9,
          10,
          11,
          12,
          13,
          14,
          15,
          16,
          17,
          18,
          19,
          20,
          21,
          22,
          23
         ],
         "y": [
          0.4402224281742354,
          0.09267840593141798,
          0.09267840593141798,
          0.04633920296570899,
          0.11584800741427247,
          0.11584800741427247,
          0.5097312326227988,
          1.830398517145505,
          5.560704355885079,
          14.874884151992585,
          16.010194624652456,
          13.3920296570899,
          7.9240037071362375,
          8.294717330861909,
          7.57645968489342,
          7.761816496756256,
          6.209453197405004,
          3.7534754402224286,
          1.4828544949026876,
          0.8109360518999073,
          0.8804448563484708,
          0.7877664504170527,
          0.6950880444856349,
          0.7414272474513438,
          0.4402224281742354,
          0.09267840593141798,
          0.09267840593141798,
          0.04633920296570899,
          0.11584800741427247,
          0.11584800741427247,
          0.5097312326227988,
          1.830398517145505,
          5.560704355885079,
          14.874884151992585,
          16.010194624652456,
          13.3920296570899,
          7.9240037071362375,
          8.294717330861909,
          7.57645968489342,
          7.761816496756256,
          6.209453197405004,
          3.7534754402224286,
          1.4828544949026876,
          0.8109360518999073,
          0.8804448563484708,
          0.7877664504170527,
          0.6950880444856349,
          0.7414272474513438
         ]
        },
        {
         "line": {
          "color": "rgba(7, 138, 31, 0.4)"
         },
         "mode": "lines",
         "type": "scatter",
         "x": [
          0,
          1,
          2,
          3,
          4,
          5,
          6,
          7,
          8,
          9,
          10,
          11,
          12,
          13,
          14,
          15,
          16,
          17,
          18,
          19,
          20,
          21,
          22,
          23,
          0,
          1,
          2,
          3,
          4,
          5,
          6,
          7,
          8,
          9,
          10,
          11,
          12,
          13,
          14,
          15,
          16,
          17,
          18,
          19,
          20,
          21,
          22,
          23
         ],
         "y": [
          0.3785614664275752,
          0.2789400278940028,
          0.1394700139470014,
          0.11954572624028689,
          0.03984857541342897,
          0.09962143853357243,
          0.21916716477385934,
          1.235305837816298,
          5.200239091452481,
          14.385335724247858,
          15.600717274357443,
          11.45646543136083,
          8.268579398286512,
          8.846383741781231,
          8.388125124526798,
          7.790396493325363,
          6.5351663678023515,
          4.0047818290496116,
          1.8330344690177327,
          1.0360629607491532,
          1.0360629607491532,
          1.1755329746961547,
          1.0360629607491532,
          0.8965929468021518,
          0.3785614664275752,
          0.2789400278940028,
          0.1394700139470014,
          0.11954572624028689,
          0.03984857541342897,
          0.09962143853357243,
          0.21916716477385934,
          1.235305837816298,
          5.200239091452481,
          14.385335724247858,
          15.600717274357443,
          11.45646543136083,
          8.268579398286512,
          8.846383741781231,
          8.388125124526798,
          7.790396493325363,
          6.5351663678023515,
          4.0047818290496116,
          1.8330344690177327,
          1.0360629607491532,
          1.0360629607491532,
          1.1755329746961547,
          1.0360629607491532,
          0.8965929468021518
         ]
        },
        {
         "line": {
          "color": "rgba(7, 138, 31, 0.4)"
         },
         "mode": "lines",
         "type": "scatter",
         "x": [
          0,
          1,
          2,
          3,
          4,
          5,
          6,
          7,
          8,
          9,
          10,
          11,
          12,
          13,
          14,
          15,
          16,
          17,
          18,
          19,
          20,
          21,
          22,
          23,
          0,
          1,
          2,
          3,
          4,
          5,
          6,
          7,
          8,
          9,
          10,
          11,
          12,
          13,
          14,
          15,
          16,
          17,
          18,
          19,
          20,
          21,
          22,
          23
         ],
         "y": [
          0.36259253663695423,
          0.1510802235987309,
          0.08309412297930201,
          0.08309412297930201,
          0.09820214533917511,
          0.2266203353980964,
          0.46079468197612933,
          2.092461096842423,
          6.368031424686508,
          13.801178425744071,
          15.100468348693155,
          11.127058468046533,
          7.689983381175404,
          8.211210152591025,
          8.060129928992295,
          7.4633630457773075,
          6.534219670645112,
          3.56549327693005,
          2.115123130382233,
          1.2917359117691494,
          1.5334642695271188,
          1.5410182807070554,
          1.1255476658105454,
          0.9140353527723222,
          0.36259253663695423,
          0.1510802235987309,
          0.08309412297930201,
          0.08309412297930201,
          0.09820214533917511,
          0.2266203353980964,
          0.46079468197612933,
          2.092461096842423,
          6.368031424686508,
          13.801178425744071,
          15.100468348693155,
          11.127058468046533,
          7.689983381175404,
          8.211210152591025,
          8.060129928992295,
          7.4633630457773075,
          6.534219670645112,
          3.56549327693005,
          2.115123130382233,
          1.2917359117691494,
          1.5334642695271188,
          1.5410182807070554,
          1.1255476658105454,
          0.9140353527723222
         ]
        },
        {
         "line": {
          "color": "rgba(7, 138, 31, 0.4)"
         },
         "mode": "lines",
         "type": "scatter",
         "x": [
          0,
          1,
          2,
          3,
          4,
          5,
          6,
          7,
          8,
          9,
          10,
          11,
          12,
          13,
          14,
          15,
          16,
          17,
          18,
          19,
          20,
          21,
          22,
          23
         ],
         "y": [
          0.3088326127239036,
          0.20074119827053738,
          0.0926497838171711,
          0.030883261272390366,
          0.030883261272390366,
          0.0772081531809759,
          0.41692402717726995,
          2.1000617665225447,
          6.531809759110561,
          12.554045707226683,
          14.870290302655961,
          12.430512662137122,
          8.214947498455837,
          7.890673255095739,
          8.36936380481779,
          7.597282273008029,
          6.5626930203829525,
          4.29277331686226,
          2.1927115503397157,
          1.5596046942557134,
          1.0654725138974677,
          0.9573810994441012,
          0.8647313156269302,
          0.7875231624459543
         ]
        },
        {
         "line": {
          "color": "rgba(7, 138, 31, 0.4)"
         },
         "mode": "lines",
         "type": "scatter",
         "x": [
          0,
          1,
          2,
          3,
          4,
          5,
          6,
          7,
          8,
          9,
          10,
          11,
          12,
          13,
          14,
          15,
          16,
          17,
          18,
          19,
          20,
          21,
          22,
          23,
          0,
          1,
          2,
          3,
          4,
          5,
          6,
          7,
          8,
          9,
          10,
          11,
          12,
          13,
          14,
          15,
          16,
          17,
          18,
          19,
          20,
          21,
          22,
          23
         ],
         "y": [
          0.2734504474643686,
          0.190586675505469,
          0.04971826317533974,
          0.04971826317533974,
          0.09943652635067948,
          0.16572754391779915,
          0.381173351010938,
          1.9887305270135898,
          7.109711634073583,
          14.857474312230693,
          14.700033145508783,
          11.915810407689758,
          7.9880676168379185,
          8.079217765992707,
          7.855485581703679,
          7.954922108054359,
          6.629101756711965,
          3.93602916804773,
          1.731852833941001,
          0.944647000331455,
          0.8617832283725556,
          0.944647000331455,
          0.7954922108054359,
          0.49718263175339744,
          0.2734504474643686,
          0.190586675505469,
          0.04971826317533974,
          0.04971826317533974,
          0.09943652635067948,
          0.16572754391779915,
          0.381173351010938,
          1.9887305270135898,
          7.109711634073583,
          14.857474312230693,
          14.700033145508783,
          11.915810407689758,
          7.9880676168379185,
          8.079217765992707,
          7.855485581703679,
          7.954922108054359,
          6.629101756711965,
          3.93602916804773,
          1.731852833941001,
          0.944647000331455,
          0.8617832283725556,
          0.944647000331455,
          0.7954922108054359,
          0.49718263175339744
         ]
        },
        {
         "line": {
          "color": "rgba(7, 138, 31, 0.4)"
         },
         "mode": "lines",
         "type": "scatter",
         "x": [
          0,
          1,
          2,
          3,
          4,
          5,
          6,
          7,
          8,
          9,
          10,
          11,
          12,
          13,
          14,
          15,
          16,
          17,
          18,
          19,
          20,
          21,
          22,
          23
         ],
         "y": [
          0.3589375448671931,
          0.23929169657812877,
          0.23929169657812877,
          0.21536252692031585,
          0.0957166786312515,
          0.3110792055515674,
          0.5025125628140703,
          1.8186168939937783,
          6.365159128978225,
          13.304618329743958,
          14.668581000239293,
          12.969609954534578,
          8.758076094759511,
          8.183776022972003,
          7.6573342905001205,
          6.556592486240727,
          6.939459200765734,
          3.780808805934434,
          2.1296960995453458,
          1.3639626704953338,
          1.1246709739172052,
          1.0050251256281406,
          0.7896625987078248,
          0.6221584111031347
         ]
        },
        {
         "line": {
          "color": "rgba(7, 138, 31, 0.4)"
         },
         "mode": "lines",
         "type": "scatter",
         "x": [
          0,
          1,
          2,
          3,
          4,
          5,
          6,
          7,
          8,
          9,
          10,
          11,
          12,
          13,
          14,
          15,
          16,
          17,
          18,
          19,
          20,
          21,
          22,
          23,
          0,
          1,
          2,
          3,
          4,
          5,
          6,
          7,
          8,
          9,
          10,
          11,
          12,
          13,
          14,
          15,
          16,
          17,
          18,
          19,
          20,
          21,
          22,
          23
         ],
         "y": [
          0.27808676307007785,
          0.1946607341490545,
          0.1946607341490545,
          0.05561735261401557,
          0.027808676307007785,
          0.1946607341490545,
          0.6117908787541714,
          2.2246941045606228,
          7.007786429365963,
          14.293659621802002,
          14.599555061179087,
          12.486095661846495,
          9.17686318131257,
          7.341490545050055,
          7.675194660734149,
          6.979977753058954,
          6.256952169076752,
          3.6707452725250276,
          1.696329254727475,
          1.2513904338153505,
          1.1679644048943272,
          1.1679644048943272,
          0.7230255839822024,
          0.7230255839822024,
          0.27808676307007785,
          0.1946607341490545,
          0.1946607341490545,
          0.05561735261401557,
          0.027808676307007785,
          0.1946607341490545,
          0.6117908787541714,
          2.2246941045606228,
          7.007786429365963,
          14.293659621802002,
          14.599555061179087,
          12.486095661846495,
          9.17686318131257,
          7.341490545050055,
          7.675194660734149,
          6.979977753058954,
          6.256952169076752,
          3.6707452725250276,
          1.696329254727475,
          1.2513904338153505,
          1.1679644048943272,
          1.1679644048943272,
          0.7230255839822024,
          0.7230255839822024
         ]
        },
        {
         "line": {
          "color": "rgba(7, 138, 31, 0.4)"
         },
         "mode": "lines",
         "type": "scatter",
         "x": [
          0,
          1,
          2,
          3,
          4,
          5,
          6,
          7,
          8,
          9,
          10,
          11,
          12,
          13,
          14,
          15,
          16,
          17,
          18,
          19,
          20,
          21,
          22,
          23
         ],
         "y": [
          0.31233732431025507,
          0.15616866215512754,
          0.07808433107756377,
          0.026028110359187923,
          0.07808433107756377,
          0.15616866215512754,
          0.6507027589796981,
          2.1343050494534097,
          7.209786569495055,
          12.935970848516398,
          14.575741801145236,
          12.024986985944821,
          8.875585632483082,
          7.860489328474753,
          8.302967204580948,
          7.990629880270693,
          6.14263404476835,
          3.6179073399271213,
          2.1863612701717856,
          1.4055179593961478,
          0.8849557522123894,
          1.1452368558042685,
          0.7548152004164498,
          0.4945340968245705
         ]
        },
        {
         "line": {
          "color": "rgba(7, 138, 31, 0.4)"
         },
         "mode": "lines",
         "type": "scatter",
         "x": [
          0,
          1,
          2,
          3,
          4,
          5,
          6,
          7,
          8,
          9,
          10,
          11,
          12,
          13,
          14,
          15,
          16,
          17,
          18,
          19,
          20,
          21,
          22,
          23
         ],
         "y": [
          0.5181347150259068,
          0.17271157167530224,
          0.17271157167530224,
          0.07401924500370095,
          0.07401924500370095,
          0.22205773501110287,
          0.8142116950407106,
          2.1218850234394275,
          5.526770293609672,
          10.954848260547742,
          14.557118184061189,
          11.818406118924253,
          9.17838638045892,
          9.104367135455218,
          8.339501603750309,
          7.056501357019491,
          6.7357512953367875,
          3.4048852701702446,
          2.31926967678263,
          1.6284233900814211,
          1.8011349617567234,
          1.4803849000740192,
          1.0856155933876142,
          0.838884776708611
         ]
        },
        {
         "line": {
          "color": "rgba(7, 138, 31, 0.4)"
         },
         "mode": "lines",
         "type": "scatter",
         "x": [
          0,
          1,
          2,
          3,
          4,
          5,
          6,
          7,
          8,
          9,
          10,
          11,
          12,
          13,
          14,
          15,
          16,
          17,
          18,
          19,
          20,
          21,
          22,
          23
         ],
         "y": [
          0.4364996882145084,
          0.2909997921430056,
          0.1454998960715028,
          0.1662855955102889,
          0.08314279775514445,
          0.18707129494907504,
          0.4364996882145084,
          2.161712741633756,
          6.880066514238205,
          12.325919767200165,
          14.466846809395136,
          9.790064435668262,
          8.210351278320516,
          8.168779879442942,
          7.565994595718147,
          7.441280399085429,
          6.256495531074621,
          5.217210559135315,
          2.5774267304094782,
          2.016212845562253,
          1.7044273539804613,
          1.4757846601538143,
          1.2263562668883807,
          0.7690708792350863
         ]
        },
        {
         "line": {
          "color": "rgba(7, 138, 31, 0.4)"
         },
         "mode": "lines",
         "type": "scatter",
         "x": [
          0,
          1,
          2,
          3,
          4,
          5,
          6,
          7,
          8,
          9,
          10,
          11,
          12,
          13,
          14,
          15,
          16,
          17,
          18,
          19,
          20,
          21,
          22,
          23
         ],
         "y": [
          0.3707899886703059,
          0.20599443815016993,
          0.06179833144505098,
          0.09269749716757647,
          0.07209805335255948,
          0.10299721907508497,
          0.49438665156040784,
          1.8127510557214954,
          6.0356370377999795,
          13.605932639818723,
          14.399011226696878,
          11.72108353074467,
          8.21917808219178,
          8.208878360284272,
          8.280976413636832,
          8.198578638376762,
          6.3034298073952,
          3.9653929343907715,
          1.8333504995365124,
          1.4419610670511895,
          1.36986301369863,
          1.349263569883613,
          1.0711710783808837,
          0.7827788649706457
         ]
        },
        {
         "line": {
          "color": "rgba(7, 138, 31, 0.4)"
         },
         "mode": "lines",
         "type": "scatter",
         "x": [
          0,
          1,
          2,
          3,
          4,
          5,
          6,
          7,
          8,
          9,
          10,
          11,
          12,
          13,
          14,
          15,
          16,
          17,
          18,
          19,
          20,
          21,
          22,
          23
         ],
         "y": [
          0.34391837670526193,
          0.20635102602315716,
          0.16049524246245558,
          0.09171156712140319,
          0.0687836753410524,
          0.22927891780350795,
          0.8139401582024534,
          1.9717986931101685,
          7.279605640261377,
          13.48160036684627,
          14.307004470938898,
          11.65883297030838,
          8.19672131147541,
          7.875730826550499,
          8.047690014903129,
          7.34838931560243,
          6.224922618365241,
          4.0697007910122664,
          1.776911612977187,
          1.3986013986013985,
          1.1120027513470137,
          1.4444571821621002,
          1.1349306431273645,
          0.7566204287515763
         ]
        },
        {
         "line": {
          "color": "rgba(7, 138, 31, 0.4)"
         },
         "mode": "lines",
         "type": "scatter",
         "x": [
          0,
          1,
          2,
          3,
          4,
          5,
          6,
          7,
          8,
          9,
          10,
          11,
          12,
          13,
          14,
          15,
          16,
          17,
          18,
          19,
          20,
          21,
          22,
          23,
          0,
          1,
          2,
          3,
          4,
          5,
          6,
          7,
          8,
          9,
          10,
          11,
          12,
          13,
          14,
          15,
          16,
          17,
          18,
          19,
          20,
          21,
          22,
          23
         ],
         "y": [
          0.341948310139165,
          0.19880715705765406,
          0.15904572564612326,
          0.047713717693836984,
          0.0874751491053678,
          0.1749502982107356,
          0.7872763419483101,
          2.520874751491054,
          7.904572564612327,
          14.25844930417495,
          14.226640159045726,
          11.27634194831014,
          7.475149105367793,
          7.483101391650099,
          7.809145129224652,
          7.180914512922465,
          6.242544731610338,
          3.514910536779324,
          2.1789264413518885,
          1.3359840954274353,
          1.2882703777335984,
          1.4314115308151094,
          1.26441351888668,
          0.8111332007952287,
          0.341948310139165,
          0.19880715705765406,
          0.15904572564612326,
          0.047713717693836984,
          0.0874751491053678,
          0.1749502982107356,
          0.7872763419483101,
          2.520874751491054,
          7.904572564612327,
          14.25844930417495,
          14.226640159045726,
          11.27634194831014,
          7.475149105367793,
          7.483101391650099,
          7.809145129224652,
          7.180914512922465,
          6.242544731610338,
          3.514910536779324,
          2.1789264413518885,
          1.3359840954274353,
          1.2882703777335984,
          1.4314115308151094,
          1.26441351888668,
          0.8111332007952287
         ]
        },
        {
         "line": {
          "color": "rgba(7, 138, 31, 0.4)"
         },
         "mode": "lines",
         "type": "scatter",
         "x": [
          0,
          1,
          2,
          3,
          4,
          5,
          6,
          7,
          8,
          9,
          10,
          11,
          12,
          13,
          14,
          15,
          16,
          17,
          18,
          19,
          20,
          21,
          22,
          23,
          0,
          1,
          2,
          3,
          4,
          5,
          6,
          7,
          8,
          9,
          10,
          11,
          12,
          13,
          14,
          15,
          16,
          17,
          18,
          19,
          20,
          21,
          22,
          23
         ],
         "y": [
          0.6067677946324388,
          0.28004667444574094,
          0.21003500583430573,
          0.1633605600933489,
          0.09334889148191365,
          0.1633605600933489,
          0.6534422403733956,
          1.5635939323220536,
          6.18436406067678,
          13.978996499416569,
          14.189031505250876,
          11.481913652275379,
          8.5414235705951,
          7.631271878646441,
          8.331388564760793,
          7.187864644107352,
          6.231038506417736,
          4.177362893815636,
          2.2403733955659275,
          1.1435239206534422,
          1.0968494749124855,
          1.3302217036172694,
          1.5402567094515751,
          0.9801633605600932,
          0.6067677946324388,
          0.28004667444574094,
          0.21003500583430573,
          0.1633605600933489,
          0.09334889148191365,
          0.1633605600933489,
          0.6534422403733956,
          1.5635939323220536,
          6.18436406067678,
          13.978996499416569,
          14.189031505250876,
          11.481913652275379,
          8.5414235705951,
          7.631271878646441,
          8.331388564760793,
          7.187864644107352,
          6.231038506417736,
          4.177362893815636,
          2.2403733955659275,
          1.1435239206534422,
          1.0968494749124855,
          1.3302217036172694,
          1.5402567094515751,
          0.9801633605600932
         ]
        },
        {
         "line": {
          "color": "rgba(7, 138, 31, 0.4)"
         },
         "mode": "lines",
         "type": "scatter",
         "x": [
          0,
          1,
          2,
          3,
          4,
          5,
          6,
          7,
          8,
          9,
          10,
          11,
          12,
          13,
          14,
          15,
          16,
          17,
          18,
          19,
          20,
          21,
          22,
          23
         ],
         "y": [
          0.3856041131105398,
          0.2921243281140453,
          0.1635896237438654,
          0.07010983874737088,
          0.12853470437017994,
          0.2453844356157981,
          0.5141388174807198,
          2.150035054919374,
          6.613694788501986,
          12.351016592661837,
          14.138817480719796,
          12.152372049544285,
          8.646880112175742,
          9.196073849030146,
          8.506660434681,
          8.296330918438887,
          5.994391212900211,
          3.5989717223650386,
          1.7878008880579574,
          1.0867025005842488,
          1.1100724468333723,
          0.9815377424631924,
          0.9464828230895068,
          0.6426735218508998
         ]
        },
        {
         "line": {
          "color": "rgba(7, 138, 31, 0.4)"
         },
         "mode": "lines",
         "type": "scatter",
         "x": [
          0,
          1,
          2,
          3,
          4,
          5,
          6,
          7,
          8,
          9,
          10,
          11,
          12,
          13,
          14,
          15,
          16,
          17,
          18,
          19,
          20,
          21,
          22,
          23,
          0,
          1,
          2,
          3,
          4,
          5,
          6,
          7,
          8,
          9,
          10,
          11,
          12,
          13,
          14,
          15,
          16,
          17,
          18,
          19,
          20,
          21,
          22,
          23
         ],
         "y": [
          0.2387774594078319,
          0.11938872970391595,
          0.14326647564469913,
          0.04775549188156638,
          0.11938872970391595,
          0.2387774594078319,
          0.7402101241642789,
          2.9847182425978986,
          8.094555873925502,
          14.040114613180515,
          13.968481375358166,
          12.440305635148043,
          8.739255014326648,
          7.354345749761222,
          8.428844317096466,
          7.545367717287488,
          6.160458452722064,
          3.36676217765043,
          1.2177650429799427,
          0.8595988538681949,
          1.0983763132760267,
          0.8118433619866284,
          0.5491881566380133,
          0.6924546322827125,
          0.2387774594078319,
          0.11938872970391595,
          0.14326647564469913,
          0.04775549188156638,
          0.11938872970391595,
          0.2387774594078319,
          0.7402101241642789,
          2.9847182425978986,
          8.094555873925502,
          14.040114613180515,
          13.968481375358166,
          12.440305635148043,
          8.739255014326648,
          7.354345749761222,
          8.428844317096466,
          7.545367717287488,
          6.160458452722064,
          3.36676217765043,
          1.2177650429799427,
          0.8595988538681949,
          1.0983763132760267,
          0.8118433619866284,
          0.5491881566380133,
          0.6924546322827125
         ]
        },
        {
         "line": {
          "color": "rgba(7, 138, 31, 0.4)"
         },
         "mode": "lines",
         "type": "scatter",
         "x": [
          0,
          1,
          2,
          3,
          4,
          5,
          6,
          7,
          8,
          9,
          10,
          11,
          12,
          13,
          14,
          15,
          16,
          17,
          18,
          19,
          20,
          21,
          22,
          23
         ],
         "y": [
          0.41001610777566266,
          0.11714745936447504,
          0.08786059452335628,
          0.01464343242055938,
          0.08786059452335628,
          0.19036462146727193,
          0.541806999560697,
          1.9475765119343975,
          7.116708156391859,
          13.808756772587493,
          13.691609313223019,
          11.246156098989603,
          7.966027236784303,
          8.156391858251574,
          8.200322155513252,
          7.541367696588081,
          7.219212183335774,
          3.704788402401523,
          1.9329330795138382,
          1.273978620588666,
          1.435056377214819,
          1.4204129447942597,
          1.1861180260653097,
          0.7028847561868502
         ]
        },
        {
         "line": {
          "color": "rgba(255, 0, 0, 0.4)"
         },
         "mode": "lines",
         "type": "scatter",
         "x": [
          0,
          1,
          2,
          3,
          4,
          5,
          6,
          7,
          8,
          9,
          10,
          11,
          12,
          13,
          14,
          15,
          16,
          17,
          18,
          19,
          20,
          21,
          22,
          23
         ],
         "y": [
          0.34341782502044155,
          0.24529844644317253,
          0.11447260834014716,
          0.11447260834014716,
          0.17988552739165986,
          0.11447260834014716,
          0.4415372035977106,
          1.3082583810302535,
          3.0580539656582175,
          5.789043336058872,
          7.211774325429272,
          7.898609975470156,
          8.094848732624694,
          9.01062959934587,
          10.237121831561733,
          9.533932951757972,
          11.185609157808667,
          9.19051512673753,
          6.688470973017171,
          4.202780049059689,
          2.5020441537203597,
          1.2428454619787408,
          0.8340147179067866,
          0.45789043336058866
         ]
        },
        {
         "line": {
          "color": "rgba(255, 0, 0, 0.4)"
         },
         "mode": "lines",
         "type": "scatter",
         "x": [
          0,
          1,
          2,
          3,
          4,
          5,
          6,
          7,
          8,
          9,
          10,
          11,
          12,
          13,
          14,
          15,
          16,
          17,
          18,
          19,
          20,
          21,
          22,
          23,
          0,
          1,
          2,
          3,
          4,
          5,
          6,
          7,
          8,
          9,
          10,
          11,
          12,
          13,
          14,
          15,
          16,
          17,
          18,
          19,
          20,
          21,
          22,
          23
         ],
         "y": [
          0.2546689303904924,
          0.10914382731021101,
          0.14552510308028135,
          0.07276255154014068,
          0.09701673538685424,
          0.13339801115692457,
          0.26679602231384913,
          1.7463012369633761,
          3.783652680087315,
          5.954402134368179,
          7.737084647101625,
          8.294930875576037,
          8.440455978656319,
          9.325733689061364,
          10.235265583313122,
          10.647586708707252,
          10.878001455251031,
          7.882609750181907,
          6.027164685908319,
          3.686635944700461,
          1.8918263400436575,
          1.1520737327188941,
          0.8246422507882609,
          0.41232112539413046,
          0.2546689303904924,
          0.10914382731021101,
          0.14552510308028135,
          0.07276255154014068,
          0.09701673538685424,
          0.13339801115692457,
          0.26679602231384913,
          1.7463012369633761,
          3.783652680087315,
          5.954402134368179,
          7.737084647101625,
          8.294930875576037,
          8.440455978656319,
          9.325733689061364,
          10.235265583313122,
          10.647586708707252,
          10.878001455251031,
          7.882609750181907,
          6.027164685908319,
          3.686635944700461,
          1.8918263400436575,
          1.1520737327188941,
          0.8246422507882609,
          0.41232112539413046
         ]
        },
        {
         "line": {
          "color": "rgba(255, 0, 0, 0.4)"
         },
         "mode": "lines",
         "type": "scatter",
         "x": [
          0,
          1,
          2,
          3,
          4,
          5,
          6,
          7,
          8,
          9,
          10,
          11,
          12,
          13,
          14,
          15,
          16,
          17,
          18,
          19,
          20,
          21,
          22,
          23,
          0,
          1,
          2,
          3,
          4,
          5,
          6,
          7,
          8,
          9,
          10,
          11,
          12,
          13,
          14,
          15,
          16,
          17,
          18,
          19,
          20,
          21,
          22,
          23
         ],
         "y": [
          0.2514458134272064,
          0.025144581342720643,
          0.20115665074176514,
          0.07543374402816193,
          0.1257229067136032,
          0.15086748805632386,
          0.2765903947699271,
          1.3578073925069147,
          3.1430726678400807,
          5.7832537088257485,
          7.467940658788032,
          8.498868493839577,
          8.59944681921046,
          8.649735981895901,
          10.686447070656275,
          10.837314558712597,
          10.13326628111642,
          8.398290168468694,
          6.009554940910234,
          4.450590897661554,
          2.0618556701030926,
          1.2572290671360322,
          1.0309278350515463,
          0.5280362081971335,
          0.2514458134272064,
          0.025144581342720643,
          0.20115665074176514,
          0.07543374402816193,
          0.1257229067136032,
          0.15086748805632386,
          0.2765903947699271,
          1.3578073925069147,
          3.1430726678400807,
          5.7832537088257485,
          7.467940658788032,
          8.498868493839577,
          8.59944681921046,
          8.649735981895901,
          10.686447070656275,
          10.837314558712597,
          10.13326628111642,
          8.398290168468694,
          6.009554940910234,
          4.450590897661554,
          2.0618556701030926,
          1.2572290671360322,
          1.0309278350515463,
          0.5280362081971335
         ]
        },
        {
         "line": {
          "color": "rgba(255, 0, 0, 0.4)"
         },
         "mode": "lines",
         "type": "scatter",
         "x": [
          0,
          1,
          2,
          3,
          4,
          5,
          6,
          7,
          8,
          9,
          10,
          11,
          12,
          13,
          14,
          15,
          16,
          17,
          18,
          19,
          20,
          21,
          22,
          23
         ],
         "y": [
          0.9904258831297457,
          0.36315615714757343,
          0.4291845493562232,
          0.2641135688345989,
          0.29712776493892373,
          0.1650709805216243,
          0.2641135688345989,
          1.4856388246946188,
          2.707164080554638,
          4.721030042918455,
          6.140640475404425,
          7.461208319577419,
          8.088478045559592,
          6.932981181908221,
          7.8573786728293165,
          9.50808847804556,
          10.597556949488279,
          8.22053482997689,
          7.329151535160119,
          6.833938593595246,
          3.7306041597887094,
          2.5420931000330143,
          1.5846814130075932,
          1.4856388246946188
         ]
        },
        {
         "line": {
          "color": "rgba(255, 0, 0, 0.4)"
         },
         "mode": "lines",
         "type": "scatter",
         "x": [
          0,
          1,
          2,
          3,
          4,
          5,
          6,
          7,
          8,
          9,
          10,
          11,
          12,
          13,
          14,
          15,
          16,
          17,
          18,
          19,
          20,
          21,
          22,
          23
         ],
         "y": [
          0.38173142467620996,
          0.16359918200409,
          0.1226993865030675,
          0.1226993865030675,
          0.0681663258350375,
          0.35446489434219497,
          0.87252897068848,
          2.4403544648943423,
          4.444444444444445,
          6.516700749829585,
          7.934560327198365,
          8.316291751874575,
          7.934560327198365,
          9.161554192229039,
          9.461486025903204,
          10.374914792092707,
          9.52965235173824,
          7.2528970688479895,
          5.494205862304022,
          3.571915473755965,
          1.9768234492160874,
          1.8132242672119974,
          1.063394683026585,
          0.6271301976823449
         ]
        },
        {
         "line": {
          "color": "rgba(255, 0, 0, 0.4)"
         },
         "mode": "lines",
         "type": "scatter",
         "x": [
          0,
          1,
          2,
          3,
          4,
          5,
          6,
          7,
          8,
          9,
          10,
          11,
          12,
          13,
          14,
          15,
          16,
          17,
          18,
          19,
          20,
          21,
          22,
          23
         ],
         "y": [
          0.6162769621170927,
          0.38064165307232195,
          0.14500634402755122,
          0.1268805510241073,
          0.2356353090447707,
          0.18125793003443902,
          0.7431575131411999,
          1.8850824723581656,
          3.29889432662679,
          4.984593075947073,
          6.108392242160594,
          6.634040239260468,
          7.522204096429219,
          8.065977886532535,
          9.008519122711618,
          10.331702011963023,
          9.57041870581838,
          8.355990574587638,
          7.522204096429219,
          5.365234729019395,
          4.096429218778322,
          2.2838499184339316,
          1.595069784303063,
          0.9425412361790828
         ]
        },
        {
         "line": {
          "color": "rgba(255, 0, 0, 0.4)"
         },
         "mode": "lines",
         "type": "scatter",
         "x": [
          0,
          1,
          2,
          3,
          4,
          5,
          6,
          7,
          8,
          9,
          10,
          11,
          12,
          13,
          14,
          15,
          16,
          17,
          18,
          19,
          20,
          21,
          22,
          23
         ],
         "y": [
          0.2782071097372488,
          0.1545595054095827,
          0.061823802163833076,
          0.1545595054095827,
          0.12364760432766615,
          0.3400309119010819,
          0.4327666151468315,
          1.3292117465224111,
          3.153013910355487,
          6.398763523956723,
          8.65533230293663,
          8.098918083462133,
          8.778979907264297,
          8.964451313755797,
          9.45904173106646,
          9.211746522411127,
          10.324574961360124,
          8.315301391035549,
          5.7187017001545595,
          4.1731066460587325,
          2.689335394126739,
          1.5146831530139104,
          1.143740340030912,
          0.5255023183925811
         ]
        },
        {
         "line": {
          "color": "rgba(255, 0, 0, 0.4)"
         },
         "mode": "lines",
         "type": "scatter",
         "x": [
          0,
          1,
          2,
          3,
          4,
          5,
          6,
          7,
          8,
          9,
          10,
          11,
          12,
          13,
          14,
          15,
          16,
          17,
          18,
          19,
          20,
          21,
          22,
          23
         ],
         "y": [
          0.7158418923124805,
          0.3734827264239029,
          0.3112356053532524,
          0.24898848428260195,
          0.18674136321195145,
          0.12449424214130098,
          0.5913476501711796,
          1.9296607531901648,
          3.672580143168378,
          4.637410519763461,
          6.629318394024277,
          7.500778089013384,
          6.753812636165578,
          8.745720510426393,
          8.527855586679117,
          9.08807967631497,
          10.14628073451603,
          8.309990662931838,
          6.380329909741675,
          5.633364456893869,
          3.8593215063803297,
          2.3342670401493932,
          2.178649237472767,
          1.1204481792717087
         ]
        },
        {
         "line": {
          "color": "rgba(255, 0, 0, 0.4)"
         },
         "mode": "lines",
         "type": "scatter",
         "x": [
          0,
          1,
          2,
          3,
          4,
          5,
          6,
          7,
          8,
          9,
          10,
          11,
          12,
          13,
          14,
          15,
          16,
          17,
          18,
          19,
          20,
          21,
          22,
          23
         ],
         "y": [
          0.5199025182778229,
          0.4061738424045491,
          0.12997562956945571,
          0.06498781478472786,
          0.11372867587327376,
          0.2437043054427295,
          0.6661251015434606,
          1.9171405361494718,
          3.444354183590577,
          5.020308692120228,
          6.060113728675874,
          6.141348497156783,
          6.5962632006498785,
          8.334687246141348,
          8.51340373679935,
          8.724614134849716,
          10.138099106417545,
          8.75710804224208,
          8.17221770917953,
          6.807473598700244,
          3.9805036555645814,
          2.518277822908205,
          1.6734362307067425,
          1.0560519902518277
         ]
        },
        {
         "line": {
          "color": "rgba(255, 0, 0, 0.4)"
         },
         "mode": "lines",
         "type": "scatter",
         "x": [
          0,
          1,
          2,
          3,
          4,
          5,
          6,
          7,
          8,
          9,
          10,
          11,
          12,
          13,
          14,
          15,
          16,
          17,
          18,
          19,
          20,
          21,
          22,
          23,
          0,
          1,
          2,
          3,
          4,
          5,
          6,
          7,
          8,
          9,
          10,
          11,
          12,
          13,
          14,
          15,
          16,
          17,
          18,
          19,
          20,
          21,
          22,
          23
         ],
         "y": [
          0.260035754916301,
          0.1300178774581505,
          0.19502681618722573,
          0.11376564277588168,
          0.08126117341134406,
          0.16252234682268812,
          0.5850804485616773,
          1.5277100601332683,
          3.104176824313343,
          5.655777669429547,
          7.898586055582643,
          8.499918738826588,
          8.808711197789696,
          8.88997237120104,
          10.498943604745653,
          9.962619860230781,
          10.12514220705347,
          8.88997237120104,
          5.964570128392654,
          4.079310905249471,
          1.999024865919064,
          1.1539086624410857,
          0.9263773768893223,
          0.48756704046806437,
          0.260035754916301,
          0.1300178774581505,
          0.19502681618722573,
          0.11376564277588168,
          0.08126117341134406,
          0.16252234682268812,
          0.5850804485616773,
          1.5277100601332683,
          3.104176824313343,
          5.655777669429547,
          7.898586055582643,
          8.499918738826588,
          8.808711197789696,
          8.88997237120104,
          10.498943604745653,
          9.962619860230781,
          10.12514220705347,
          8.88997237120104,
          5.964570128392654,
          4.079310905249471,
          1.999024865919064,
          1.1539086624410857,
          0.9263773768893223,
          0.48756704046806437
         ]
        },
        {
         "line": {
          "color": "rgba(255, 0, 0, 0.4)"
         },
         "mode": "lines",
         "type": "scatter",
         "x": [
          0,
          1,
          2,
          3,
          4,
          5,
          6,
          7,
          8,
          9,
          10,
          11,
          12,
          13,
          14,
          15,
          16,
          17,
          18,
          19,
          20,
          21,
          22,
          23
         ],
         "y": [
          0.5087881591119334,
          0.13876040703052728,
          0.06938020351526364,
          0.13876040703052728,
          0.16188714153561518,
          0.20814061054579094,
          0.9481961147086031,
          1.6882516188714152,
          3.2377428307123033,
          4.6253469010175765,
          5.666049953746531,
          6.452358926919518,
          8.302497687326548,
          8.256244218316374,
          9.481961147086032,
          9.458834412580943,
          10.03700277520814,
          8.001850138760407,
          7.793709528214617,
          6.66049953746531,
          3.654024051803885,
          2.150786308973173,
          1.3876040703052728,
          0.971322849213691
         ]
        },
        {
         "line": {
          "color": "rgba(255, 0, 0, 0.4)"
         },
         "mode": "lines",
         "type": "scatter",
         "x": [
          0,
          1,
          2,
          3,
          4,
          5,
          6,
          7,
          8,
          9,
          10,
          11,
          12,
          13,
          14,
          15,
          16,
          17,
          18,
          19,
          20,
          21,
          22,
          23
         ],
         "y": [
          0.42043984476067264,
          0.22639068564036222,
          0.22639068564036222,
          0.129366106080207,
          0.09702457956015524,
          0.129366106080207,
          0.42043984476067264,
          2.522639068564036,
          4.624838292367399,
          6.144890038809832,
          7.179818887451487,
          8.635187580853817,
          8.570504527813712,
          8.473479948253559,
          9.120310478654591,
          10.025873221216042,
          9.087968952134542,
          7.826649417852523,
          6.3712807244501946,
          3.33117723156533,
          2.263906856403622,
          1.8758085381630014,
          1.390685640362225,
          0.9055627425614489
         ]
        },
        {
         "line": {
          "color": "rgba(255, 0, 0, 0.4)"
         },
         "mode": "lines",
         "type": "scatter",
         "x": [
          0,
          1,
          2,
          3,
          4,
          5,
          6,
          7,
          8,
          9,
          10,
          11,
          12,
          13,
          14,
          15,
          16,
          17,
          18,
          19,
          20,
          21,
          22,
          23
         ],
         "y": [
          0.5031818854521237,
          0.2959893443836022,
          0.20719254106852156,
          0.10359627053426078,
          0.17759360663016133,
          0.20719254106852156,
          0.5771792215480243,
          2.012727541808495,
          4.484238567411573,
          6.141778895959745,
          8.15450643776824,
          8.376498446055942,
          7.651324552316116,
          8.790883528192985,
          9.086872872576587,
          10.019239307384934,
          8.924078733165606,
          6.85215332248039,
          5.165014059493858,
          3.7886636081101077,
          3.1818854521237236,
          2.1459227467811157,
          2.012727541808495,
          1.1395589758768685
         ]
        },
        {
         "line": {
          "color": "rgba(255, 0, 0, 0.4)"
         },
         "mode": "lines",
         "type": "scatter",
         "x": [
          0,
          1,
          2,
          3,
          4,
          5,
          6,
          7,
          8,
          9,
          10,
          11,
          12,
          13,
          14,
          15,
          16,
          17,
          18,
          19,
          20,
          21,
          22,
          23
         ],
         "y": [
          0.6127450980392157,
          0.2801120448179272,
          0.10504201680672269,
          0.15756302521008403,
          0.08753501400560225,
          0.24509803921568626,
          0.9453781512605042,
          3.11624649859944,
          5.07703081232493,
          6.862745098039216,
          7.8431372549019605,
          8.403361344537815,
          8.6484593837535,
          8.368347338935573,
          8.735994397759104,
          9.943977591036415,
          8.22829131652661,
          5.777310924369748,
          4.709383753501401,
          3.361344537815126,
          3.046218487394958,
          2.275910364145658,
          2.083333333333333,
          1.0854341736694677
         ]
        },
        {
         "line": {
          "color": "rgba(255, 0, 0, 0.4)"
         },
         "mode": "lines",
         "type": "scatter",
         "x": [
          0,
          1,
          2,
          3,
          4,
          5,
          6,
          7,
          8,
          9,
          10,
          11,
          12,
          13,
          14,
          15,
          16,
          17,
          18,
          19,
          20,
          21,
          22,
          23
         ],
         "y": [
          0.7633587786259541,
          0.38167938931297707,
          0.16357688113413305,
          0.14540167211922936,
          0.16357688113413305,
          0.21810250817884408,
          0.5816066884769174,
          1.6357688113413305,
          3.307888040712468,
          5.779716466739368,
          6.143220647037441,
          6.906579425663395,
          7.142857142857142,
          8.415121773900399,
          8.596873864049437,
          9.923664122137405,
          9.269356597600872,
          8.451472191930206,
          6.924754634678298,
          6.343147946201381,
          3.8349691021446746,
          2.271901126862959,
          1.6175936023264268,
          1.0178117048346056
         ]
        },
        {
         "line": {
          "color": "rgba(255, 0, 0, 0.4)"
         },
         "mode": "lines",
         "type": "scatter",
         "x": [
          0,
          1,
          2,
          3,
          4,
          5,
          6,
          7,
          8,
          9,
          10,
          11,
          12,
          13,
          14,
          15,
          16,
          17,
          18,
          19,
          20,
          21,
          22,
          23
         ],
         "y": [
          0.6335529650278764,
          0.5575266092245312,
          0.2280790674100355,
          0.07602635580334516,
          0.12671059300557527,
          0.1773948302078054,
          0.4308160162189559,
          2.0273694880892044,
          4.257475924987329,
          7.095793208312215,
          8.286872782564622,
          8.945767866193615,
          8.514951849974658,
          8.362899138367967,
          8.413583375570198,
          9.908768373035985,
          8.743030917384694,
          6.538266599087683,
          4.206791687785099,
          3.3198175367460716,
          2.9903699949315765,
          2.7622909275215406,
          2.3061327927014696,
          1.0897110998479473
         ]
        },
        {
         "line": {
          "color": "rgba(255, 0, 0, 0.4)"
         },
         "mode": "lines",
         "type": "scatter",
         "x": [
          0,
          1,
          2,
          3,
          4,
          5,
          6,
          7,
          8,
          9,
          10,
          11,
          12,
          13,
          14,
          15,
          16,
          17,
          18,
          19,
          20,
          21,
          22,
          23
         ],
         "y": [
          0.7422402159244265,
          0.4048582995951417,
          0.21929824561403508,
          0.06747638326585695,
          0.1349527665317139,
          0.16869095816464239,
          0.4554655870445344,
          1.484480431848853,
          3.356950067476383,
          4.639001349527665,
          5.752361673414305,
          7.068151147098516,
          7.405533063427801,
          7.28744939271255,
          8.620107962213226,
          9.126180836707153,
          9.902159244264508,
          9.39608636977058,
          8.755060728744938,
          6.376518218623482,
          3.8798920377867745,
          2.2267206477732793,
          1.4676113360323886,
          1.0627530364372468
         ]
        },
        {
         "line": {
          "color": "rgba(255, 0, 0, 0.4)"
         },
         "mode": "lines",
         "type": "scatter",
         "x": [
          0,
          1,
          2,
          3,
          4,
          5,
          6,
          7,
          8,
          9,
          10,
          11,
          12,
          13,
          14,
          15,
          16,
          17,
          18,
          19,
          20,
          21,
          22,
          23
         ],
         "y": [
          0.734670810963549,
          0.3390788358293303,
          0.22605255721955356,
          0.11302627860977678,
          0.11302627860977678,
          0.31082226617688613,
          0.87595365922577,
          2.486578129415089,
          4.747103701610624,
          6.385984741452387,
          7.035885843458605,
          7.318451539983046,
          7.855326363379486,
          8.363944617123481,
          9.183385137044363,
          9.889799378355468,
          8.844306301215033,
          6.8380898558914955,
          4.775360271263069,
          4.1537157389092965,
          2.910426674201752,
          2.6561175473297545,
          2.204012432890647,
          1.6388810398417633
         ]
        },
        {
         "line": {
          "color": "rgba(255, 0, 0, 0.4)"
         },
         "mode": "lines",
         "type": "scatter",
         "x": [
          0,
          1,
          2,
          3,
          4,
          5,
          6,
          7,
          8,
          9,
          10,
          11,
          12,
          13,
          14,
          15,
          16,
          17,
          18,
          19,
          20,
          21,
          22,
          23
         ],
         "y": [
          0.6072315760419542,
          0.3036157880209771,
          0.1380071763731714,
          0.11040574109853712,
          0.08280430582390284,
          0.19321004692243998,
          0.6624344465912227,
          2.4013248688931825,
          4.195418161744411,
          6.624344465912227,
          6.955561689207839,
          8.915263593706872,
          8.611647805685896,
          8.528843499861994,
          9.053270770080044,
          9.881313828319072,
          7.756003312172233,
          7.397184653601988,
          5.54788849020149,
          4.526635385040022,
          3.0085564449351367,
          2.0425062103229368,
          1.766491857576594,
          0.6900358818658571
         ]
        },
        {
         "line": {
          "color": "rgba(255, 0, 0, 0.4)"
         },
         "mode": "lines",
         "type": "scatter",
         "x": [
          0,
          1,
          2,
          3,
          4,
          5,
          6,
          7,
          8,
          9,
          10,
          11,
          12,
          13,
          14,
          15,
          16,
          17,
          18,
          19,
          20,
          21,
          22,
          23
         ],
         "y": [
          0.6019151846785226,
          0.2188782489740082,
          0.1094391244870041,
          0.13679890560875513,
          0.1094391244870041,
          0.19151846785225718,
          0.6292749658002736,
          2.298221614227086,
          4.760601915184679,
          6.3201094391244865,
          8.180574555403556,
          8.207934336525307,
          8.563611491108071,
          8.891928864569083,
          8.180574555403556,
          9.849521203830369,
          8.946648426812585,
          7.46922024623803,
          5.389876880984952,
          4.049247606019152,
          2.6538987688098494,
          2.161422708618331,
          1.231190150478796,
          0.8481532147742818
         ]
        },
        {
         "line": {
          "color": "rgba(255, 0, 0, 0.4)"
         },
         "mode": "lines",
         "type": "scatter",
         "x": [
          0,
          1,
          2,
          3,
          4,
          5,
          6,
          7,
          8,
          9,
          10,
          11,
          12,
          13,
          14,
          15,
          16,
          17,
          18,
          19,
          20,
          21,
          22,
          23
         ],
         "y": [
          0.7269279393173199,
          0.31605562579013907,
          0.347661188369153,
          0.28445006321112515,
          0.18963337547408343,
          0.18963337547408343,
          0.9797724399494312,
          3.065739570164349,
          4.36156763590392,
          6.289506953223767,
          6.763590391908976,
          7.996207332490518,
          7.142857142857142,
          9.007585335018964,
          8.596713021491782,
          9.829329962073324,
          7.206068268015171,
          7.111251580278129,
          6.1946902654867255,
          4.551201011378002,
          3.2237673830594185,
          2.2439949431099877,
          1.8331226295828067,
          1.5486725663716814
         ]
        },
        {
         "line": {
          "color": "rgba(255, 0, 0, 0.4)"
         },
         "mode": "lines",
         "type": "scatter",
         "x": [
          0,
          1,
          2,
          3,
          4,
          5,
          6,
          7,
          8,
          9,
          10,
          11,
          12,
          13,
          14,
          15,
          16,
          17,
          18,
          19,
          20,
          21,
          22,
          23
         ],
         "y": [
          0.4609622587150677,
          0.14405070584845864,
          0.23048112935753384,
          0.08643042350907519,
          0.02881014116969173,
          0.23048112935753384,
          1.0371650821089022,
          2.362431575914722,
          5.589167386920195,
          6.885623739556324,
          7.951598962834917,
          7.893978680495535,
          8.354940939210602,
          8.556611927398444,
          8.700662633246903,
          9.82425813886488,
          7.8075482569864585,
          5.790838375108038,
          5.128205128205128,
          4.00460962258715,
          3.226735811005474,
          2.5064822817631804,
          2.2183808700662633,
          0.9795447997695189
         ]
        }
       ],
       "layout": {
        "annotations": [
         {
          "align": "left",
          "font": {
           "color": "rgb(7, 138, 31)",
           "family": "Arial",
           "size": 10
          },
          "showarrow": false,
          "text": "Pub Mix<br>Milk Chocolate Almonds<br>0% Greek Strained Yogurt<br>Pub Mix<br>Original Beef Jerky<br>Trail Mix<br>Trail Mix<br>Original Rice Krispies Treats<br>Nutri Grain Bars Multi Pack<br>Cheez-It Baked Snack Crackers<br>Orange & Lemon Flavor Variety Pack Sparkling Fruit Beverage<br>Zen Tea<br>Extra Fancy Unsalted Mixed Nuts<br>Milk Chocolate Almonds<br>Crunchy Oats 'n Honey Granola Bars<br>Nutri Grain Bars Multi Pack<br>Apples<br>Apples<br>Cheez-It Cheddar Cracker<br>Zero Calorie Cola<br>Sweet & Salty Nut Granola Bars Peanut<br>Cheez-It Cheddar Cracker<br>Sweet & Salty Nut Granola Bars Peanut<br>Popcorn<br>0% Greek Strained Yogurt",
          "x": -1,
          "xanchor": "left",
          "xref": "x",
          "y": 20,
          "yanchor": "top",
          "yref": "y"
         },
         {
          "align": "right",
          "font": {
           "color": "rgb(255, 0, 0)",
           "family": "Arial",
           "size": 10
          },
          "showarrow": false,
          "text": "Cabernet Sauvignon<br>Sauvignon Blanc<br>Pinot Noir<br>Sauvignon Blanc<br>Sicilian Pistachio<br>Original Rotisserie Chicken<br>Caramel Cookie Crunch Gelato<br>Pinot Grigio<br>Coconut Almond Minis Frozen Dessert Bars<br>Americone Dream® Ice Cream<br>Pinot Noir<br>Chardonnay<br>Chocolate Peanut Butter Cup Gelato<br>Fresh Ground Turkey<br>Organic Whole Crimini Mushrooms<br>Chardonnay<br>Sweet Potato Fries with Sea Salt<br>Mint Chip<br>Authentic Red Curry Paste<br>Half Baked® Ice Cream<br>Ripe Large Pitted Olives<br>Leafy Green Romaine Lettuce<br>Corn Maize Tortillas<br>Electrolyte Water<br>Red Bell Pepper",
          "x": 24,
          "xanchor": "right",
          "xref": "x",
          "y": 20,
          "yanchor": "top",
          "yref": "y"
         }
        ],
        "margin": {
         "b": 60,
         "l": 70,
         "r": 100
        },
        "shapes": [
         {
          "line": {
           "color": "rgb(211, 211, 211)",
           "dash": "dash"
          },
          "type": "line",
          "x0": 12,
          "x1": 12,
          "y0": 0,
          "y1": 100
         }
        ],
        "showlegend": false,
        "template": {
         "data": {
          "bar": [
           {
            "error_x": {
             "color": "#2a3f5f"
            },
            "error_y": {
             "color": "#2a3f5f"
            },
            "marker": {
             "line": {
              "color": "#E5ECF6",
              "width": 0.5
             },
             "pattern": {
              "fillmode": "overlay",
              "size": 10,
              "solidity": 0.2
             }
            },
            "type": "bar"
           }
          ],
          "barpolar": [
           {
            "marker": {
             "line": {
              "color": "#E5ECF6",
              "width": 0.5
             },
             "pattern": {
              "fillmode": "overlay",
              "size": 10,
              "solidity": 0.2
             }
            },
            "type": "barpolar"
           }
          ],
          "carpet": [
           {
            "aaxis": {
             "endlinecolor": "#2a3f5f",
             "gridcolor": "white",
             "linecolor": "white",
             "minorgridcolor": "white",
             "startlinecolor": "#2a3f5f"
            },
            "baxis": {
             "endlinecolor": "#2a3f5f",
             "gridcolor": "white",
             "linecolor": "white",
             "minorgridcolor": "white",
             "startlinecolor": "#2a3f5f"
            },
            "type": "carpet"
           }
          ],
          "choropleth": [
           {
            "colorbar": {
             "outlinewidth": 0,
             "ticks": ""
            },
            "type": "choropleth"
           }
          ],
          "contour": [
           {
            "colorbar": {
             "outlinewidth": 0,
             "ticks": ""
            },
            "colorscale": [
             [
              0,
              "#0d0887"
             ],
             [
              0.1111111111111111,
              "#46039f"
             ],
             [
              0.2222222222222222,
              "#7201a8"
             ],
             [
              0.3333333333333333,
              "#9c179e"
             ],
             [
              0.4444444444444444,
              "#bd3786"
             ],
             [
              0.5555555555555556,
              "#d8576b"
             ],
             [
              0.6666666666666666,
              "#ed7953"
             ],
             [
              0.7777777777777778,
              "#fb9f3a"
             ],
             [
              0.8888888888888888,
              "#fdca26"
             ],
             [
              1,
              "#f0f921"
             ]
            ],
            "type": "contour"
           }
          ],
          "contourcarpet": [
           {
            "colorbar": {
             "outlinewidth": 0,
             "ticks": ""
            },
            "type": "contourcarpet"
           }
          ],
          "heatmap": [
           {
            "colorbar": {
             "outlinewidth": 0,
             "ticks": ""
            },
            "colorscale": [
             [
              0,
              "#0d0887"
             ],
             [
              0.1111111111111111,
              "#46039f"
             ],
             [
              0.2222222222222222,
              "#7201a8"
             ],
             [
              0.3333333333333333,
              "#9c179e"
             ],
             [
              0.4444444444444444,
              "#bd3786"
             ],
             [
              0.5555555555555556,
              "#d8576b"
             ],
             [
              0.6666666666666666,
              "#ed7953"
             ],
             [
              0.7777777777777778,
              "#fb9f3a"
             ],
             [
              0.8888888888888888,
              "#fdca26"
             ],
             [
              1,
              "#f0f921"
             ]
            ],
            "type": "heatmap"
           }
          ],
          "heatmapgl": [
           {
            "colorbar": {
             "outlinewidth": 0,
             "ticks": ""
            },
            "colorscale": [
             [
              0,
              "#0d0887"
             ],
             [
              0.1111111111111111,
              "#46039f"
             ],
             [
              0.2222222222222222,
              "#7201a8"
             ],
             [
              0.3333333333333333,
              "#9c179e"
             ],
             [
              0.4444444444444444,
              "#bd3786"
             ],
             [
              0.5555555555555556,
              "#d8576b"
             ],
             [
              0.6666666666666666,
              "#ed7953"
             ],
             [
              0.7777777777777778,
              "#fb9f3a"
             ],
             [
              0.8888888888888888,
              "#fdca26"
             ],
             [
              1,
              "#f0f921"
             ]
            ],
            "type": "heatmapgl"
           }
          ],
          "histogram": [
           {
            "marker": {
             "pattern": {
              "fillmode": "overlay",
              "size": 10,
              "solidity": 0.2
             }
            },
            "type": "histogram"
           }
          ],
          "histogram2d": [
           {
            "colorbar": {
             "outlinewidth": 0,
             "ticks": ""
            },
            "colorscale": [
             [
              0,
              "#0d0887"
             ],
             [
              0.1111111111111111,
              "#46039f"
             ],
             [
              0.2222222222222222,
              "#7201a8"
             ],
             [
              0.3333333333333333,
              "#9c179e"
             ],
             [
              0.4444444444444444,
              "#bd3786"
             ],
             [
              0.5555555555555556,
              "#d8576b"
             ],
             [
              0.6666666666666666,
              "#ed7953"
             ],
             [
              0.7777777777777778,
              "#fb9f3a"
             ],
             [
              0.8888888888888888,
              "#fdca26"
             ],
             [
              1,
              "#f0f921"
             ]
            ],
            "type": "histogram2d"
           }
          ],
          "histogram2dcontour": [
           {
            "colorbar": {
             "outlinewidth": 0,
             "ticks": ""
            },
            "colorscale": [
             [
              0,
              "#0d0887"
             ],
             [
              0.1111111111111111,
              "#46039f"
             ],
             [
              0.2222222222222222,
              "#7201a8"
             ],
             [
              0.3333333333333333,
              "#9c179e"
             ],
             [
              0.4444444444444444,
              "#bd3786"
             ],
             [
              0.5555555555555556,
              "#d8576b"
             ],
             [
              0.6666666666666666,
              "#ed7953"
             ],
             [
              0.7777777777777778,
              "#fb9f3a"
             ],
             [
              0.8888888888888888,
              "#fdca26"
             ],
             [
              1,
              "#f0f921"
             ]
            ],
            "type": "histogram2dcontour"
           }
          ],
          "mesh3d": [
           {
            "colorbar": {
             "outlinewidth": 0,
             "ticks": ""
            },
            "type": "mesh3d"
           }
          ],
          "parcoords": [
           {
            "line": {
             "colorbar": {
              "outlinewidth": 0,
              "ticks": ""
             }
            },
            "type": "parcoords"
           }
          ],
          "pie": [
           {
            "automargin": true,
            "type": "pie"
           }
          ],
          "scatter": [
           {
            "marker": {
             "colorbar": {
              "outlinewidth": 0,
              "ticks": ""
             }
            },
            "type": "scatter"
           }
          ],
          "scatter3d": [
           {
            "line": {
             "colorbar": {
              "outlinewidth": 0,
              "ticks": ""
             }
            },
            "marker": {
             "colorbar": {
              "outlinewidth": 0,
              "ticks": ""
             }
            },
            "type": "scatter3d"
           }
          ],
          "scattercarpet": [
           {
            "marker": {
             "colorbar": {
              "outlinewidth": 0,
              "ticks": ""
             }
            },
            "type": "scattercarpet"
           }
          ],
          "scattergeo": [
           {
            "marker": {
             "colorbar": {
              "outlinewidth": 0,
              "ticks": ""
             }
            },
            "type": "scattergeo"
           }
          ],
          "scattergl": [
           {
            "marker": {
             "colorbar": {
              "outlinewidth": 0,
              "ticks": ""
             }
            },
            "type": "scattergl"
           }
          ],
          "scattermapbox": [
           {
            "marker": {
             "colorbar": {
              "outlinewidth": 0,
              "ticks": ""
             }
            },
            "type": "scattermapbox"
           }
          ],
          "scatterpolar": [
           {
            "marker": {
             "colorbar": {
              "outlinewidth": 0,
              "ticks": ""
             }
            },
            "type": "scatterpolar"
           }
          ],
          "scatterpolargl": [
           {
            "marker": {
             "colorbar": {
              "outlinewidth": 0,
              "ticks": ""
             }
            },
            "type": "scatterpolargl"
           }
          ],
          "scatterternary": [
           {
            "marker": {
             "colorbar": {
              "outlinewidth": 0,
              "ticks": ""
             }
            },
            "type": "scatterternary"
           }
          ],
          "surface": [
           {
            "colorbar": {
             "outlinewidth": 0,
             "ticks": ""
            },
            "colorscale": [
             [
              0,
              "#0d0887"
             ],
             [
              0.1111111111111111,
              "#46039f"
             ],
             [
              0.2222222222222222,
              "#7201a8"
             ],
             [
              0.3333333333333333,
              "#9c179e"
             ],
             [
              0.4444444444444444,
              "#bd3786"
             ],
             [
              0.5555555555555556,
              "#d8576b"
             ],
             [
              0.6666666666666666,
              "#ed7953"
             ],
             [
              0.7777777777777778,
              "#fb9f3a"
             ],
             [
              0.8888888888888888,
              "#fdca26"
             ],
             [
              1,
              "#f0f921"
             ]
            ],
            "type": "surface"
           }
          ],
          "table": [
           {
            "cells": {
             "fill": {
              "color": "#EBF0F8"
             },
             "line": {
              "color": "white"
             }
            },
            "header": {
             "fill": {
              "color": "#C8D4E3"
             },
             "line": {
              "color": "white"
             }
            },
            "type": "table"
           }
          ]
         },
         "layout": {
          "annotationdefaults": {
           "arrowcolor": "#2a3f5f",
           "arrowhead": 0,
           "arrowwidth": 1
          },
          "autotypenumbers": "strict",
          "coloraxis": {
           "colorbar": {
            "outlinewidth": 0,
            "ticks": ""
           }
          },
          "colorscale": {
           "diverging": [
            [
             0,
             "#8e0152"
            ],
            [
             0.1,
             "#c51b7d"
            ],
            [
             0.2,
             "#de77ae"
            ],
            [
             0.3,
             "#f1b6da"
            ],
            [
             0.4,
             "#fde0ef"
            ],
            [
             0.5,
             "#f7f7f7"
            ],
            [
             0.6,
             "#e6f5d0"
            ],
            [
             0.7,
             "#b8e186"
            ],
            [
             0.8,
             "#7fbc41"
            ],
            [
             0.9,
             "#4d9221"
            ],
            [
             1,
             "#276419"
            ]
           ],
           "sequential": [
            [
             0,
             "#0d0887"
            ],
            [
             0.1111111111111111,
             "#46039f"
            ],
            [
             0.2222222222222222,
             "#7201a8"
            ],
            [
             0.3333333333333333,
             "#9c179e"
            ],
            [
             0.4444444444444444,
             "#bd3786"
            ],
            [
             0.5555555555555556,
             "#d8576b"
            ],
            [
             0.6666666666666666,
             "#ed7953"
            ],
            [
             0.7777777777777778,
             "#fb9f3a"
            ],
            [
             0.8888888888888888,
             "#fdca26"
            ],
            [
             1,
             "#f0f921"
            ]
           ],
           "sequentialminus": [
            [
             0,
             "#0d0887"
            ],
            [
             0.1111111111111111,
             "#46039f"
            ],
            [
             0.2222222222222222,
             "#7201a8"
            ],
            [
             0.3333333333333333,
             "#9c179e"
            ],
            [
             0.4444444444444444,
             "#bd3786"
            ],
            [
             0.5555555555555556,
             "#d8576b"
            ],
            [
             0.6666666666666666,
             "#ed7953"
            ],
            [
             0.7777777777777778,
             "#fb9f3a"
            ],
            [
             0.8888888888888888,
             "#fdca26"
            ],
            [
             1,
             "#f0f921"
            ]
           ]
          },
          "colorway": [
           "#636efa",
           "#EF553B",
           "#00cc96",
           "#ab63fa",
           "#FFA15A",
           "#19d3f3",
           "#FF6692",
           "#B6E880",
           "#FF97FF",
           "#FECB52"
          ],
          "font": {
           "color": "#2a3f5f"
          },
          "geo": {
           "bgcolor": "white",
           "lakecolor": "white",
           "landcolor": "#E5ECF6",
           "showlakes": true,
           "showland": true,
           "subunitcolor": "white"
          },
          "hoverlabel": {
           "align": "left"
          },
          "hovermode": "closest",
          "mapbox": {
           "style": "light"
          },
          "paper_bgcolor": "white",
          "plot_bgcolor": "#E5ECF6",
          "polar": {
           "angularaxis": {
            "gridcolor": "white",
            "linecolor": "white",
            "ticks": ""
           },
           "bgcolor": "#E5ECF6",
           "radialaxis": {
            "gridcolor": "white",
            "linecolor": "white",
            "ticks": ""
           }
          },
          "scene": {
           "xaxis": {
            "backgroundcolor": "#E5ECF6",
            "gridcolor": "white",
            "gridwidth": 2,
            "linecolor": "white",
            "showbackground": true,
            "ticks": "",
            "zerolinecolor": "white"
           },
           "yaxis": {
            "backgroundcolor": "#E5ECF6",
            "gridcolor": "white",
            "gridwidth": 2,
            "linecolor": "white",
            "showbackground": true,
            "ticks": "",
            "zerolinecolor": "white"
           },
           "zaxis": {
            "backgroundcolor": "#E5ECF6",
            "gridcolor": "white",
            "gridwidth": 2,
            "linecolor": "white",
            "showbackground": true,
            "ticks": "",
            "zerolinecolor": "white"
           }
          },
          "shapedefaults": {
           "line": {
            "color": "#2a3f5f"
           }
          },
          "ternary": {
           "aaxis": {
            "gridcolor": "white",
            "linecolor": "white",
            "ticks": ""
           },
           "baxis": {
            "gridcolor": "white",
            "linecolor": "white",
            "ticks": ""
           },
           "bgcolor": "#E5ECF6",
           "caxis": {
            "gridcolor": "white",
            "linecolor": "white",
            "ticks": ""
           }
          },
          "title": {
           "x": 0.05
          },
          "xaxis": {
           "automargin": true,
           "gridcolor": "white",
           "linecolor": "white",
           "ticks": "",
           "title": {
            "standoff": 15
           },
           "zerolinecolor": "white",
           "zerolinewidth": 2
          },
          "yaxis": {
           "automargin": true,
           "gridcolor": "white",
           "linecolor": "white",
           "ticks": "",
           "title": {
            "standoff": 15
           },
           "zerolinecolor": "white",
           "zerolinewidth": 2
          }
         }
        },
        "xaxis": {
         "nticks": 13,
         "range": [
          -1,
          24
         ],
         "showgrid": false,
         "showline": false,
         "tickfont": {
          "color": "#000000",
          "family": "Arial",
          "size": 12
         },
         "ticklen": 7,
         "tickmode": "auto",
         "ticks": "outside",
         "tickwidth": 2,
         "title": {
          "font": {
           "color": "#000000",
           "family": "Arial, Bold",
           "size": 18
          },
          "text": "Hour of Day Ordered"
         },
         "zeroline": false
        },
        "yaxis": {
         "nticks": 4,
         "range": [
          -1,
          20
         ],
         "showgrid": false,
         "showline": false,
         "showticklabels": true,
         "tickfont": {
          "color": "#000000",
          "family": "Arial",
          "size": 12
         },
         "ticklen": 7,
         "tickmode": "auto",
         "ticks": "outside",
         "tickwidth": 2,
         "title": {
          "font": {
           "color": "#000000",
           "family": "Arial, Bold",
           "size": 18
          },
          "text": "Percent of Orders by Product"
         },
         "zeroline": false
        }
       }
      },
      "text/html": [
       "<div>                            <div id=\"247cac9b-a11c-41ed-9671-e980374a33ab\" class=\"plotly-graph-div\" style=\"height:525px; width:100%;\"></div>            <script type=\"text/javascript\">                require([\"plotly\"], function(Plotly) {                    window.PLOTLYENV=window.PLOTLYENV || {};                                    if (document.getElementById(\"247cac9b-a11c-41ed-9671-e980374a33ab\")) {                    Plotly.newPlot(                        \"247cac9b-a11c-41ed-9671-e980374a33ab\",                        [{\"line\":{\"color\":\"rgba(7, 138, 31, 0.4)\"},\"mode\":\"lines\",\"type\":\"scatter\",\"x\":[0,1,2,3,4,5,6,7,8,9,10,11,12,13,14,15,16,17,18,19,20,21,22,23,0,1,2,3,4,5,6,7,8,9,10,11,12,13,14,15,16,17,18,19,20,21,22,23],\"y\":[0.4402224281742354,0.09267840593141798,0.09267840593141798,0.04633920296570899,0.11584800741427247,0.11584800741427247,0.5097312326227988,1.830398517145505,5.560704355885079,14.874884151992585,16.010194624652456,13.3920296570899,7.9240037071362375,8.294717330861909,7.57645968489342,7.761816496756256,6.209453197405004,3.7534754402224286,1.4828544949026876,0.8109360518999073,0.8804448563484708,0.7877664504170527,0.6950880444856349,0.7414272474513438,0.4402224281742354,0.09267840593141798,0.09267840593141798,0.04633920296570899,0.11584800741427247,0.11584800741427247,0.5097312326227988,1.830398517145505,5.560704355885079,14.874884151992585,16.010194624652456,13.3920296570899,7.9240037071362375,8.294717330861909,7.57645968489342,7.761816496756256,6.209453197405004,3.7534754402224286,1.4828544949026876,0.8109360518999073,0.8804448563484708,0.7877664504170527,0.6950880444856349,0.7414272474513438]},{\"line\":{\"color\":\"rgba(7, 138, 31, 0.4)\"},\"mode\":\"lines\",\"type\":\"scatter\",\"x\":[0,1,2,3,4,5,6,7,8,9,10,11,12,13,14,15,16,17,18,19,20,21,22,23,0,1,2,3,4,5,6,7,8,9,10,11,12,13,14,15,16,17,18,19,20,21,22,23],\"y\":[0.3785614664275752,0.2789400278940028,0.1394700139470014,0.11954572624028689,0.03984857541342897,0.09962143853357243,0.21916716477385934,1.235305837816298,5.200239091452481,14.385335724247858,15.600717274357443,11.45646543136083,8.268579398286512,8.846383741781231,8.388125124526798,7.790396493325363,6.5351663678023515,4.0047818290496116,1.8330344690177327,1.0360629607491532,1.0360629607491532,1.1755329746961547,1.0360629607491532,0.8965929468021518,0.3785614664275752,0.2789400278940028,0.1394700139470014,0.11954572624028689,0.03984857541342897,0.09962143853357243,0.21916716477385934,1.235305837816298,5.200239091452481,14.385335724247858,15.600717274357443,11.45646543136083,8.268579398286512,8.846383741781231,8.388125124526798,7.790396493325363,6.5351663678023515,4.0047818290496116,1.8330344690177327,1.0360629607491532,1.0360629607491532,1.1755329746961547,1.0360629607491532,0.8965929468021518]},{\"line\":{\"color\":\"rgba(7, 138, 31, 0.4)\"},\"mode\":\"lines\",\"type\":\"scatter\",\"x\":[0,1,2,3,4,5,6,7,8,9,10,11,12,13,14,15,16,17,18,19,20,21,22,23,0,1,2,3,4,5,6,7,8,9,10,11,12,13,14,15,16,17,18,19,20,21,22,23],\"y\":[0.36259253663695423,0.1510802235987309,0.08309412297930201,0.08309412297930201,0.09820214533917511,0.2266203353980964,0.46079468197612933,2.092461096842423,6.368031424686508,13.801178425744071,15.100468348693155,11.127058468046533,7.689983381175404,8.211210152591025,8.060129928992295,7.4633630457773075,6.534219670645112,3.56549327693005,2.115123130382233,1.2917359117691494,1.5334642695271188,1.5410182807070554,1.1255476658105454,0.9140353527723222,0.36259253663695423,0.1510802235987309,0.08309412297930201,0.08309412297930201,0.09820214533917511,0.2266203353980964,0.46079468197612933,2.092461096842423,6.368031424686508,13.801178425744071,15.100468348693155,11.127058468046533,7.689983381175404,8.211210152591025,8.060129928992295,7.4633630457773075,6.534219670645112,3.56549327693005,2.115123130382233,1.2917359117691494,1.5334642695271188,1.5410182807070554,1.1255476658105454,0.9140353527723222]},{\"line\":{\"color\":\"rgba(7, 138, 31, 0.4)\"},\"mode\":\"lines\",\"type\":\"scatter\",\"x\":[0,1,2,3,4,5,6,7,8,9,10,11,12,13,14,15,16,17,18,19,20,21,22,23],\"y\":[0.3088326127239036,0.20074119827053738,0.0926497838171711,0.030883261272390366,0.030883261272390366,0.0772081531809759,0.41692402717726995,2.1000617665225447,6.531809759110561,12.554045707226683,14.870290302655961,12.430512662137122,8.214947498455837,7.890673255095739,8.36936380481779,7.597282273008029,6.5626930203829525,4.29277331686226,2.1927115503397157,1.5596046942557134,1.0654725138974677,0.9573810994441012,0.8647313156269302,0.7875231624459543]},{\"line\":{\"color\":\"rgba(7, 138, 31, 0.4)\"},\"mode\":\"lines\",\"type\":\"scatter\",\"x\":[0,1,2,3,4,5,6,7,8,9,10,11,12,13,14,15,16,17,18,19,20,21,22,23,0,1,2,3,4,5,6,7,8,9,10,11,12,13,14,15,16,17,18,19,20,21,22,23],\"y\":[0.2734504474643686,0.190586675505469,0.04971826317533974,0.04971826317533974,0.09943652635067948,0.16572754391779915,0.381173351010938,1.9887305270135898,7.109711634073583,14.857474312230693,14.700033145508783,11.915810407689758,7.9880676168379185,8.079217765992707,7.855485581703679,7.954922108054359,6.629101756711965,3.93602916804773,1.731852833941001,0.944647000331455,0.8617832283725556,0.944647000331455,0.7954922108054359,0.49718263175339744,0.2734504474643686,0.190586675505469,0.04971826317533974,0.04971826317533974,0.09943652635067948,0.16572754391779915,0.381173351010938,1.9887305270135898,7.109711634073583,14.857474312230693,14.700033145508783,11.915810407689758,7.9880676168379185,8.079217765992707,7.855485581703679,7.954922108054359,6.629101756711965,3.93602916804773,1.731852833941001,0.944647000331455,0.8617832283725556,0.944647000331455,0.7954922108054359,0.49718263175339744]},{\"line\":{\"color\":\"rgba(7, 138, 31, 0.4)\"},\"mode\":\"lines\",\"type\":\"scatter\",\"x\":[0,1,2,3,4,5,6,7,8,9,10,11,12,13,14,15,16,17,18,19,20,21,22,23],\"y\":[0.3589375448671931,0.23929169657812877,0.23929169657812877,0.21536252692031585,0.0957166786312515,0.3110792055515674,0.5025125628140703,1.8186168939937783,6.365159128978225,13.304618329743958,14.668581000239293,12.969609954534578,8.758076094759511,8.183776022972003,7.6573342905001205,6.556592486240727,6.939459200765734,3.780808805934434,2.1296960995453458,1.3639626704953338,1.1246709739172052,1.0050251256281406,0.7896625987078248,0.6221584111031347]},{\"line\":{\"color\":\"rgba(7, 138, 31, 0.4)\"},\"mode\":\"lines\",\"type\":\"scatter\",\"x\":[0,1,2,3,4,5,6,7,8,9,10,11,12,13,14,15,16,17,18,19,20,21,22,23,0,1,2,3,4,5,6,7,8,9,10,11,12,13,14,15,16,17,18,19,20,21,22,23],\"y\":[0.27808676307007785,0.1946607341490545,0.1946607341490545,0.05561735261401557,0.027808676307007785,0.1946607341490545,0.6117908787541714,2.2246941045606228,7.007786429365963,14.293659621802002,14.599555061179087,12.486095661846495,9.17686318131257,7.341490545050055,7.675194660734149,6.979977753058954,6.256952169076752,3.6707452725250276,1.696329254727475,1.2513904338153505,1.1679644048943272,1.1679644048943272,0.7230255839822024,0.7230255839822024,0.27808676307007785,0.1946607341490545,0.1946607341490545,0.05561735261401557,0.027808676307007785,0.1946607341490545,0.6117908787541714,2.2246941045606228,7.007786429365963,14.293659621802002,14.599555061179087,12.486095661846495,9.17686318131257,7.341490545050055,7.675194660734149,6.979977753058954,6.256952169076752,3.6707452725250276,1.696329254727475,1.2513904338153505,1.1679644048943272,1.1679644048943272,0.7230255839822024,0.7230255839822024]},{\"line\":{\"color\":\"rgba(7, 138, 31, 0.4)\"},\"mode\":\"lines\",\"type\":\"scatter\",\"x\":[0,1,2,3,4,5,6,7,8,9,10,11,12,13,14,15,16,17,18,19,20,21,22,23],\"y\":[0.31233732431025507,0.15616866215512754,0.07808433107756377,0.026028110359187923,0.07808433107756377,0.15616866215512754,0.6507027589796981,2.1343050494534097,7.209786569495055,12.935970848516398,14.575741801145236,12.024986985944821,8.875585632483082,7.860489328474753,8.302967204580948,7.990629880270693,6.14263404476835,3.6179073399271213,2.1863612701717856,1.4055179593961478,0.8849557522123894,1.1452368558042685,0.7548152004164498,0.4945340968245705]},{\"line\":{\"color\":\"rgba(7, 138, 31, 0.4)\"},\"mode\":\"lines\",\"type\":\"scatter\",\"x\":[0,1,2,3,4,5,6,7,8,9,10,11,12,13,14,15,16,17,18,19,20,21,22,23],\"y\":[0.5181347150259068,0.17271157167530224,0.17271157167530224,0.07401924500370095,0.07401924500370095,0.22205773501110287,0.8142116950407106,2.1218850234394275,5.526770293609672,10.954848260547742,14.557118184061189,11.818406118924253,9.17838638045892,9.104367135455218,8.339501603750309,7.056501357019491,6.7357512953367875,3.4048852701702446,2.31926967678263,1.6284233900814211,1.8011349617567234,1.4803849000740192,1.0856155933876142,0.838884776708611]},{\"line\":{\"color\":\"rgba(7, 138, 31, 0.4)\"},\"mode\":\"lines\",\"type\":\"scatter\",\"x\":[0,1,2,3,4,5,6,7,8,9,10,11,12,13,14,15,16,17,18,19,20,21,22,23],\"y\":[0.4364996882145084,0.2909997921430056,0.1454998960715028,0.1662855955102889,0.08314279775514445,0.18707129494907504,0.4364996882145084,2.161712741633756,6.880066514238205,12.325919767200165,14.466846809395136,9.790064435668262,8.210351278320516,8.168779879442942,7.565994595718147,7.441280399085429,6.256495531074621,5.217210559135315,2.5774267304094782,2.016212845562253,1.7044273539804613,1.4757846601538143,1.2263562668883807,0.7690708792350863]},{\"line\":{\"color\":\"rgba(7, 138, 31, 0.4)\"},\"mode\":\"lines\",\"type\":\"scatter\",\"x\":[0,1,2,3,4,5,6,7,8,9,10,11,12,13,14,15,16,17,18,19,20,21,22,23],\"y\":[0.3707899886703059,0.20599443815016993,0.06179833144505098,0.09269749716757647,0.07209805335255948,0.10299721907508497,0.49438665156040784,1.8127510557214954,6.0356370377999795,13.605932639818723,14.399011226696878,11.72108353074467,8.21917808219178,8.208878360284272,8.280976413636832,8.198578638376762,6.3034298073952,3.9653929343907715,1.8333504995365124,1.4419610670511895,1.36986301369863,1.349263569883613,1.0711710783808837,0.7827788649706457]},{\"line\":{\"color\":\"rgba(7, 138, 31, 0.4)\"},\"mode\":\"lines\",\"type\":\"scatter\",\"x\":[0,1,2,3,4,5,6,7,8,9,10,11,12,13,14,15,16,17,18,19,20,21,22,23],\"y\":[0.34391837670526193,0.20635102602315716,0.16049524246245558,0.09171156712140319,0.0687836753410524,0.22927891780350795,0.8139401582024534,1.9717986931101685,7.279605640261377,13.48160036684627,14.307004470938898,11.65883297030838,8.19672131147541,7.875730826550499,8.047690014903129,7.34838931560243,6.224922618365241,4.0697007910122664,1.776911612977187,1.3986013986013985,1.1120027513470137,1.4444571821621002,1.1349306431273645,0.7566204287515763]},{\"line\":{\"color\":\"rgba(7, 138, 31, 0.4)\"},\"mode\":\"lines\",\"type\":\"scatter\",\"x\":[0,1,2,3,4,5,6,7,8,9,10,11,12,13,14,15,16,17,18,19,20,21,22,23,0,1,2,3,4,5,6,7,8,9,10,11,12,13,14,15,16,17,18,19,20,21,22,23],\"y\":[0.341948310139165,0.19880715705765406,0.15904572564612326,0.047713717693836984,0.0874751491053678,0.1749502982107356,0.7872763419483101,2.520874751491054,7.904572564612327,14.25844930417495,14.226640159045726,11.27634194831014,7.475149105367793,7.483101391650099,7.809145129224652,7.180914512922465,6.242544731610338,3.514910536779324,2.1789264413518885,1.3359840954274353,1.2882703777335984,1.4314115308151094,1.26441351888668,0.8111332007952287,0.341948310139165,0.19880715705765406,0.15904572564612326,0.047713717693836984,0.0874751491053678,0.1749502982107356,0.7872763419483101,2.520874751491054,7.904572564612327,14.25844930417495,14.226640159045726,11.27634194831014,7.475149105367793,7.483101391650099,7.809145129224652,7.180914512922465,6.242544731610338,3.514910536779324,2.1789264413518885,1.3359840954274353,1.2882703777335984,1.4314115308151094,1.26441351888668,0.8111332007952287]},{\"line\":{\"color\":\"rgba(7, 138, 31, 0.4)\"},\"mode\":\"lines\",\"type\":\"scatter\",\"x\":[0,1,2,3,4,5,6,7,8,9,10,11,12,13,14,15,16,17,18,19,20,21,22,23,0,1,2,3,4,5,6,7,8,9,10,11,12,13,14,15,16,17,18,19,20,21,22,23],\"y\":[0.6067677946324388,0.28004667444574094,0.21003500583430573,0.1633605600933489,0.09334889148191365,0.1633605600933489,0.6534422403733956,1.5635939323220536,6.18436406067678,13.978996499416569,14.189031505250876,11.481913652275379,8.5414235705951,7.631271878646441,8.331388564760793,7.187864644107352,6.231038506417736,4.177362893815636,2.2403733955659275,1.1435239206534422,1.0968494749124855,1.3302217036172694,1.5402567094515751,0.9801633605600932,0.6067677946324388,0.28004667444574094,0.21003500583430573,0.1633605600933489,0.09334889148191365,0.1633605600933489,0.6534422403733956,1.5635939323220536,6.18436406067678,13.978996499416569,14.189031505250876,11.481913652275379,8.5414235705951,7.631271878646441,8.331388564760793,7.187864644107352,6.231038506417736,4.177362893815636,2.2403733955659275,1.1435239206534422,1.0968494749124855,1.3302217036172694,1.5402567094515751,0.9801633605600932]},{\"line\":{\"color\":\"rgba(7, 138, 31, 0.4)\"},\"mode\":\"lines\",\"type\":\"scatter\",\"x\":[0,1,2,3,4,5,6,7,8,9,10,11,12,13,14,15,16,17,18,19,20,21,22,23],\"y\":[0.3856041131105398,0.2921243281140453,0.1635896237438654,0.07010983874737088,0.12853470437017994,0.2453844356157981,0.5141388174807198,2.150035054919374,6.613694788501986,12.351016592661837,14.138817480719796,12.152372049544285,8.646880112175742,9.196073849030146,8.506660434681,8.296330918438887,5.994391212900211,3.5989717223650386,1.7878008880579574,1.0867025005842488,1.1100724468333723,0.9815377424631924,0.9464828230895068,0.6426735218508998]},{\"line\":{\"color\":\"rgba(7, 138, 31, 0.4)\"},\"mode\":\"lines\",\"type\":\"scatter\",\"x\":[0,1,2,3,4,5,6,7,8,9,10,11,12,13,14,15,16,17,18,19,20,21,22,23,0,1,2,3,4,5,6,7,8,9,10,11,12,13,14,15,16,17,18,19,20,21,22,23],\"y\":[0.2387774594078319,0.11938872970391595,0.14326647564469913,0.04775549188156638,0.11938872970391595,0.2387774594078319,0.7402101241642789,2.9847182425978986,8.094555873925502,14.040114613180515,13.968481375358166,12.440305635148043,8.739255014326648,7.354345749761222,8.428844317096466,7.545367717287488,6.160458452722064,3.36676217765043,1.2177650429799427,0.8595988538681949,1.0983763132760267,0.8118433619866284,0.5491881566380133,0.6924546322827125,0.2387774594078319,0.11938872970391595,0.14326647564469913,0.04775549188156638,0.11938872970391595,0.2387774594078319,0.7402101241642789,2.9847182425978986,8.094555873925502,14.040114613180515,13.968481375358166,12.440305635148043,8.739255014326648,7.354345749761222,8.428844317096466,7.545367717287488,6.160458452722064,3.36676217765043,1.2177650429799427,0.8595988538681949,1.0983763132760267,0.8118433619866284,0.5491881566380133,0.6924546322827125]},{\"line\":{\"color\":\"rgba(7, 138, 31, 0.4)\"},\"mode\":\"lines\",\"type\":\"scatter\",\"x\":[0,1,2,3,4,5,6,7,8,9,10,11,12,13,14,15,16,17,18,19,20,21,22,23],\"y\":[0.41001610777566266,0.11714745936447504,0.08786059452335628,0.01464343242055938,0.08786059452335628,0.19036462146727193,0.541806999560697,1.9475765119343975,7.116708156391859,13.808756772587493,13.691609313223019,11.246156098989603,7.966027236784303,8.156391858251574,8.200322155513252,7.541367696588081,7.219212183335774,3.704788402401523,1.9329330795138382,1.273978620588666,1.435056377214819,1.4204129447942597,1.1861180260653097,0.7028847561868502]},{\"line\":{\"color\":\"rgba(255, 0, 0, 0.4)\"},\"mode\":\"lines\",\"type\":\"scatter\",\"x\":[0,1,2,3,4,5,6,7,8,9,10,11,12,13,14,15,16,17,18,19,20,21,22,23],\"y\":[0.34341782502044155,0.24529844644317253,0.11447260834014716,0.11447260834014716,0.17988552739165986,0.11447260834014716,0.4415372035977106,1.3082583810302535,3.0580539656582175,5.789043336058872,7.211774325429272,7.898609975470156,8.094848732624694,9.01062959934587,10.237121831561733,9.533932951757972,11.185609157808667,9.19051512673753,6.688470973017171,4.202780049059689,2.5020441537203597,1.2428454619787408,0.8340147179067866,0.45789043336058866]},{\"line\":{\"color\":\"rgba(255, 0, 0, 0.4)\"},\"mode\":\"lines\",\"type\":\"scatter\",\"x\":[0,1,2,3,4,5,6,7,8,9,10,11,12,13,14,15,16,17,18,19,20,21,22,23,0,1,2,3,4,5,6,7,8,9,10,11,12,13,14,15,16,17,18,19,20,21,22,23],\"y\":[0.2546689303904924,0.10914382731021101,0.14552510308028135,0.07276255154014068,0.09701673538685424,0.13339801115692457,0.26679602231384913,1.7463012369633761,3.783652680087315,5.954402134368179,7.737084647101625,8.294930875576037,8.440455978656319,9.325733689061364,10.235265583313122,10.647586708707252,10.878001455251031,7.882609750181907,6.027164685908319,3.686635944700461,1.8918263400436575,1.1520737327188941,0.8246422507882609,0.41232112539413046,0.2546689303904924,0.10914382731021101,0.14552510308028135,0.07276255154014068,0.09701673538685424,0.13339801115692457,0.26679602231384913,1.7463012369633761,3.783652680087315,5.954402134368179,7.737084647101625,8.294930875576037,8.440455978656319,9.325733689061364,10.235265583313122,10.647586708707252,10.878001455251031,7.882609750181907,6.027164685908319,3.686635944700461,1.8918263400436575,1.1520737327188941,0.8246422507882609,0.41232112539413046]},{\"line\":{\"color\":\"rgba(255, 0, 0, 0.4)\"},\"mode\":\"lines\",\"type\":\"scatter\",\"x\":[0,1,2,3,4,5,6,7,8,9,10,11,12,13,14,15,16,17,18,19,20,21,22,23,0,1,2,3,4,5,6,7,8,9,10,11,12,13,14,15,16,17,18,19,20,21,22,23],\"y\":[0.2514458134272064,0.025144581342720643,0.20115665074176514,0.07543374402816193,0.1257229067136032,0.15086748805632386,0.2765903947699271,1.3578073925069147,3.1430726678400807,5.7832537088257485,7.467940658788032,8.498868493839577,8.59944681921046,8.649735981895901,10.686447070656275,10.837314558712597,10.13326628111642,8.398290168468694,6.009554940910234,4.450590897661554,2.0618556701030926,1.2572290671360322,1.0309278350515463,0.5280362081971335,0.2514458134272064,0.025144581342720643,0.20115665074176514,0.07543374402816193,0.1257229067136032,0.15086748805632386,0.2765903947699271,1.3578073925069147,3.1430726678400807,5.7832537088257485,7.467940658788032,8.498868493839577,8.59944681921046,8.649735981895901,10.686447070656275,10.837314558712597,10.13326628111642,8.398290168468694,6.009554940910234,4.450590897661554,2.0618556701030926,1.2572290671360322,1.0309278350515463,0.5280362081971335]},{\"line\":{\"color\":\"rgba(255, 0, 0, 0.4)\"},\"mode\":\"lines\",\"type\":\"scatter\",\"x\":[0,1,2,3,4,5,6,7,8,9,10,11,12,13,14,15,16,17,18,19,20,21,22,23],\"y\":[0.9904258831297457,0.36315615714757343,0.4291845493562232,0.2641135688345989,0.29712776493892373,0.1650709805216243,0.2641135688345989,1.4856388246946188,2.707164080554638,4.721030042918455,6.140640475404425,7.461208319577419,8.088478045559592,6.932981181908221,7.8573786728293165,9.50808847804556,10.597556949488279,8.22053482997689,7.329151535160119,6.833938593595246,3.7306041597887094,2.5420931000330143,1.5846814130075932,1.4856388246946188]},{\"line\":{\"color\":\"rgba(255, 0, 0, 0.4)\"},\"mode\":\"lines\",\"type\":\"scatter\",\"x\":[0,1,2,3,4,5,6,7,8,9,10,11,12,13,14,15,16,17,18,19,20,21,22,23],\"y\":[0.38173142467620996,0.16359918200409,0.1226993865030675,0.1226993865030675,0.0681663258350375,0.35446489434219497,0.87252897068848,2.4403544648943423,4.444444444444445,6.516700749829585,7.934560327198365,8.316291751874575,7.934560327198365,9.161554192229039,9.461486025903204,10.374914792092707,9.52965235173824,7.2528970688479895,5.494205862304022,3.571915473755965,1.9768234492160874,1.8132242672119974,1.063394683026585,0.6271301976823449]},{\"line\":{\"color\":\"rgba(255, 0, 0, 0.4)\"},\"mode\":\"lines\",\"type\":\"scatter\",\"x\":[0,1,2,3,4,5,6,7,8,9,10,11,12,13,14,15,16,17,18,19,20,21,22,23],\"y\":[0.6162769621170927,0.38064165307232195,0.14500634402755122,0.1268805510241073,0.2356353090447707,0.18125793003443902,0.7431575131411999,1.8850824723581656,3.29889432662679,4.984593075947073,6.108392242160594,6.634040239260468,7.522204096429219,8.065977886532535,9.008519122711618,10.331702011963023,9.57041870581838,8.355990574587638,7.522204096429219,5.365234729019395,4.096429218778322,2.2838499184339316,1.595069784303063,0.9425412361790828]},{\"line\":{\"color\":\"rgba(255, 0, 0, 0.4)\"},\"mode\":\"lines\",\"type\":\"scatter\",\"x\":[0,1,2,3,4,5,6,7,8,9,10,11,12,13,14,15,16,17,18,19,20,21,22,23],\"y\":[0.2782071097372488,0.1545595054095827,0.061823802163833076,0.1545595054095827,0.12364760432766615,0.3400309119010819,0.4327666151468315,1.3292117465224111,3.153013910355487,6.398763523956723,8.65533230293663,8.098918083462133,8.778979907264297,8.964451313755797,9.45904173106646,9.211746522411127,10.324574961360124,8.315301391035549,5.7187017001545595,4.1731066460587325,2.689335394126739,1.5146831530139104,1.143740340030912,0.5255023183925811]},{\"line\":{\"color\":\"rgba(255, 0, 0, 0.4)\"},\"mode\":\"lines\",\"type\":\"scatter\",\"x\":[0,1,2,3,4,5,6,7,8,9,10,11,12,13,14,15,16,17,18,19,20,21,22,23],\"y\":[0.7158418923124805,0.3734827264239029,0.3112356053532524,0.24898848428260195,0.18674136321195145,0.12449424214130098,0.5913476501711796,1.9296607531901648,3.672580143168378,4.637410519763461,6.629318394024277,7.500778089013384,6.753812636165578,8.745720510426393,8.527855586679117,9.08807967631497,10.14628073451603,8.309990662931838,6.380329909741675,5.633364456893869,3.8593215063803297,2.3342670401493932,2.178649237472767,1.1204481792717087]},{\"line\":{\"color\":\"rgba(255, 0, 0, 0.4)\"},\"mode\":\"lines\",\"type\":\"scatter\",\"x\":[0,1,2,3,4,5,6,7,8,9,10,11,12,13,14,15,16,17,18,19,20,21,22,23],\"y\":[0.5199025182778229,0.4061738424045491,0.12997562956945571,0.06498781478472786,0.11372867587327376,0.2437043054427295,0.6661251015434606,1.9171405361494718,3.444354183590577,5.020308692120228,6.060113728675874,6.141348497156783,6.5962632006498785,8.334687246141348,8.51340373679935,8.724614134849716,10.138099106417545,8.75710804224208,8.17221770917953,6.807473598700244,3.9805036555645814,2.518277822908205,1.6734362307067425,1.0560519902518277]},{\"line\":{\"color\":\"rgba(255, 0, 0, 0.4)\"},\"mode\":\"lines\",\"type\":\"scatter\",\"x\":[0,1,2,3,4,5,6,7,8,9,10,11,12,13,14,15,16,17,18,19,20,21,22,23,0,1,2,3,4,5,6,7,8,9,10,11,12,13,14,15,16,17,18,19,20,21,22,23],\"y\":[0.260035754916301,0.1300178774581505,0.19502681618722573,0.11376564277588168,0.08126117341134406,0.16252234682268812,0.5850804485616773,1.5277100601332683,3.104176824313343,5.655777669429547,7.898586055582643,8.499918738826588,8.808711197789696,8.88997237120104,10.498943604745653,9.962619860230781,10.12514220705347,8.88997237120104,5.964570128392654,4.079310905249471,1.999024865919064,1.1539086624410857,0.9263773768893223,0.48756704046806437,0.260035754916301,0.1300178774581505,0.19502681618722573,0.11376564277588168,0.08126117341134406,0.16252234682268812,0.5850804485616773,1.5277100601332683,3.104176824313343,5.655777669429547,7.898586055582643,8.499918738826588,8.808711197789696,8.88997237120104,10.498943604745653,9.962619860230781,10.12514220705347,8.88997237120104,5.964570128392654,4.079310905249471,1.999024865919064,1.1539086624410857,0.9263773768893223,0.48756704046806437]},{\"line\":{\"color\":\"rgba(255, 0, 0, 0.4)\"},\"mode\":\"lines\",\"type\":\"scatter\",\"x\":[0,1,2,3,4,5,6,7,8,9,10,11,12,13,14,15,16,17,18,19,20,21,22,23],\"y\":[0.5087881591119334,0.13876040703052728,0.06938020351526364,0.13876040703052728,0.16188714153561518,0.20814061054579094,0.9481961147086031,1.6882516188714152,3.2377428307123033,4.6253469010175765,5.666049953746531,6.452358926919518,8.302497687326548,8.256244218316374,9.481961147086032,9.458834412580943,10.03700277520814,8.001850138760407,7.793709528214617,6.66049953746531,3.654024051803885,2.150786308973173,1.3876040703052728,0.971322849213691]},{\"line\":{\"color\":\"rgba(255, 0, 0, 0.4)\"},\"mode\":\"lines\",\"type\":\"scatter\",\"x\":[0,1,2,3,4,5,6,7,8,9,10,11,12,13,14,15,16,17,18,19,20,21,22,23],\"y\":[0.42043984476067264,0.22639068564036222,0.22639068564036222,0.129366106080207,0.09702457956015524,0.129366106080207,0.42043984476067264,2.522639068564036,4.624838292367399,6.144890038809832,7.179818887451487,8.635187580853817,8.570504527813712,8.473479948253559,9.120310478654591,10.025873221216042,9.087968952134542,7.826649417852523,6.3712807244501946,3.33117723156533,2.263906856403622,1.8758085381630014,1.390685640362225,0.9055627425614489]},{\"line\":{\"color\":\"rgba(255, 0, 0, 0.4)\"},\"mode\":\"lines\",\"type\":\"scatter\",\"x\":[0,1,2,3,4,5,6,7,8,9,10,11,12,13,14,15,16,17,18,19,20,21,22,23],\"y\":[0.5031818854521237,0.2959893443836022,0.20719254106852156,0.10359627053426078,0.17759360663016133,0.20719254106852156,0.5771792215480243,2.012727541808495,4.484238567411573,6.141778895959745,8.15450643776824,8.376498446055942,7.651324552316116,8.790883528192985,9.086872872576587,10.019239307384934,8.924078733165606,6.85215332248039,5.165014059493858,3.7886636081101077,3.1818854521237236,2.1459227467811157,2.012727541808495,1.1395589758768685]},{\"line\":{\"color\":\"rgba(255, 0, 0, 0.4)\"},\"mode\":\"lines\",\"type\":\"scatter\",\"x\":[0,1,2,3,4,5,6,7,8,9,10,11,12,13,14,15,16,17,18,19,20,21,22,23],\"y\":[0.6127450980392157,0.2801120448179272,0.10504201680672269,0.15756302521008403,0.08753501400560225,0.24509803921568626,0.9453781512605042,3.11624649859944,5.07703081232493,6.862745098039216,7.8431372549019605,8.403361344537815,8.6484593837535,8.368347338935573,8.735994397759104,9.943977591036415,8.22829131652661,5.777310924369748,4.709383753501401,3.361344537815126,3.046218487394958,2.275910364145658,2.083333333333333,1.0854341736694677]},{\"line\":{\"color\":\"rgba(255, 0, 0, 0.4)\"},\"mode\":\"lines\",\"type\":\"scatter\",\"x\":[0,1,2,3,4,5,6,7,8,9,10,11,12,13,14,15,16,17,18,19,20,21,22,23],\"y\":[0.7633587786259541,0.38167938931297707,0.16357688113413305,0.14540167211922936,0.16357688113413305,0.21810250817884408,0.5816066884769174,1.6357688113413305,3.307888040712468,5.779716466739368,6.143220647037441,6.906579425663395,7.142857142857142,8.415121773900399,8.596873864049437,9.923664122137405,9.269356597600872,8.451472191930206,6.924754634678298,6.343147946201381,3.8349691021446746,2.271901126862959,1.6175936023264268,1.0178117048346056]},{\"line\":{\"color\":\"rgba(255, 0, 0, 0.4)\"},\"mode\":\"lines\",\"type\":\"scatter\",\"x\":[0,1,2,3,4,5,6,7,8,9,10,11,12,13,14,15,16,17,18,19,20,21,22,23],\"y\":[0.6335529650278764,0.5575266092245312,0.2280790674100355,0.07602635580334516,0.12671059300557527,0.1773948302078054,0.4308160162189559,2.0273694880892044,4.257475924987329,7.095793208312215,8.286872782564622,8.945767866193615,8.514951849974658,8.362899138367967,8.413583375570198,9.908768373035985,8.743030917384694,6.538266599087683,4.206791687785099,3.3198175367460716,2.9903699949315765,2.7622909275215406,2.3061327927014696,1.0897110998479473]},{\"line\":{\"color\":\"rgba(255, 0, 0, 0.4)\"},\"mode\":\"lines\",\"type\":\"scatter\",\"x\":[0,1,2,3,4,5,6,7,8,9,10,11,12,13,14,15,16,17,18,19,20,21,22,23],\"y\":[0.7422402159244265,0.4048582995951417,0.21929824561403508,0.06747638326585695,0.1349527665317139,0.16869095816464239,0.4554655870445344,1.484480431848853,3.356950067476383,4.639001349527665,5.752361673414305,7.068151147098516,7.405533063427801,7.28744939271255,8.620107962213226,9.126180836707153,9.902159244264508,9.39608636977058,8.755060728744938,6.376518218623482,3.8798920377867745,2.2267206477732793,1.4676113360323886,1.0627530364372468]},{\"line\":{\"color\":\"rgba(255, 0, 0, 0.4)\"},\"mode\":\"lines\",\"type\":\"scatter\",\"x\":[0,1,2,3,4,5,6,7,8,9,10,11,12,13,14,15,16,17,18,19,20,21,22,23],\"y\":[0.734670810963549,0.3390788358293303,0.22605255721955356,0.11302627860977678,0.11302627860977678,0.31082226617688613,0.87595365922577,2.486578129415089,4.747103701610624,6.385984741452387,7.035885843458605,7.318451539983046,7.855326363379486,8.363944617123481,9.183385137044363,9.889799378355468,8.844306301215033,6.8380898558914955,4.775360271263069,4.1537157389092965,2.910426674201752,2.6561175473297545,2.204012432890647,1.6388810398417633]},{\"line\":{\"color\":\"rgba(255, 0, 0, 0.4)\"},\"mode\":\"lines\",\"type\":\"scatter\",\"x\":[0,1,2,3,4,5,6,7,8,9,10,11,12,13,14,15,16,17,18,19,20,21,22,23],\"y\":[0.6072315760419542,0.3036157880209771,0.1380071763731714,0.11040574109853712,0.08280430582390284,0.19321004692243998,0.6624344465912227,2.4013248688931825,4.195418161744411,6.624344465912227,6.955561689207839,8.915263593706872,8.611647805685896,8.528843499861994,9.053270770080044,9.881313828319072,7.756003312172233,7.397184653601988,5.54788849020149,4.526635385040022,3.0085564449351367,2.0425062103229368,1.766491857576594,0.6900358818658571]},{\"line\":{\"color\":\"rgba(255, 0, 0, 0.4)\"},\"mode\":\"lines\",\"type\":\"scatter\",\"x\":[0,1,2,3,4,5,6,7,8,9,10,11,12,13,14,15,16,17,18,19,20,21,22,23],\"y\":[0.6019151846785226,0.2188782489740082,0.1094391244870041,0.13679890560875513,0.1094391244870041,0.19151846785225718,0.6292749658002736,2.298221614227086,4.760601915184679,6.3201094391244865,8.180574555403556,8.207934336525307,8.563611491108071,8.891928864569083,8.180574555403556,9.849521203830369,8.946648426812585,7.46922024623803,5.389876880984952,4.049247606019152,2.6538987688098494,2.161422708618331,1.231190150478796,0.8481532147742818]},{\"line\":{\"color\":\"rgba(255, 0, 0, 0.4)\"},\"mode\":\"lines\",\"type\":\"scatter\",\"x\":[0,1,2,3,4,5,6,7,8,9,10,11,12,13,14,15,16,17,18,19,20,21,22,23],\"y\":[0.7269279393173199,0.31605562579013907,0.347661188369153,0.28445006321112515,0.18963337547408343,0.18963337547408343,0.9797724399494312,3.065739570164349,4.36156763590392,6.289506953223767,6.763590391908976,7.996207332490518,7.142857142857142,9.007585335018964,8.596713021491782,9.829329962073324,7.206068268015171,7.111251580278129,6.1946902654867255,4.551201011378002,3.2237673830594185,2.2439949431099877,1.8331226295828067,1.5486725663716814]},{\"line\":{\"color\":\"rgba(255, 0, 0, 0.4)\"},\"mode\":\"lines\",\"type\":\"scatter\",\"x\":[0,1,2,3,4,5,6,7,8,9,10,11,12,13,14,15,16,17,18,19,20,21,22,23],\"y\":[0.4609622587150677,0.14405070584845864,0.23048112935753384,0.08643042350907519,0.02881014116969173,0.23048112935753384,1.0371650821089022,2.362431575914722,5.589167386920195,6.885623739556324,7.951598962834917,7.893978680495535,8.354940939210602,8.556611927398444,8.700662633246903,9.82425813886488,7.8075482569864585,5.790838375108038,5.128205128205128,4.00460962258715,3.226735811005474,2.5064822817631804,2.2183808700662633,0.9795447997695189]}],                        {\"annotations\":[{\"align\":\"left\",\"font\":{\"color\":\"rgb(7, 138, 31)\",\"family\":\"Arial\",\"size\":10},\"showarrow\":false,\"text\":\"Pub Mix<br>Milk Chocolate Almonds<br>0% Greek Strained Yogurt<br>Pub Mix<br>Original Beef Jerky<br>Trail Mix<br>Trail Mix<br>Original Rice Krispies Treats<br>Nutri Grain Bars Multi Pack<br>Cheez-It Baked Snack Crackers<br>Orange & Lemon Flavor Variety Pack Sparkling Fruit Beverage<br>Zen Tea<br>Extra Fancy Unsalted Mixed Nuts<br>Milk Chocolate Almonds<br>Crunchy Oats 'n Honey Granola Bars<br>Nutri Grain Bars Multi Pack<br>Apples<br>Apples<br>Cheez-It Cheddar Cracker<br>Zero Calorie Cola<br>Sweet & Salty Nut Granola Bars Peanut<br>Cheez-It Cheddar Cracker<br>Sweet & Salty Nut Granola Bars Peanut<br>Popcorn<br>0% Greek Strained Yogurt\",\"x\":-1,\"xanchor\":\"left\",\"xref\":\"x\",\"y\":20,\"yanchor\":\"top\",\"yref\":\"y\"},{\"align\":\"right\",\"font\":{\"color\":\"rgb(255, 0, 0)\",\"family\":\"Arial\",\"size\":10},\"showarrow\":false,\"text\":\"Cabernet Sauvignon<br>Sauvignon Blanc<br>Pinot Noir<br>Sauvignon Blanc<br>Sicilian Pistachio<br>Original Rotisserie Chicken<br>Caramel Cookie Crunch Gelato<br>Pinot Grigio<br>Coconut Almond Minis Frozen Dessert Bars<br>Americone Dream\\u00ae Ice Cream<br>Pinot Noir<br>Chardonnay<br>Chocolate Peanut Butter Cup Gelato<br>Fresh Ground Turkey<br>Organic Whole Crimini Mushrooms<br>Chardonnay<br>Sweet Potato Fries with Sea Salt<br>Mint Chip<br>Authentic Red Curry Paste<br>Half Baked\\u00ae Ice Cream<br>Ripe Large Pitted Olives<br>Leafy Green Romaine Lettuce<br>Corn Maize Tortillas<br>Electrolyte Water<br>Red Bell Pepper\",\"x\":24,\"xanchor\":\"right\",\"xref\":\"x\",\"y\":20,\"yanchor\":\"top\",\"yref\":\"y\"}],\"margin\":{\"b\":60,\"l\":70,\"r\":100},\"shapes\":[{\"line\":{\"color\":\"rgb(211, 211, 211)\",\"dash\":\"dash\"},\"type\":\"line\",\"x0\":12,\"x1\":12,\"y0\":0,\"y1\":100}],\"showlegend\":false,\"template\":{\"data\":{\"bar\":[{\"error_x\":{\"color\":\"#2a3f5f\"},\"error_y\":{\"color\":\"#2a3f5f\"},\"marker\":{\"line\":{\"color\":\"#E5ECF6\",\"width\":0.5},\"pattern\":{\"fillmode\":\"overlay\",\"size\":10,\"solidity\":0.2}},\"type\":\"bar\"}],\"barpolar\":[{\"marker\":{\"line\":{\"color\":\"#E5ECF6\",\"width\":0.5},\"pattern\":{\"fillmode\":\"overlay\",\"size\":10,\"solidity\":0.2}},\"type\":\"barpolar\"}],\"carpet\":[{\"aaxis\":{\"endlinecolor\":\"#2a3f5f\",\"gridcolor\":\"white\",\"linecolor\":\"white\",\"minorgridcolor\":\"white\",\"startlinecolor\":\"#2a3f5f\"},\"baxis\":{\"endlinecolor\":\"#2a3f5f\",\"gridcolor\":\"white\",\"linecolor\":\"white\",\"minorgridcolor\":\"white\",\"startlinecolor\":\"#2a3f5f\"},\"type\":\"carpet\"}],\"choropleth\":[{\"colorbar\":{\"outlinewidth\":0,\"ticks\":\"\"},\"type\":\"choropleth\"}],\"contour\":[{\"colorbar\":{\"outlinewidth\":0,\"ticks\":\"\"},\"colorscale\":[[0.0,\"#0d0887\"],[0.1111111111111111,\"#46039f\"],[0.2222222222222222,\"#7201a8\"],[0.3333333333333333,\"#9c179e\"],[0.4444444444444444,\"#bd3786\"],[0.5555555555555556,\"#d8576b\"],[0.6666666666666666,\"#ed7953\"],[0.7777777777777778,\"#fb9f3a\"],[0.8888888888888888,\"#fdca26\"],[1.0,\"#f0f921\"]],\"type\":\"contour\"}],\"contourcarpet\":[{\"colorbar\":{\"outlinewidth\":0,\"ticks\":\"\"},\"type\":\"contourcarpet\"}],\"heatmap\":[{\"colorbar\":{\"outlinewidth\":0,\"ticks\":\"\"},\"colorscale\":[[0.0,\"#0d0887\"],[0.1111111111111111,\"#46039f\"],[0.2222222222222222,\"#7201a8\"],[0.3333333333333333,\"#9c179e\"],[0.4444444444444444,\"#bd3786\"],[0.5555555555555556,\"#d8576b\"],[0.6666666666666666,\"#ed7953\"],[0.7777777777777778,\"#fb9f3a\"],[0.8888888888888888,\"#fdca26\"],[1.0,\"#f0f921\"]],\"type\":\"heatmap\"}],\"heatmapgl\":[{\"colorbar\":{\"outlinewidth\":0,\"ticks\":\"\"},\"colorscale\":[[0.0,\"#0d0887\"],[0.1111111111111111,\"#46039f\"],[0.2222222222222222,\"#7201a8\"],[0.3333333333333333,\"#9c179e\"],[0.4444444444444444,\"#bd3786\"],[0.5555555555555556,\"#d8576b\"],[0.6666666666666666,\"#ed7953\"],[0.7777777777777778,\"#fb9f3a\"],[0.8888888888888888,\"#fdca26\"],[1.0,\"#f0f921\"]],\"type\":\"heatmapgl\"}],\"histogram\":[{\"marker\":{\"pattern\":{\"fillmode\":\"overlay\",\"size\":10,\"solidity\":0.2}},\"type\":\"histogram\"}],\"histogram2d\":[{\"colorbar\":{\"outlinewidth\":0,\"ticks\":\"\"},\"colorscale\":[[0.0,\"#0d0887\"],[0.1111111111111111,\"#46039f\"],[0.2222222222222222,\"#7201a8\"],[0.3333333333333333,\"#9c179e\"],[0.4444444444444444,\"#bd3786\"],[0.5555555555555556,\"#d8576b\"],[0.6666666666666666,\"#ed7953\"],[0.7777777777777778,\"#fb9f3a\"],[0.8888888888888888,\"#fdca26\"],[1.0,\"#f0f921\"]],\"type\":\"histogram2d\"}],\"histogram2dcontour\":[{\"colorbar\":{\"outlinewidth\":0,\"ticks\":\"\"},\"colorscale\":[[0.0,\"#0d0887\"],[0.1111111111111111,\"#46039f\"],[0.2222222222222222,\"#7201a8\"],[0.3333333333333333,\"#9c179e\"],[0.4444444444444444,\"#bd3786\"],[0.5555555555555556,\"#d8576b\"],[0.6666666666666666,\"#ed7953\"],[0.7777777777777778,\"#fb9f3a\"],[0.8888888888888888,\"#fdca26\"],[1.0,\"#f0f921\"]],\"type\":\"histogram2dcontour\"}],\"mesh3d\":[{\"colorbar\":{\"outlinewidth\":0,\"ticks\":\"\"},\"type\":\"mesh3d\"}],\"parcoords\":[{\"line\":{\"colorbar\":{\"outlinewidth\":0,\"ticks\":\"\"}},\"type\":\"parcoords\"}],\"pie\":[{\"automargin\":true,\"type\":\"pie\"}],\"scatter\":[{\"marker\":{\"colorbar\":{\"outlinewidth\":0,\"ticks\":\"\"}},\"type\":\"scatter\"}],\"scatter3d\":[{\"line\":{\"colorbar\":{\"outlinewidth\":0,\"ticks\":\"\"}},\"marker\":{\"colorbar\":{\"outlinewidth\":0,\"ticks\":\"\"}},\"type\":\"scatter3d\"}],\"scattercarpet\":[{\"marker\":{\"colorbar\":{\"outlinewidth\":0,\"ticks\":\"\"}},\"type\":\"scattercarpet\"}],\"scattergeo\":[{\"marker\":{\"colorbar\":{\"outlinewidth\":0,\"ticks\":\"\"}},\"type\":\"scattergeo\"}],\"scattergl\":[{\"marker\":{\"colorbar\":{\"outlinewidth\":0,\"ticks\":\"\"}},\"type\":\"scattergl\"}],\"scattermapbox\":[{\"marker\":{\"colorbar\":{\"outlinewidth\":0,\"ticks\":\"\"}},\"type\":\"scattermapbox\"}],\"scatterpolar\":[{\"marker\":{\"colorbar\":{\"outlinewidth\":0,\"ticks\":\"\"}},\"type\":\"scatterpolar\"}],\"scatterpolargl\":[{\"marker\":{\"colorbar\":{\"outlinewidth\":0,\"ticks\":\"\"}},\"type\":\"scatterpolargl\"}],\"scatterternary\":[{\"marker\":{\"colorbar\":{\"outlinewidth\":0,\"ticks\":\"\"}},\"type\":\"scatterternary\"}],\"surface\":[{\"colorbar\":{\"outlinewidth\":0,\"ticks\":\"\"},\"colorscale\":[[0.0,\"#0d0887\"],[0.1111111111111111,\"#46039f\"],[0.2222222222222222,\"#7201a8\"],[0.3333333333333333,\"#9c179e\"],[0.4444444444444444,\"#bd3786\"],[0.5555555555555556,\"#d8576b\"],[0.6666666666666666,\"#ed7953\"],[0.7777777777777778,\"#fb9f3a\"],[0.8888888888888888,\"#fdca26\"],[1.0,\"#f0f921\"]],\"type\":\"surface\"}],\"table\":[{\"cells\":{\"fill\":{\"color\":\"#EBF0F8\"},\"line\":{\"color\":\"white\"}},\"header\":{\"fill\":{\"color\":\"#C8D4E3\"},\"line\":{\"color\":\"white\"}},\"type\":\"table\"}]},\"layout\":{\"annotationdefaults\":{\"arrowcolor\":\"#2a3f5f\",\"arrowhead\":0,\"arrowwidth\":1},\"autotypenumbers\":\"strict\",\"coloraxis\":{\"colorbar\":{\"outlinewidth\":0,\"ticks\":\"\"}},\"colorscale\":{\"diverging\":[[0,\"#8e0152\"],[0.1,\"#c51b7d\"],[0.2,\"#de77ae\"],[0.3,\"#f1b6da\"],[0.4,\"#fde0ef\"],[0.5,\"#f7f7f7\"],[0.6,\"#e6f5d0\"],[0.7,\"#b8e186\"],[0.8,\"#7fbc41\"],[0.9,\"#4d9221\"],[1,\"#276419\"]],\"sequential\":[[0.0,\"#0d0887\"],[0.1111111111111111,\"#46039f\"],[0.2222222222222222,\"#7201a8\"],[0.3333333333333333,\"#9c179e\"],[0.4444444444444444,\"#bd3786\"],[0.5555555555555556,\"#d8576b\"],[0.6666666666666666,\"#ed7953\"],[0.7777777777777778,\"#fb9f3a\"],[0.8888888888888888,\"#fdca26\"],[1.0,\"#f0f921\"]],\"sequentialminus\":[[0.0,\"#0d0887\"],[0.1111111111111111,\"#46039f\"],[0.2222222222222222,\"#7201a8\"],[0.3333333333333333,\"#9c179e\"],[0.4444444444444444,\"#bd3786\"],[0.5555555555555556,\"#d8576b\"],[0.6666666666666666,\"#ed7953\"],[0.7777777777777778,\"#fb9f3a\"],[0.8888888888888888,\"#fdca26\"],[1.0,\"#f0f921\"]]},\"colorway\":[\"#636efa\",\"#EF553B\",\"#00cc96\",\"#ab63fa\",\"#FFA15A\",\"#19d3f3\",\"#FF6692\",\"#B6E880\",\"#FF97FF\",\"#FECB52\"],\"font\":{\"color\":\"#2a3f5f\"},\"geo\":{\"bgcolor\":\"white\",\"lakecolor\":\"white\",\"landcolor\":\"#E5ECF6\",\"showlakes\":true,\"showland\":true,\"subunitcolor\":\"white\"},\"hoverlabel\":{\"align\":\"left\"},\"hovermode\":\"closest\",\"mapbox\":{\"style\":\"light\"},\"paper_bgcolor\":\"white\",\"plot_bgcolor\":\"#E5ECF6\",\"polar\":{\"angularaxis\":{\"gridcolor\":\"white\",\"linecolor\":\"white\",\"ticks\":\"\"},\"bgcolor\":\"#E5ECF6\",\"radialaxis\":{\"gridcolor\":\"white\",\"linecolor\":\"white\",\"ticks\":\"\"}},\"scene\":{\"xaxis\":{\"backgroundcolor\":\"#E5ECF6\",\"gridcolor\":\"white\",\"gridwidth\":2,\"linecolor\":\"white\",\"showbackground\":true,\"ticks\":\"\",\"zerolinecolor\":\"white\"},\"yaxis\":{\"backgroundcolor\":\"#E5ECF6\",\"gridcolor\":\"white\",\"gridwidth\":2,\"linecolor\":\"white\",\"showbackground\":true,\"ticks\":\"\",\"zerolinecolor\":\"white\"},\"zaxis\":{\"backgroundcolor\":\"#E5ECF6\",\"gridcolor\":\"white\",\"gridwidth\":2,\"linecolor\":\"white\",\"showbackground\":true,\"ticks\":\"\",\"zerolinecolor\":\"white\"}},\"shapedefaults\":{\"line\":{\"color\":\"#2a3f5f\"}},\"ternary\":{\"aaxis\":{\"gridcolor\":\"white\",\"linecolor\":\"white\",\"ticks\":\"\"},\"baxis\":{\"gridcolor\":\"white\",\"linecolor\":\"white\",\"ticks\":\"\"},\"bgcolor\":\"#E5ECF6\",\"caxis\":{\"gridcolor\":\"white\",\"linecolor\":\"white\",\"ticks\":\"\"}},\"title\":{\"x\":0.05},\"xaxis\":{\"automargin\":true,\"gridcolor\":\"white\",\"linecolor\":\"white\",\"ticks\":\"\",\"title\":{\"standoff\":15},\"zerolinecolor\":\"white\",\"zerolinewidth\":2},\"yaxis\":{\"automargin\":true,\"gridcolor\":\"white\",\"linecolor\":\"white\",\"ticks\":\"\",\"title\":{\"standoff\":15},\"zerolinecolor\":\"white\",\"zerolinewidth\":2}}},\"xaxis\":{\"nticks\":13,\"range\":[-1,24],\"showgrid\":false,\"showline\":false,\"tickfont\":{\"color\":\"#000000\",\"family\":\"Arial\",\"size\":12},\"ticklen\":7,\"tickmode\":\"auto\",\"ticks\":\"outside\",\"tickwidth\":2,\"title\":{\"font\":{\"color\":\"#000000\",\"family\":\"Arial, Bold\",\"size\":18},\"text\":\"Hour of Day Ordered\"},\"zeroline\":false},\"yaxis\":{\"nticks\":4,\"range\":[-1,20],\"showgrid\":false,\"showline\":false,\"showticklabels\":true,\"tickfont\":{\"color\":\"#000000\",\"family\":\"Arial\",\"size\":12},\"ticklen\":7,\"tickmode\":\"auto\",\"ticks\":\"outside\",\"tickwidth\":2,\"title\":{\"font\":{\"color\":\"#000000\",\"family\":\"Arial, Bold\",\"size\":18},\"text\":\"Percent of Orders by Product\"},\"zeroline\":false}},                        {\"responsive\": true}                    ).then(function(){\n",
       "                            \n",
       "var gd = document.getElementById('247cac9b-a11c-41ed-9671-e980374a33ab');\n",
       "var x = new MutationObserver(function (mutations, observer) {{\n",
       "        var display = window.getComputedStyle(gd).display;\n",
       "        if (!display || display === 'none') {{\n",
       "            console.log([gd, 'removed!']);\n",
       "            Plotly.purge(gd);\n",
       "            observer.disconnect();\n",
       "        }}\n",
       "}});\n",
       "\n",
       "// Listen for the removal of the full notebook cells\n",
       "var notebookContainer = gd.closest('#notebook-container');\n",
       "if (notebookContainer) {{\n",
       "    x.observe(notebookContainer, {childList: true});\n",
       "}}\n",
       "\n",
       "// Listen for the clearing of the current output cell\n",
       "var outputEl = gd.closest('.output');\n",
       "if (outputEl) {{\n",
       "    x.observe(outputEl, {childList: true});\n",
       "}}\n",
       "\n",
       "                        })                };                });            </script>        </div>"
      ]
     },
     "metadata": {},
     "output_type": "display_data"
    }
   ],
   "source": [
    "# Set up a plotly container\n",
    "fig = go.Figure()\n",
    "\n",
    "# Loop through product list adding line to chart\n",
    "for product_id in lst_products:\n",
    "    trace_colour = \"rgba(7, 138, 31, 0.4)\" if np.any(dt_product_hour_subset[dt_product_hour_subset['product_id'] == product_id]['order_hour_of_day'] < 12) else \"rgba(255, 0, 0, 0.4)\"\n",
    "    x = dt_product_hour_subset2[dt_product_hour_subset2['product_id'] == product_id]['order_hour_of_day']\n",
    "    y = 100 * dt_product_hour_subset2[dt_product_hour_subset2['product_id'] == product_id]['pcnt_orders']\n",
    "    fig.add_trace(go.Scatter(x=x, y=y, mode='lines', line=dict(color=trace_colour)))\n",
    "\n",
    "# Add vertical line at midday\n",
    "fig.add_shape(type=\"line\", x0=12, x1=12, y0=0, y1=100, line=dict(color=\"rgb(211, 211, 211)\", dash='dash'))\n",
    "\n",
    "# Set up annotations\n",
    "annotate_am = dict(\n",
    "    xref='x',\n",
    "    yref='y',\n",
    "    x=-1,\n",
    "    y=20,\n",
    "    xanchor='left',\n",
    "    yanchor='top',\n",
    "    text='<br>'.join(dt_product_hour_subset[dt_product_hour_subset['order_hour_of_day'] < 12]['product_name']),\n",
    "    font=dict(family='Arial', size=10, color=\"rgb(7, 138, 31)\"),\n",
    "    align='left',\n",
    "    showarrow=False\n",
    ")\n",
    "\n",
    "\n",
    "annotate_pm = dict(\n",
    "    xref='x',\n",
    "    yref='y',\n",
    "    x=24,\n",
    "    y=20,\n",
    "    xanchor='right',\n",
    "    yanchor='top',\n",
    "    text='<br>'.join(dt_product_hour_subset[dt_product_hour_subset['order_hour_of_day'] >= 12]['product_name']),\n",
    "    font=dict(family='Arial', size=10, color=\"rgb(255, 0, 0)\"),\n",
    "    align='right',\n",
    "    showarrow=False\n",
    ")\n",
    "\n",
    "# Add titles and layout\n",
    "fig.update_layout(\n",
    "    xaxis=dict(\n",
    "        range=[-1, 24],\n",
    "        title=\"Hour of Day Ordered\",\n",
    "        title_font=dict(family=\"Arial, Bold\", size=18, color=\"#000000\"),\n",
    "        tickfont=dict(family=\"Arial\", size=12, color=\"#000000\"),\n",
    "        tickmode=\"auto\",\n",
    "        nticks=13,\n",
    "        ticklen=7,\n",
    "        tickwidth=2,\n",
    "        ticks=\"outside\",\n",
    "        showline=False,\n",
    "        zeroline=False,\n",
    "        showgrid=False\n",
    "    ),\n",
    "    yaxis=dict(\n",
    "        range=[-1, 20],\n",
    "        title=\"Percent of Orders by Product\",\n",
    "        title_font=dict(family=\"Arial, Bold\", size=18, color=\"#000000\"),\n",
    "        tickfont=dict(family=\"Arial\", size=12, color=\"#000000\"),\n",
    "        tickmode=\"auto\",\n",
    "        nticks=4,\n",
    "        ticks=\"outside\",\n",
    "        ticklen=7,\n",
    "        tickwidth=2,\n",
    "        showline=False,\n",
    "        zeroline=False,\n",
    "        showticklabels=True,\n",
    "        showgrid=False\n",
    "    ),\n",
    "    showlegend=False,\n",
    "    margin=dict(l=70, b=60, r=100),\n",
    ")\n",
    "fig.update_layout(annotations=[annotate_am, annotate_pm])\n",
    "\n",
    "\n",
    "# Display the plot\n",
    "fig.show()"
   ]
  },
  {
   "cell_type": "code",
   "execution_count": null,
   "id": "0689f283",
   "metadata": {},
   "outputs": [],
   "source": []
  }
 ],
 "metadata": {
  "kernelspec": {
   "display_name": "Python 3 (ipykernel)",
   "language": "python",
   "name": "python3"
  },
  "language_info": {
   "codemirror_mode": {
    "name": "ipython",
    "version": 3
   },
   "file_extension": ".py",
   "mimetype": "text/x-python",
   "name": "python",
   "nbconvert_exporter": "python",
   "pygments_lexer": "ipython3",
   "version": "3.9.5"
  }
 },
 "nbformat": 4,
 "nbformat_minor": 5
}