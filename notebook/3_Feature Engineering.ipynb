{
 "cells": [
  {
   "cell_type": "code",
   "execution_count": 1,
   "id": "931057e0",
   "metadata": {},
   "outputs": [],
   "source": [
    "# Basic Import\n",
    "import numpy as np\n",
    "import pandas as pd\n",
    "import matplotlib.pyplot as plt \n",
    "import seaborn as sns\n",
    "from google.cloud import bigquery\n",
    "from google.oauth2 import service_account\n",
    "from google.cloud import bigquery_storage\n",
    "import time\n",
    "import pickle\n",
    "# Modelling\n",
    "import xgboost\n",
    "from sklearn.model_selection import train_test_split"
   ]
  },
  {
   "cell_type": "code",
   "execution_count": null,
   "id": "12be15b7",
   "metadata": {},
   "outputs": [],
   "source": []
  },
  {
   "cell_type": "markdown",
   "id": "46e37d8f",
   "metadata": {},
   "source": [
    "# Load Data From Bigquery"
   ]
  },
  {
   "cell_type": "code",
   "execution_count": 2,
   "id": "723ba134",
   "metadata": {},
   "outputs": [],
   "source": [
    "def bq_connector():\n",
    "    key_path = \"C:/Users/HEN1/Projects/Instacart_Market_Basket_Analysis/keys/plucky-mile-327121-255163f80b63.json\"\n",
    "    credentials = service_account.Credentials.from_service_account_file(\n",
    "        key_path, scopes=[\"https://www.googleapis.com/auth/cloud-platform\"],\n",
    "    )\n",
    "\n",
    "    bqclient = bigquery.Client(credentials=credentials, project=credentials.project_id,)\n",
    "    bqstorageclient = bigquery_storage.BigQueryReadClient(credentials=credentials)\n",
    "    return bqclient, bqstorageclient\n",
    "\n",
    "def bq_full_table_df(bqclient, bqstorageclient, table_name):\n",
    "    sql_query = f\"SELECT * FROM instacart.{table_name}\"\n",
    "    query_job = bqclient.query(sql_query)\n",
    "    time.sleep(30)\n",
    "    count =0\n",
    "    while query_job.state !='DONE':\n",
    "        print(\"NOT DONE\")\n",
    "        if query_job.state =='PENDING':\n",
    "            print(f\"job from {table_name} is pending\")\n",
    "            break\n",
    "        if query_job.state =='RUNNING':\n",
    "            print(f\"job from {table_name} is running\")\n",
    "            print(query_job.result())\n",
    "            time.sleep(60)\n",
    "            query_job.reload()\n",
    "            time.sleep(10)\n",
    "            count += 1\n",
    "            if count>3:\n",
    "                break\n",
    "        else:\n",
    "            print(\"may meet an error\")\n",
    "            break\n",
    "    if query_job.state == 'DONE':\n",
    "        print(f\"successfully finished getting data from {table_name} table\")\n",
    "        df = query_job.to_dataframe(bqstorage_client=bqstorageclient,\n",
    "                                    progress_bar_type='tqdm_notebook',)\n",
    "        print(\"successfully transferred to df\")\n",
    "        time.sleep(3)\n",
    "    else:\n",
    "        print(\"error\")\n",
    "\n",
    "    return df"
   ]
  },
  {
   "cell_type": "code",
   "execution_count": 3,
   "id": "e5267636",
   "metadata": {},
   "outputs": [],
   "source": [
    "bqclient, bqstorageclient = bq_connector()"
   ]
  },
  {
   "cell_type": "code",
   "execution_count": 4,
   "id": "e447f40c",
   "metadata": {},
   "outputs": [
    {
     "name": "stdout",
     "output_type": "stream",
     "text": [
      "successfully finished getting data from aisles table\n"
     ]
    },
    {
     "data": {
      "application/vnd.jupyter.widget-view+json": {
       "model_id": "17f075b4430f4bfab9697238e3e32d13",
       "version_major": 2,
       "version_minor": 0
      },
      "text/plain": [
       "Query is running:   0%|          |"
      ]
     },
     "metadata": {},
     "output_type": "display_data"
    },
    {
     "data": {
      "application/vnd.jupyter.widget-view+json": {
       "model_id": "b0436795403b4b8c8308129cadc830d9",
       "version_major": 2,
       "version_minor": 0
      },
      "text/plain": [
       "Downloading:   0%|          |"
      ]
     },
     "metadata": {},
     "output_type": "display_data"
    },
    {
     "name": "stdout",
     "output_type": "stream",
     "text": [
      "successfully transferred to df\n"
     ]
    }
   ],
   "source": [
    "aisles = bq_full_table_df(bqclient, bqstorageclient, 'aisles')\n",
    "time.sleep(3)"
   ]
  },
  {
   "cell_type": "code",
   "execution_count": 5,
   "id": "b50dba7f",
   "metadata": {},
   "outputs": [
    {
     "name": "stdout",
     "output_type": "stream",
     "text": [
      "successfully finished getting data from departments table\n"
     ]
    },
    {
     "data": {
      "application/vnd.jupyter.widget-view+json": {
       "model_id": "709b08a8f71f4b6dafc8b9c5bffd6d36",
       "version_major": 2,
       "version_minor": 0
      },
      "text/plain": [
       "Query is running:   0%|          |"
      ]
     },
     "metadata": {},
     "output_type": "display_data"
    },
    {
     "data": {
      "application/vnd.jupyter.widget-view+json": {
       "model_id": "0a3cf15e78e840929ca3cddead36ede0",
       "version_major": 2,
       "version_minor": 0
      },
      "text/plain": [
       "Downloading:   0%|          |"
      ]
     },
     "metadata": {},
     "output_type": "display_data"
    },
    {
     "name": "stdout",
     "output_type": "stream",
     "text": [
      "successfully transferred to df\n"
     ]
    }
   ],
   "source": [
    "departments = bq_full_table_df(bqclient, bqstorageclient, 'departments')\n",
    "time.sleep(60)"
   ]
  },
  {
   "cell_type": "code",
   "execution_count": 6,
   "id": "0120f4c7",
   "metadata": {},
   "outputs": [
    {
     "name": "stdout",
     "output_type": "stream",
     "text": [
      "NOT DONE\n",
      "job from orders is running\n",
      "<google.cloud.bigquery.table.RowIterator object at 0x0000026272850580>\n",
      "successfully finished getting data from orders table\n"
     ]
    },
    {
     "data": {
      "application/vnd.jupyter.widget-view+json": {
       "model_id": "d2d863dc139f4a7eae447802d509125a",
       "version_major": 2,
       "version_minor": 0
      },
      "text/plain": [
       "Query is running:   0%|          |"
      ]
     },
     "metadata": {},
     "output_type": "display_data"
    },
    {
     "data": {
      "application/vnd.jupyter.widget-view+json": {
       "model_id": "b9aba53ab9d943c4987a206e9c7ba515",
       "version_major": 2,
       "version_minor": 0
      },
      "text/plain": [
       "Downloading:   0%|          |"
      ]
     },
     "metadata": {},
     "output_type": "display_data"
    },
    {
     "name": "stdout",
     "output_type": "stream",
     "text": [
      "successfully transferred to df\n"
     ]
    }
   ],
   "source": [
    "orders = bq_full_table_df(bqclient, bqstorageclient, 'orders')\n"
   ]
  },
  {
   "cell_type": "code",
   "execution_count": 7,
   "id": "408d5ff8",
   "metadata": {},
   "outputs": [
    {
     "name": "stdout",
     "output_type": "stream",
     "text": [
      "successfully finished getting data from products table\n"
     ]
    },
    {
     "data": {
      "application/vnd.jupyter.widget-view+json": {
       "model_id": "445933a205c34c7caffc462e6bae0e07",
       "version_major": 2,
       "version_minor": 0
      },
      "text/plain": [
       "Query is running:   0%|          |"
      ]
     },
     "metadata": {},
     "output_type": "display_data"
    },
    {
     "data": {
      "application/vnd.jupyter.widget-view+json": {
       "model_id": "6d0b2c267c024b1bae94c6ac96f4576e",
       "version_major": 2,
       "version_minor": 0
      },
      "text/plain": [
       "Downloading:   0%|          |"
      ]
     },
     "metadata": {},
     "output_type": "display_data"
    },
    {
     "name": "stdout",
     "output_type": "stream",
     "text": [
      "successfully transferred to df\n"
     ]
    }
   ],
   "source": [
    "products = bq_full_table_df(bqclient, bqstorageclient, 'products')\n"
   ]
  },
  {
   "cell_type": "code",
   "execution_count": 8,
   "id": "5c349f00",
   "metadata": {},
   "outputs": [
    {
     "name": "stdout",
     "output_type": "stream",
     "text": [
      "NOT DONE\n",
      "job from order_products_prior is running\n",
      "<google.cloud.bigquery.table.RowIterator object at 0x0000026272A2AF70>\n",
      "successfully finished getting data from order_products_prior table\n"
     ]
    },
    {
     "data": {
      "application/vnd.jupyter.widget-view+json": {
       "model_id": "2198be6f7b5547c289147f10365cea6a",
       "version_major": 2,
       "version_minor": 0
      },
      "text/plain": [
       "Query is running:   0%|          |"
      ]
     },
     "metadata": {},
     "output_type": "display_data"
    },
    {
     "data": {
      "application/vnd.jupyter.widget-view+json": {
       "model_id": "e385165d1d5844bb8c377dfbade683a3",
       "version_major": 2,
       "version_minor": 0
      },
      "text/plain": [
       "Downloading:   0%|          |"
      ]
     },
     "metadata": {},
     "output_type": "display_data"
    },
    {
     "name": "stdout",
     "output_type": "stream",
     "text": [
      "successfully transferred to df\n"
     ]
    }
   ],
   "source": [
    "order_products_prior = bq_full_table_df(bqclient, bqstorageclient, 'order_products_prior')\n",
    "time.sleep(60)"
   ]
  },
  {
   "cell_type": "code",
   "execution_count": 9,
   "id": "766ca518",
   "metadata": {},
   "outputs": [
    {
     "name": "stdout",
     "output_type": "stream",
     "text": [
      "NOT DONE\n",
      "job from order_products_train is running\n",
      "<google.cloud.bigquery.table.RowIterator object at 0x00000262756DF5E0>\n",
      "successfully finished getting data from order_products_train table\n"
     ]
    },
    {
     "data": {
      "application/vnd.jupyter.widget-view+json": {
       "model_id": "a678c4d5e10f4ea1b7da941d01232f89",
       "version_major": 2,
       "version_minor": 0
      },
      "text/plain": [
       "Query is running:   0%|          |"
      ]
     },
     "metadata": {},
     "output_type": "display_data"
    },
    {
     "data": {
      "application/vnd.jupyter.widget-view+json": {
       "model_id": "f21f7afd7c314724a03498bc98f25abf",
       "version_major": 2,
       "version_minor": 0
      },
      "text/plain": [
       "Downloading:   0%|          |"
      ]
     },
     "metadata": {},
     "output_type": "display_data"
    },
    {
     "name": "stdout",
     "output_type": "stream",
     "text": [
      "successfully transferred to df\n"
     ]
    }
   ],
   "source": [
    "order_products_train = bq_full_table_df(bqclient, bqstorageclient, 'order_products_train')"
   ]
  },
  {
   "cell_type": "markdown",
   "id": "acc5f15d",
   "metadata": {},
   "source": [
    "## Defining train, validation and test set|"
   ]
  },
  {
   "cell_type": "code",
   "execution_count": 11,
   "id": "c4543c8b",
   "metadata": {},
   "outputs": [
    {
     "name": "stdout",
     "output_type": "stream",
     "text": [
      "<class 'pandas.core.frame.DataFrame'>\n",
      "RangeIndex: 32434489 entries, 0 to 32434488\n",
      "Data columns (total 4 columns):\n",
      " #   Column             Dtype\n",
      "---  ------             -----\n",
      " 0   order_id           Int64\n",
      " 1   product_id         Int64\n",
      " 2   add_to_cart_order  Int64\n",
      " 3   reordered          Int64\n",
      "dtypes: Int64(4)\n",
      "memory usage: 1.1 GB\n"
     ]
    }
   ],
   "source": [
    "order_products_prior.info()"
   ]
  },
  {
   "cell_type": "code",
   "execution_count": 12,
   "id": "7b053e90",
   "metadata": {},
   "outputs": [
    {
     "name": "stdout",
     "output_type": "stream",
     "text": [
      "<class 'pandas.core.frame.DataFrame'>\n",
      "RangeIndex: 1384617 entries, 0 to 1384616\n",
      "Data columns (total 4 columns):\n",
      " #   Column             Non-Null Count    Dtype\n",
      "---  ------             --------------    -----\n",
      " 0   order_id           1384617 non-null  Int64\n",
      " 1   product_id         1384617 non-null  Int64\n",
      " 2   add_to_cart_order  1384617 non-null  Int64\n",
      " 3   reordered          1384617 non-null  Int64\n",
      "dtypes: Int64(4)\n",
      "memory usage: 47.5 MB\n"
     ]
    }
   ],
   "source": [
    "order_products_train.info()"
   ]
  },
  {
   "cell_type": "code",
   "execution_count": 10,
   "id": "3b07dc58",
   "metadata": {},
   "outputs": [],
   "source": [
    "df = orders[orders['eval_set']=='prior']"
   ]
  },
  {
   "cell_type": "code",
   "execution_count": 11,
   "id": "814966dd",
   "metadata": {},
   "outputs": [],
   "source": [
    "test = orders[orders['eval_set']=='train']"
   ]
  },
  {
   "cell_type": "code",
   "execution_count": 39,
   "id": "c2956953",
   "metadata": {},
   "outputs": [],
   "source": [
    "pred = orders[orders['eval_set']=='test']"
   ]
  },
  {
   "cell_type": "code",
   "execution_count": 13,
   "id": "71b9e606",
   "metadata": {},
   "outputs": [
    {
     "data": {
      "text/html": [
       "<div>\n",
       "<style scoped>\n",
       "    .dataframe tbody tr th:only-of-type {\n",
       "        vertical-align: middle;\n",
       "    }\n",
       "\n",
       "    .dataframe tbody tr th {\n",
       "        vertical-align: top;\n",
       "    }\n",
       "\n",
       "    .dataframe thead th {\n",
       "        text-align: right;\n",
       "    }\n",
       "</style>\n",
       "<table border=\"1\" class=\"dataframe\">\n",
       "  <thead>\n",
       "    <tr style=\"text-align: right;\">\n",
       "      <th></th>\n",
       "      <th>order_id</th>\n",
       "      <th>user_id</th>\n",
       "      <th>eval_set</th>\n",
       "      <th>order_number</th>\n",
       "      <th>order_dow</th>\n",
       "      <th>order_hour_of_day</th>\n",
       "      <th>days_since_prior_order</th>\n",
       "    </tr>\n",
       "  </thead>\n",
       "  <tbody>\n",
       "    <tr>\n",
       "      <th>77</th>\n",
       "      <td>1349715</td>\n",
       "      <td>19750</td>\n",
       "      <td>test</td>\n",
       "      <td>12</td>\n",
       "      <td>0</td>\n",
       "      <td>1</td>\n",
       "      <td>0.0</td>\n",
       "    </tr>\n",
       "    <tr>\n",
       "      <th>113</th>\n",
       "      <td>1126303</td>\n",
       "      <td>92284</td>\n",
       "      <td>test</td>\n",
       "      <td>15</td>\n",
       "      <td>0</td>\n",
       "      <td>4</td>\n",
       "      <td>2.0</td>\n",
       "    </tr>\n",
       "    <tr>\n",
       "      <th>184</th>\n",
       "      <td>3366376</td>\n",
       "      <td>153495</td>\n",
       "      <td>test</td>\n",
       "      <td>6</td>\n",
       "      <td>0</td>\n",
       "      <td>4</td>\n",
       "      <td>3.0</td>\n",
       "    </tr>\n",
       "    <tr>\n",
       "      <th>242</th>\n",
       "      <td>1850652</td>\n",
       "      <td>178490</td>\n",
       "      <td>test</td>\n",
       "      <td>15</td>\n",
       "      <td>0</td>\n",
       "      <td>1</td>\n",
       "      <td>4.0</td>\n",
       "    </tr>\n",
       "    <tr>\n",
       "      <th>370</th>\n",
       "      <td>672486</td>\n",
       "      <td>172529</td>\n",
       "      <td>test</td>\n",
       "      <td>16</td>\n",
       "      <td>0</td>\n",
       "      <td>3</td>\n",
       "      <td>6.0</td>\n",
       "    </tr>\n",
       "  </tbody>\n",
       "</table>\n",
       "</div>"
      ],
      "text/plain": [
       "     order_id  user_id eval_set  order_number  order_dow  order_hour_of_day  \\\n",
       "77    1349715    19750     test            12          0                  1   \n",
       "113   1126303    92284     test            15          0                  4   \n",
       "184   3366376   153495     test             6          0                  4   \n",
       "242   1850652   178490     test            15          0                  1   \n",
       "370    672486   172529     test            16          0                  3   \n",
       "\n",
       "     days_since_prior_order  \n",
       "77                      0.0  \n",
       "113                     2.0  \n",
       "184                     3.0  \n",
       "242                     4.0  \n",
       "370                     6.0  "
      ]
     },
     "execution_count": 13,
     "metadata": {},
     "output_type": "execute_result"
    }
   ],
   "source": [
    "pred.head()"
   ]
  },
  {
   "cell_type": "markdown",
   "id": "10259a52",
   "metadata": {},
   "source": [
    "# Feature Engineering"
   ]
  },
  {
   "cell_type": "code",
   "execution_count": 41,
   "id": "0ad2c468",
   "metadata": {},
   "outputs": [],
   "source": [
    "order_merge_prior = orders.merge(order_products_prior, on='order_id', how='left')"
   ]
  },
  {
   "cell_type": "code",
   "execution_count": 42,
   "id": "d22cbcd2",
   "metadata": {},
   "outputs": [
    {
     "data": {
      "text/html": [
       "<div>\n",
       "<style scoped>\n",
       "    .dataframe tbody tr th:only-of-type {\n",
       "        vertical-align: middle;\n",
       "    }\n",
       "\n",
       "    .dataframe tbody tr th {\n",
       "        vertical-align: top;\n",
       "    }\n",
       "\n",
       "    .dataframe thead th {\n",
       "        text-align: right;\n",
       "    }\n",
       "</style>\n",
       "<table border=\"1\" class=\"dataframe\">\n",
       "  <thead>\n",
       "    <tr style=\"text-align: right;\">\n",
       "      <th></th>\n",
       "      <th>order_id</th>\n",
       "      <th>user_id</th>\n",
       "      <th>eval_set</th>\n",
       "      <th>order_number</th>\n",
       "      <th>order_dow</th>\n",
       "      <th>order_hour_of_day</th>\n",
       "      <th>days_since_prior_order</th>\n",
       "    </tr>\n",
       "  </thead>\n",
       "  <tbody>\n",
       "    <tr>\n",
       "      <th>0</th>\n",
       "      <td>761287</td>\n",
       "      <td>2928</td>\n",
       "      <td>prior</td>\n",
       "      <td>1</td>\n",
       "      <td>0</td>\n",
       "      <td>1</td>\n",
       "      <td>NaN</td>\n",
       "    </tr>\n",
       "    <tr>\n",
       "      <th>1</th>\n",
       "      <td>1039920</td>\n",
       "      <td>4640</td>\n",
       "      <td>prior</td>\n",
       "      <td>1</td>\n",
       "      <td>0</td>\n",
       "      <td>3</td>\n",
       "      <td>NaN</td>\n",
       "    </tr>\n",
       "    <tr>\n",
       "      <th>2</th>\n",
       "      <td>2639736</td>\n",
       "      <td>4799</td>\n",
       "      <td>prior</td>\n",
       "      <td>1</td>\n",
       "      <td>0</td>\n",
       "      <td>5</td>\n",
       "      <td>NaN</td>\n",
       "    </tr>\n",
       "    <tr>\n",
       "      <th>3</th>\n",
       "      <td>2558046</td>\n",
       "      <td>5038</td>\n",
       "      <td>prior</td>\n",
       "      <td>1</td>\n",
       "      <td>0</td>\n",
       "      <td>3</td>\n",
       "      <td>NaN</td>\n",
       "    </tr>\n",
       "    <tr>\n",
       "      <th>4</th>\n",
       "      <td>2934925</td>\n",
       "      <td>5076</td>\n",
       "      <td>prior</td>\n",
       "      <td>1</td>\n",
       "      <td>0</td>\n",
       "      <td>3</td>\n",
       "      <td>NaN</td>\n",
       "    </tr>\n",
       "  </tbody>\n",
       "</table>\n",
       "</div>"
      ],
      "text/plain": [
       "   order_id  user_id eval_set  order_number  order_dow  order_hour_of_day  \\\n",
       "0    761287     2928    prior             1          0                  1   \n",
       "1   1039920     4640    prior             1          0                  3   \n",
       "2   2639736     4799    prior             1          0                  5   \n",
       "3   2558046     5038    prior             1          0                  3   \n",
       "4   2934925     5076    prior             1          0                  3   \n",
       "\n",
       "   days_since_prior_order  \n",
       "0                     NaN  \n",
       "1                     NaN  \n",
       "2                     NaN  \n",
       "3                     NaN  \n",
       "4                     NaN  "
      ]
     },
     "execution_count": 42,
     "metadata": {},
     "output_type": "execute_result"
    }
   ],
   "source": [
    "orders.head()"
   ]
  },
  {
   "cell_type": "code",
   "execution_count": 43,
   "id": "85cb6941",
   "metadata": {},
   "outputs": [
    {
     "data": {
      "text/html": [
       "<div>\n",
       "<style scoped>\n",
       "    .dataframe tbody tr th:only-of-type {\n",
       "        vertical-align: middle;\n",
       "    }\n",
       "\n",
       "    .dataframe tbody tr th {\n",
       "        vertical-align: top;\n",
       "    }\n",
       "\n",
       "    .dataframe thead th {\n",
       "        text-align: right;\n",
       "    }\n",
       "</style>\n",
       "<table border=\"1\" class=\"dataframe\">\n",
       "  <thead>\n",
       "    <tr style=\"text-align: right;\">\n",
       "      <th></th>\n",
       "      <th>order_id</th>\n",
       "      <th>user_id</th>\n",
       "      <th>eval_set</th>\n",
       "      <th>order_number</th>\n",
       "      <th>order_dow</th>\n",
       "      <th>order_hour_of_day</th>\n",
       "      <th>days_since_prior_order</th>\n",
       "      <th>product_id</th>\n",
       "      <th>add_to_cart_order</th>\n",
       "      <th>reordered</th>\n",
       "    </tr>\n",
       "  </thead>\n",
       "  <tbody>\n",
       "    <tr>\n",
       "      <th>0</th>\n",
       "      <td>761287</td>\n",
       "      <td>2928</td>\n",
       "      <td>prior</td>\n",
       "      <td>1</td>\n",
       "      <td>0</td>\n",
       "      <td>1</td>\n",
       "      <td>NaN</td>\n",
       "      <td>29589</td>\n",
       "      <td>2</td>\n",
       "      <td>0</td>\n",
       "    </tr>\n",
       "    <tr>\n",
       "      <th>1</th>\n",
       "      <td>761287</td>\n",
       "      <td>2928</td>\n",
       "      <td>prior</td>\n",
       "      <td>1</td>\n",
       "      <td>0</td>\n",
       "      <td>1</td>\n",
       "      <td>NaN</td>\n",
       "      <td>18932</td>\n",
       "      <td>3</td>\n",
       "      <td>0</td>\n",
       "    </tr>\n",
       "    <tr>\n",
       "      <th>2</th>\n",
       "      <td>761287</td>\n",
       "      <td>2928</td>\n",
       "      <td>prior</td>\n",
       "      <td>1</td>\n",
       "      <td>0</td>\n",
       "      <td>1</td>\n",
       "      <td>NaN</td>\n",
       "      <td>48075</td>\n",
       "      <td>1</td>\n",
       "      <td>0</td>\n",
       "    </tr>\n",
       "    <tr>\n",
       "      <th>3</th>\n",
       "      <td>1039920</td>\n",
       "      <td>4640</td>\n",
       "      <td>prior</td>\n",
       "      <td>1</td>\n",
       "      <td>0</td>\n",
       "      <td>3</td>\n",
       "      <td>NaN</td>\n",
       "      <td>40199</td>\n",
       "      <td>1</td>\n",
       "      <td>0</td>\n",
       "    </tr>\n",
       "    <tr>\n",
       "      <th>4</th>\n",
       "      <td>1039920</td>\n",
       "      <td>4640</td>\n",
       "      <td>prior</td>\n",
       "      <td>1</td>\n",
       "      <td>0</td>\n",
       "      <td>3</td>\n",
       "      <td>NaN</td>\n",
       "      <td>38684</td>\n",
       "      <td>4</td>\n",
       "      <td>0</td>\n",
       "    </tr>\n",
       "  </tbody>\n",
       "</table>\n",
       "</div>"
      ],
      "text/plain": [
       "   order_id  user_id eval_set  order_number  order_dow  order_hour_of_day  \\\n",
       "0    761287     2928    prior             1          0                  1   \n",
       "1    761287     2928    prior             1          0                  1   \n",
       "2    761287     2928    prior             1          0                  1   \n",
       "3   1039920     4640    prior             1          0                  3   \n",
       "4   1039920     4640    prior             1          0                  3   \n",
       "\n",
       "   days_since_prior_order  product_id  add_to_cart_order  reordered  \n",
       "0                     NaN       29589                  2          0  \n",
       "1                     NaN       18932                  3          0  \n",
       "2                     NaN       48075                  1          0  \n",
       "3                     NaN       40199                  1          0  \n",
       "4                     NaN       38684                  4          0  "
      ]
     },
     "execution_count": 43,
     "metadata": {},
     "output_type": "execute_result"
    }
   ],
   "source": [
    "order_merge_prior.head()"
   ]
  },
  {
   "cell_type": "code",
   "execution_count": 44,
   "id": "bd16f8f9",
   "metadata": {},
   "outputs": [
    {
     "name": "stdout",
     "output_type": "stream",
     "text": [
      "<class 'pandas.core.frame.DataFrame'>\n",
      "Int64Index: 32640698 entries, 0 to 32640697\n",
      "Data columns (total 10 columns):\n",
      " #   Column                  Dtype  \n",
      "---  ------                  -----  \n",
      " 0   order_id                Int64  \n",
      " 1   user_id                 Int64  \n",
      " 2   eval_set                object \n",
      " 3   order_number            Int64  \n",
      " 4   order_dow               Int64  \n",
      " 5   order_hour_of_day       Int64  \n",
      " 6   days_since_prior_order  float64\n",
      " 7   product_id              Int64  \n",
      " 8   add_to_cart_order       Int64  \n",
      " 9   reordered               Int64  \n",
      "dtypes: Int64(8), float64(1), object(1)\n",
      "memory usage: 2.9+ GB\n"
     ]
    }
   ],
   "source": [
    "order_merge_prior.info()"
   ]
  },
  {
   "cell_type": "code",
   "execution_count": null,
   "id": "5bf74074",
   "metadata": {},
   "outputs": [],
   "source": []
  },
  {
   "cell_type": "markdown",
   "id": "003a3091",
   "metadata": {},
   "source": [
    "### Create DataFrame groupby users and products"
   ]
  },
  {
   "cell_type": "code",
   "execution_count": 45,
   "id": "a69aa8ba",
   "metadata": {},
   "outputs": [],
   "source": [
    "## creat user and product combo occur times\n",
    "user_product = order_merge_prior.groupby(['user_id', 'product_id'])[['order_id']].count().rename(columns={'order_id':'total_bought_freq'}).reset_index()"
   ]
  },
  {
   "cell_type": "code",
   "execution_count": 46,
   "id": "ea62ff16",
   "metadata": {},
   "outputs": [],
   "source": [
    "order_merge = pd.concat([order_products_prior, order_products_train], ignore_index=True)"
   ]
  },
  {
   "cell_type": "code",
   "execution_count": 47,
   "id": "99116d7b",
   "metadata": {},
   "outputs": [],
   "source": [
    "result = orders.merge(order_merge, on='order_id', how='left')"
   ]
  },
  {
   "cell_type": "code",
   "execution_count": 48,
   "id": "c41a66eb",
   "metadata": {},
   "outputs": [
    {
     "data": {
      "text/plain": [
       "order_id                        0\n",
       "user_id                         0\n",
       "eval_set                        0\n",
       "order_number                    0\n",
       "order_dow                       0\n",
       "order_hour_of_day               0\n",
       "days_since_prior_order    2078068\n",
       "product_id                  75000\n",
       "add_to_cart_order           75000\n",
       "reordered                   75000\n",
       "dtype: int64"
      ]
     },
     "execution_count": 48,
     "metadata": {},
     "output_type": "execute_result"
    }
   ],
   "source": [
    "result.isna().sum()"
   ]
  },
  {
   "cell_type": "code",
   "execution_count": null,
   "id": "26e131bc",
   "metadata": {},
   "outputs": [],
   "source": []
  },
  {
   "cell_type": "code",
   "execution_count": 49,
   "id": "2c1cfd24",
   "metadata": {},
   "outputs": [
    {
     "data": {
      "text/plain": [
       "7982695"
      ]
     },
     "execution_count": 49,
     "metadata": {},
     "output_type": "execute_result"
    }
   ],
   "source": [
    "user_product[user_product.total_bought_freq==1].shape[0]"
   ]
  },
  {
   "cell_type": "code",
   "execution_count": 50,
   "id": "aadc618b",
   "metadata": {},
   "outputs": [
    {
     "data": {
      "text/plain": [
       "49587"
      ]
     },
     "execution_count": 50,
     "metadata": {},
     "output_type": "execute_result"
    }
   ],
   "source": [
    "user_product[user_product.total_bought_freq==1].product_id.nunique()"
   ]
  },
  {
   "cell_type": "code",
   "execution_count": 51,
   "id": "7f176615",
   "metadata": {},
   "outputs": [],
   "source": [
    "## Create user total orders dataframe\n",
    "user_total = order_merge_prior.groupby('user_id')[['order_id']].count().rename(columns={'order_id':'user_total_bought'}).reset_index()"
   ]
  },
  {
   "cell_type": "code",
   "execution_count": 52,
   "id": "31f40102",
   "metadata": {},
   "outputs": [],
   "source": [
    "## Create dataframe that a customer only place order one time, and group by products\n",
    "## The new column defines how many unique customers buy specific product at least once\n",
    "item_one = user_product[user_product.total_bought_freq==1].groupby('product_id')[['user_id']].count().rename(columns={'user_id': 'one_order_freq'}).reset_index()"
   ]
  },
  {
   "cell_type": "code",
   "execution_count": 53,
   "id": "c945a209",
   "metadata": {},
   "outputs": [],
   "source": [
    "result.product_id.fillna(0, inplace=True)\n",
    "result = result.merge(item_one, on='product_id', how='left')"
   ]
  },
  {
   "cell_type": "code",
   "execution_count": 54,
   "id": "cba487fa",
   "metadata": {},
   "outputs": [],
   "source": [
    "result = result.merge(user_product, on=['user_id', 'product_id'], how='left')"
   ]
  },
  {
   "cell_type": "code",
   "execution_count": 55,
   "id": "ae679232",
   "metadata": {},
   "outputs": [],
   "source": [
    "## Get the total number of users bought product\n",
    "## The new column defines how many transactions for specific product(1 customer buy A product once count as once) \n",
    "item_cust_freq = user_product.groupby('product_id')[['user_id']].count().rename(columns={'user_id':'item_cust_freq'}).reset_index()"
   ]
  },
  {
   "cell_type": "code",
   "execution_count": 56,
   "id": "06c6ce93",
   "metadata": {},
   "outputs": [],
   "source": [
    "result = result.merge(item_cust_freq, on='product_id', how='left')"
   ]
  },
  {
   "cell_type": "code",
   "execution_count": 57,
   "id": "81165041",
   "metadata": {},
   "outputs": [
    {
     "data": {
      "text/html": [
       "<div>\n",
       "<style scoped>\n",
       "    .dataframe tbody tr th:only-of-type {\n",
       "        vertical-align: middle;\n",
       "    }\n",
       "\n",
       "    .dataframe tbody tr th {\n",
       "        vertical-align: top;\n",
       "    }\n",
       "\n",
       "    .dataframe thead th {\n",
       "        text-align: right;\n",
       "    }\n",
       "</style>\n",
       "<table border=\"1\" class=\"dataframe\">\n",
       "  <thead>\n",
       "    <tr style=\"text-align: right;\">\n",
       "      <th></th>\n",
       "      <th>product_id</th>\n",
       "      <th>item_cust_freq</th>\n",
       "      <th>product_name</th>\n",
       "      <th>aisle_id</th>\n",
       "      <th>department_id</th>\n",
       "    </tr>\n",
       "  </thead>\n",
       "  <tbody>\n",
       "    <tr>\n",
       "      <th>0</th>\n",
       "      <td>24852</td>\n",
       "      <td>73956</td>\n",
       "      <td>Banana</td>\n",
       "      <td>24</td>\n",
       "      <td>4</td>\n",
       "    </tr>\n",
       "    <tr>\n",
       "      <th>1</th>\n",
       "      <td>13176</td>\n",
       "      <td>63537</td>\n",
       "      <td>Bag of Organic Bananas</td>\n",
       "      <td>24</td>\n",
       "      <td>4</td>\n",
       "    </tr>\n",
       "    <tr>\n",
       "      <th>2</th>\n",
       "      <td>21137</td>\n",
       "      <td>58838</td>\n",
       "      <td>Organic Strawberries</td>\n",
       "      <td>24</td>\n",
       "      <td>4</td>\n",
       "    </tr>\n",
       "    <tr>\n",
       "      <th>3</th>\n",
       "      <td>21903</td>\n",
       "      <td>55037</td>\n",
       "      <td>Organic Baby Spinach</td>\n",
       "      <td>123</td>\n",
       "      <td>4</td>\n",
       "    </tr>\n",
       "    <tr>\n",
       "      <th>4</th>\n",
       "      <td>47626</td>\n",
       "      <td>46402</td>\n",
       "      <td>Large Lemon</td>\n",
       "      <td>24</td>\n",
       "      <td>4</td>\n",
       "    </tr>\n",
       "  </tbody>\n",
       "</table>\n",
       "</div>"
      ],
      "text/plain": [
       "   product_id  item_cust_freq            product_name  aisle_id  department_id\n",
       "0       24852           73956                  Banana        24              4\n",
       "1       13176           63537  Bag of Organic Bananas        24              4\n",
       "2       21137           58838    Organic Strawberries        24              4\n",
       "3       21903           55037    Organic Baby Spinach       123              4\n",
       "4       47626           46402             Large Lemon        24              4"
      ]
     },
     "execution_count": 57,
     "metadata": {},
     "output_type": "execute_result"
    }
   ],
   "source": [
    "item_cust_freq.sort_values(by='item_cust_freq', ascending=False).merge(products, on='product_id', how='left').head()"
   ]
  },
  {
   "cell_type": "code",
   "execution_count": 58,
   "id": "e4d49e13",
   "metadata": {},
   "outputs": [
    {
     "data": {
      "text/html": [
       "<div>\n",
       "<style scoped>\n",
       "    .dataframe tbody tr th:only-of-type {\n",
       "        vertical-align: middle;\n",
       "    }\n",
       "\n",
       "    .dataframe tbody tr th {\n",
       "        vertical-align: top;\n",
       "    }\n",
       "\n",
       "    .dataframe thead th {\n",
       "        text-align: right;\n",
       "    }\n",
       "</style>\n",
       "<table border=\"1\" class=\"dataframe\">\n",
       "  <thead>\n",
       "    <tr style=\"text-align: right;\">\n",
       "      <th></th>\n",
       "      <th>user_id</th>\n",
       "      <th>product_id</th>\n",
       "      <th>total_bought_freq</th>\n",
       "      <th>product_name</th>\n",
       "      <th>aisle_id</th>\n",
       "      <th>department_id</th>\n",
       "    </tr>\n",
       "  </thead>\n",
       "  <tbody>\n",
       "    <tr>\n",
       "      <th>0</th>\n",
       "      <td>141736</td>\n",
       "      <td>25133</td>\n",
       "      <td>99</td>\n",
       "      <td>Organic String Cheese</td>\n",
       "      <td>21</td>\n",
       "      <td>16</td>\n",
       "    </tr>\n",
       "    <tr>\n",
       "      <th>1</th>\n",
       "      <td>41356</td>\n",
       "      <td>38652</td>\n",
       "      <td>99</td>\n",
       "      <td>Yerba Mate Orange Exuberance Tea</td>\n",
       "      <td>64</td>\n",
       "      <td>7</td>\n",
       "    </tr>\n",
       "    <tr>\n",
       "      <th>2</th>\n",
       "      <td>17997</td>\n",
       "      <td>4210</td>\n",
       "      <td>99</td>\n",
       "      <td>Whole Milk</td>\n",
       "      <td>84</td>\n",
       "      <td>16</td>\n",
       "    </tr>\n",
       "    <tr>\n",
       "      <th>3</th>\n",
       "      <td>41356</td>\n",
       "      <td>6583</td>\n",
       "      <td>99</td>\n",
       "      <td>Oraganic Lemon Elation Yerba Mate Drink</td>\n",
       "      <td>98</td>\n",
       "      <td>7</td>\n",
       "    </tr>\n",
       "    <tr>\n",
       "      <th>4</th>\n",
       "      <td>41356</td>\n",
       "      <td>14366</td>\n",
       "      <td>99</td>\n",
       "      <td>Enlighten Mint Organic</td>\n",
       "      <td>94</td>\n",
       "      <td>7</td>\n",
       "    </tr>\n",
       "  </tbody>\n",
       "</table>\n",
       "</div>"
      ],
      "text/plain": [
       "   user_id  product_id  total_bought_freq  \\\n",
       "0   141736       25133                 99   \n",
       "1    41356       38652                 99   \n",
       "2    17997        4210                 99   \n",
       "3    41356        6583                 99   \n",
       "4    41356       14366                 99   \n",
       "\n",
       "                              product_name  aisle_id  department_id  \n",
       "0                    Organic String Cheese        21             16  \n",
       "1         Yerba Mate Orange Exuberance Tea        64              7  \n",
       "2                               Whole Milk        84             16  \n",
       "3  Oraganic Lemon Elation Yerba Mate Drink        98              7  \n",
       "4                   Enlighten Mint Organic        94              7  "
      ]
     },
     "execution_count": 58,
     "metadata": {},
     "output_type": "execute_result"
    }
   ],
   "source": [
    "user_product.sort_values(by='total_bought_freq', ascending=False).merge(products, on='product_id', how='left').head()"
   ]
  },
  {
   "cell_type": "code",
   "execution_count": 59,
   "id": "054391be",
   "metadata": {},
   "outputs": [],
   "source": [
    "order_merge_prior['order_number_back'] = order_merge_prior.groupby('user_id')['order_number'].transform(max) - order_merge_prior.order_number +1 "
   ]
  },
  {
   "cell_type": "code",
   "execution_count": 60,
   "id": "bf84c064",
   "metadata": {},
   "outputs": [],
   "source": [
    "## Creat dataframe that onyl contain last 5 orders\n",
    "last_five = order_merge_prior[order_merge_prior.order_number_back <=5]"
   ]
  },
  {
   "cell_type": "code",
   "execution_count": 61,
   "id": "8687c811",
   "metadata": {},
   "outputs": [],
   "source": [
    "## Calculate how many time a product occur in the most recent 5 times\n",
    "product_occur_l5 = last_five.groupby(['user_id','product_id'])[['order_id']].count().rename(columns={'order_id':'times_last5'}).reset_index()"
   ]
  },
  {
   "cell_type": "code",
   "execution_count": 62,
   "id": "915497dd",
   "metadata": {},
   "outputs": [],
   "source": [
    "result = result.merge(product_occur_l5, on=['user_id', 'product_id'], how='left')"
   ]
  },
  {
   "cell_type": "code",
   "execution_count": 63,
   "id": "b387dfcc",
   "metadata": {},
   "outputs": [
    {
     "data": {
      "text/html": [
       "<div>\n",
       "<style scoped>\n",
       "    .dataframe tbody tr th:only-of-type {\n",
       "        vertical-align: middle;\n",
       "    }\n",
       "\n",
       "    .dataframe tbody tr th {\n",
       "        vertical-align: top;\n",
       "    }\n",
       "\n",
       "    .dataframe thead th {\n",
       "        text-align: right;\n",
       "    }\n",
       "</style>\n",
       "<table border=\"1\" class=\"dataframe\">\n",
       "  <thead>\n",
       "    <tr style=\"text-align: right;\">\n",
       "      <th></th>\n",
       "      <th>user_id</th>\n",
       "      <th>product_id</th>\n",
       "      <th>times_last5</th>\n",
       "    </tr>\n",
       "  </thead>\n",
       "  <tbody>\n",
       "    <tr>\n",
       "      <th>0</th>\n",
       "      <td>1</td>\n",
       "      <td>196</td>\n",
       "      <td>4</td>\n",
       "    </tr>\n",
       "    <tr>\n",
       "      <th>1</th>\n",
       "      <td>1</td>\n",
       "      <td>10258</td>\n",
       "      <td>4</td>\n",
       "    </tr>\n",
       "    <tr>\n",
       "      <th>2</th>\n",
       "      <td>1</td>\n",
       "      <td>12427</td>\n",
       "      <td>4</td>\n",
       "    </tr>\n",
       "    <tr>\n",
       "      <th>3</th>\n",
       "      <td>1</td>\n",
       "      <td>13032</td>\n",
       "      <td>2</td>\n",
       "    </tr>\n",
       "    <tr>\n",
       "      <th>4</th>\n",
       "      <td>1</td>\n",
       "      <td>25133</td>\n",
       "      <td>4</td>\n",
       "    </tr>\n",
       "  </tbody>\n",
       "</table>\n",
       "</div>"
      ],
      "text/plain": [
       "   user_id  product_id  times_last5\n",
       "0        1         196            4\n",
       "1        1       10258            4\n",
       "2        1       12427            4\n",
       "3        1       13032            2\n",
       "4        1       25133            4"
      ]
     },
     "execution_count": 63,
     "metadata": {},
     "output_type": "execute_result"
    }
   ],
   "source": [
    "product_occur_l5.head()"
   ]
  },
  {
   "cell_type": "code",
   "execution_count": 64,
   "id": "a787b0ad",
   "metadata": {},
   "outputs": [],
   "source": [
    "## How frequently a customer bought a product after its first purchase\n",
    "first_order_number = order_merge_prior.groupby(['user_id', 'product_id'])[['order_number']].min().rename(columns={'order_number':'first_order_number'}).reset_index()\n",
    "total_order_number = order_merge_prior.groupby('user_id')[['order_number']].max().rename(columns={'order_number':'total_order_number'}).reset_index()"
   ]
  },
  {
   "cell_type": "code",
   "execution_count": 65,
   "id": "687bcff8",
   "metadata": {},
   "outputs": [],
   "source": [
    "first_order_number = first_order_number.merge(total_order_number, on='user_id', how='left')"
   ]
  },
  {
   "cell_type": "code",
   "execution_count": 66,
   "id": "3ac37977",
   "metadata": {},
   "outputs": [],
   "source": [
    "first_order_number['range'] = first_order_number.total_order_number - first_order_number.first_order_number +1 "
   ]
  },
  {
   "cell_type": "code",
   "execution_count": 67,
   "id": "a0e8195c",
   "metadata": {},
   "outputs": [],
   "source": [
    "user_product = user_product.merge(first_order_number, on=['user_id', 'product_id'], how='left')"
   ]
  },
  {
   "cell_type": "code",
   "execution_count": 68,
   "id": "dd0982e4",
   "metadata": {},
   "outputs": [],
   "source": [
    "user_product['order_fre_ratio_aft_first'] = user_product.total_bought_freq/user_product.range"
   ]
  },
  {
   "cell_type": "code",
   "execution_count": 69,
   "id": "38a69eeb",
   "metadata": {},
   "outputs": [],
   "source": [
    "order_number_df = order_merge_prior.groupby(['user_id', 'product_id'])['order_number'].agg(['min', 'max']).reset_index().rename(columns={'min': 'first_order_number', 'max': 'last_order_number'})"
   ]
  },
  {
   "cell_type": "code",
   "execution_count": 70,
   "id": "ad13b40e",
   "metadata": {},
   "outputs": [],
   "source": [
    "order_merge_prior.product_id.fillna(0, inplace=True)\n",
    "order_merge_prior = order_merge_prior.merge(order_number_df, on=['user_id', 'product_id'], how='left')\n",
    "order_merge_prior.product_id.replace(0, np.nan, inplace=True)"
   ]
  },
  {
   "cell_type": "code",
   "execution_count": 71,
   "id": "ffc9550a",
   "metadata": {},
   "outputs": [],
   "source": [
    "order_merge_prior['product_order_ratio'] = (order_merge_prior['order_number']-order_merge_prior['first_order_number'])/(order_merge_prior['last_order_number'] - order_merge_prior['first_order_number'])"
   ]
  },
  {
   "cell_type": "code",
   "execution_count": 72,
   "id": "1e276af3",
   "metadata": {},
   "outputs": [],
   "source": [
    "result = result.merge(order_merge_prior[['order_id', 'user_id', 'product_id', 'product_order_ratio']], on=['order_id', 'user_id', 'product_id'], how='left')"
   ]
  },
  {
   "cell_type": "code",
   "execution_count": 73,
   "id": "c2453d12",
   "metadata": {},
   "outputs": [
    {
     "data": {
      "text/plain": [
       "order_id                        0\n",
       "user_id                         0\n",
       "eval_set                        0\n",
       "order_number                    0\n",
       "order_dow                       0\n",
       "order_hour_of_day               0\n",
       "days_since_prior_order    2078068\n",
       "product_id                 206209\n",
       "add_to_cart_order          206209\n",
       "reordered                  206209\n",
       "order_number_back               0\n",
       "first_order_number         206209\n",
       "last_order_number          206209\n",
       "product_order_ratio        206209\n",
       "dtype: int64"
      ]
     },
     "execution_count": 73,
     "metadata": {},
     "output_type": "execute_result"
    }
   ],
   "source": [
    "order_merge_prior.isna().sum()"
   ]
  },
  {
   "cell_type": "code",
   "execution_count": 74,
   "id": "378f5277",
   "metadata": {},
   "outputs": [
    {
     "data": {
      "text/html": [
       "<div>\n",
       "<style scoped>\n",
       "    .dataframe tbody tr th:only-of-type {\n",
       "        vertical-align: middle;\n",
       "    }\n",
       "\n",
       "    .dataframe tbody tr th {\n",
       "        vertical-align: top;\n",
       "    }\n",
       "\n",
       "    .dataframe thead th {\n",
       "        text-align: right;\n",
       "    }\n",
       "</style>\n",
       "<table border=\"1\" class=\"dataframe\">\n",
       "  <thead>\n",
       "    <tr style=\"text-align: right;\">\n",
       "      <th></th>\n",
       "      <th>order_id</th>\n",
       "      <th>user_id</th>\n",
       "      <th>eval_set</th>\n",
       "      <th>order_number</th>\n",
       "      <th>order_dow</th>\n",
       "      <th>order_hour_of_day</th>\n",
       "      <th>days_since_prior_order</th>\n",
       "      <th>product_id</th>\n",
       "      <th>add_to_cart_order</th>\n",
       "      <th>reordered</th>\n",
       "      <th>order_number_back</th>\n",
       "      <th>first_order_number</th>\n",
       "      <th>last_order_number</th>\n",
       "      <th>product_order_ratio</th>\n",
       "    </tr>\n",
       "  </thead>\n",
       "  <tbody>\n",
       "    <tr>\n",
       "      <th>0</th>\n",
       "      <td>761287</td>\n",
       "      <td>2928</td>\n",
       "      <td>prior</td>\n",
       "      <td>1</td>\n",
       "      <td>0</td>\n",
       "      <td>1</td>\n",
       "      <td>NaN</td>\n",
       "      <td>29589</td>\n",
       "      <td>2</td>\n",
       "      <td>0</td>\n",
       "      <td>14</td>\n",
       "      <td>1</td>\n",
       "      <td>13</td>\n",
       "      <td>0.0</td>\n",
       "    </tr>\n",
       "    <tr>\n",
       "      <th>1</th>\n",
       "      <td>761287</td>\n",
       "      <td>2928</td>\n",
       "      <td>prior</td>\n",
       "      <td>1</td>\n",
       "      <td>0</td>\n",
       "      <td>1</td>\n",
       "      <td>NaN</td>\n",
       "      <td>18932</td>\n",
       "      <td>3</td>\n",
       "      <td>0</td>\n",
       "      <td>14</td>\n",
       "      <td>1</td>\n",
       "      <td>1</td>\n",
       "      <td>NaN</td>\n",
       "    </tr>\n",
       "    <tr>\n",
       "      <th>2</th>\n",
       "      <td>761287</td>\n",
       "      <td>2928</td>\n",
       "      <td>prior</td>\n",
       "      <td>1</td>\n",
       "      <td>0</td>\n",
       "      <td>1</td>\n",
       "      <td>NaN</td>\n",
       "      <td>48075</td>\n",
       "      <td>1</td>\n",
       "      <td>0</td>\n",
       "      <td>14</td>\n",
       "      <td>1</td>\n",
       "      <td>13</td>\n",
       "      <td>0.0</td>\n",
       "    </tr>\n",
       "    <tr>\n",
       "      <th>3</th>\n",
       "      <td>1039920</td>\n",
       "      <td>4640</td>\n",
       "      <td>prior</td>\n",
       "      <td>1</td>\n",
       "      <td>0</td>\n",
       "      <td>3</td>\n",
       "      <td>NaN</td>\n",
       "      <td>40199</td>\n",
       "      <td>1</td>\n",
       "      <td>0</td>\n",
       "      <td>6</td>\n",
       "      <td>1</td>\n",
       "      <td>1</td>\n",
       "      <td>NaN</td>\n",
       "    </tr>\n",
       "    <tr>\n",
       "      <th>4</th>\n",
       "      <td>1039920</td>\n",
       "      <td>4640</td>\n",
       "      <td>prior</td>\n",
       "      <td>1</td>\n",
       "      <td>0</td>\n",
       "      <td>3</td>\n",
       "      <td>NaN</td>\n",
       "      <td>38684</td>\n",
       "      <td>4</td>\n",
       "      <td>0</td>\n",
       "      <td>6</td>\n",
       "      <td>1</td>\n",
       "      <td>1</td>\n",
       "      <td>NaN</td>\n",
       "    </tr>\n",
       "  </tbody>\n",
       "</table>\n",
       "</div>"
      ],
      "text/plain": [
       "   order_id  user_id eval_set  order_number  order_dow  order_hour_of_day  \\\n",
       "0    761287     2928    prior             1          0                  1   \n",
       "1    761287     2928    prior             1          0                  1   \n",
       "2    761287     2928    prior             1          0                  1   \n",
       "3   1039920     4640    prior             1          0                  3   \n",
       "4   1039920     4640    prior             1          0                  3   \n",
       "\n",
       "   days_since_prior_order  product_id  add_to_cart_order  reordered  \\\n",
       "0                     NaN       29589                  2          0   \n",
       "1                     NaN       18932                  3          0   \n",
       "2                     NaN       48075                  1          0   \n",
       "3                     NaN       40199                  1          0   \n",
       "4                     NaN       38684                  4          0   \n",
       "\n",
       "   order_number_back  first_order_number  last_order_number  \\\n",
       "0                 14                   1                 13   \n",
       "1                 14                   1                  1   \n",
       "2                 14                   1                 13   \n",
       "3                  6                   1                  1   \n",
       "4                  6                   1                  1   \n",
       "\n",
       "   product_order_ratio  \n",
       "0                  0.0  \n",
       "1                  NaN  \n",
       "2                  0.0  \n",
       "3                  NaN  \n",
       "4                  NaN  "
      ]
     },
     "execution_count": 74,
     "metadata": {},
     "output_type": "execute_result"
    }
   ],
   "source": [
    "order_merge_prior.head()"
   ]
  },
  {
   "cell_type": "code",
   "execution_count": 75,
   "id": "1cdd806f",
   "metadata": {},
   "outputs": [],
   "source": [
    "result = result.merge(user_product[['user_id', 'product_id', 'order_fre_ratio_aft_first']],  on=['user_id', 'product_id'], how='left')"
   ]
  },
  {
   "cell_type": "code",
   "execution_count": 76,
   "id": "f2b720a9",
   "metadata": {},
   "outputs": [
    {
     "data": {
      "text/html": [
       "<div>\n",
       "<style scoped>\n",
       "    .dataframe tbody tr th:only-of-type {\n",
       "        vertical-align: middle;\n",
       "    }\n",
       "\n",
       "    .dataframe tbody tr th {\n",
       "        vertical-align: top;\n",
       "    }\n",
       "\n",
       "    .dataframe thead th {\n",
       "        text-align: right;\n",
       "    }\n",
       "</style>\n",
       "<table border=\"1\" class=\"dataframe\">\n",
       "  <thead>\n",
       "    <tr style=\"text-align: right;\">\n",
       "      <th></th>\n",
       "      <th>order_id</th>\n",
       "      <th>user_id</th>\n",
       "      <th>eval_set</th>\n",
       "      <th>order_number</th>\n",
       "      <th>order_dow</th>\n",
       "      <th>order_hour_of_day</th>\n",
       "      <th>days_since_prior_order</th>\n",
       "      <th>product_id</th>\n",
       "      <th>add_to_cart_order</th>\n",
       "      <th>reordered</th>\n",
       "      <th>one_order_freq</th>\n",
       "      <th>total_bought_freq</th>\n",
       "      <th>item_cust_freq</th>\n",
       "      <th>times_last5</th>\n",
       "      <th>product_order_ratio</th>\n",
       "      <th>order_fre_ratio_aft_first</th>\n",
       "    </tr>\n",
       "  </thead>\n",
       "  <tbody>\n",
       "    <tr>\n",
       "      <th>0</th>\n",
       "      <td>761287</td>\n",
       "      <td>2928</td>\n",
       "      <td>prior</td>\n",
       "      <td>1</td>\n",
       "      <td>0</td>\n",
       "      <td>1</td>\n",
       "      <td>NaN</td>\n",
       "      <td>29589</td>\n",
       "      <td>2</td>\n",
       "      <td>0</td>\n",
       "      <td>308.0</td>\n",
       "      <td>9.0</td>\n",
       "      <td>467.0</td>\n",
       "      <td>4.0</td>\n",
       "      <td>0.0</td>\n",
       "      <td>0.642857</td>\n",
       "    </tr>\n",
       "    <tr>\n",
       "      <th>1</th>\n",
       "      <td>761287</td>\n",
       "      <td>2928</td>\n",
       "      <td>prior</td>\n",
       "      <td>1</td>\n",
       "      <td>0</td>\n",
       "      <td>1</td>\n",
       "      <td>NaN</td>\n",
       "      <td>18932</td>\n",
       "      <td>3</td>\n",
       "      <td>0</td>\n",
       "      <td>16.0</td>\n",
       "      <td>1.0</td>\n",
       "      <td>21.0</td>\n",
       "      <td>NaN</td>\n",
       "      <td>NaN</td>\n",
       "      <td>0.071429</td>\n",
       "    </tr>\n",
       "    <tr>\n",
       "      <th>2</th>\n",
       "      <td>761287</td>\n",
       "      <td>2928</td>\n",
       "      <td>prior</td>\n",
       "      <td>1</td>\n",
       "      <td>0</td>\n",
       "      <td>1</td>\n",
       "      <td>NaN</td>\n",
       "      <td>48075</td>\n",
       "      <td>1</td>\n",
       "      <td>0</td>\n",
       "      <td>159.0</td>\n",
       "      <td>7.0</td>\n",
       "      <td>223.0</td>\n",
       "      <td>3.0</td>\n",
       "      <td>0.0</td>\n",
       "      <td>0.5</td>\n",
       "    </tr>\n",
       "    <tr>\n",
       "      <th>3</th>\n",
       "      <td>1039920</td>\n",
       "      <td>4640</td>\n",
       "      <td>prior</td>\n",
       "      <td>1</td>\n",
       "      <td>0</td>\n",
       "      <td>3</td>\n",
       "      <td>NaN</td>\n",
       "      <td>40199</td>\n",
       "      <td>1</td>\n",
       "      <td>0</td>\n",
       "      <td>3261.0</td>\n",
       "      <td>1.0</td>\n",
       "      <td>5627.0</td>\n",
       "      <td>NaN</td>\n",
       "      <td>NaN</td>\n",
       "      <td>0.166667</td>\n",
       "    </tr>\n",
       "    <tr>\n",
       "      <th>4</th>\n",
       "      <td>1039920</td>\n",
       "      <td>4640</td>\n",
       "      <td>prior</td>\n",
       "      <td>1</td>\n",
       "      <td>0</td>\n",
       "      <td>3</td>\n",
       "      <td>NaN</td>\n",
       "      <td>38684</td>\n",
       "      <td>4</td>\n",
       "      <td>0</td>\n",
       "      <td>723.0</td>\n",
       "      <td>1.0</td>\n",
       "      <td>890.0</td>\n",
       "      <td>NaN</td>\n",
       "      <td>NaN</td>\n",
       "      <td>0.166667</td>\n",
       "    </tr>\n",
       "  </tbody>\n",
       "</table>\n",
       "</div>"
      ],
      "text/plain": [
       "   order_id  user_id eval_set  order_number  order_dow  order_hour_of_day  \\\n",
       "0    761287     2928    prior             1          0                  1   \n",
       "1    761287     2928    prior             1          0                  1   \n",
       "2    761287     2928    prior             1          0                  1   \n",
       "3   1039920     4640    prior             1          0                  3   \n",
       "4   1039920     4640    prior             1          0                  3   \n",
       "\n",
       "   days_since_prior_order  product_id  add_to_cart_order  reordered  \\\n",
       "0                     NaN       29589                  2          0   \n",
       "1                     NaN       18932                  3          0   \n",
       "2                     NaN       48075                  1          0   \n",
       "3                     NaN       40199                  1          0   \n",
       "4                     NaN       38684                  4          0   \n",
       "\n",
       "   one_order_freq  total_bought_freq  item_cust_freq  times_last5  \\\n",
       "0           308.0                9.0           467.0          4.0   \n",
       "1            16.0                1.0            21.0          NaN   \n",
       "2           159.0                7.0           223.0          3.0   \n",
       "3          3261.0                1.0          5627.0          NaN   \n",
       "4           723.0                1.0           890.0          NaN   \n",
       "\n",
       "   product_order_ratio  order_fre_ratio_aft_first  \n",
       "0                  0.0                   0.642857  \n",
       "1                  NaN                   0.071429  \n",
       "2                  0.0                        0.5  \n",
       "3                  NaN                   0.166667  \n",
       "4                  NaN                   0.166667  "
      ]
     },
     "execution_count": 76,
     "metadata": {},
     "output_type": "execute_result"
    }
   ],
   "source": [
    "result.head()"
   ]
  },
  {
   "cell_type": "code",
   "execution_count": null,
   "id": "5d56da70",
   "metadata": {},
   "outputs": [],
   "source": []
  },
  {
   "cell_type": "code",
   "execution_count": 77,
   "id": "a67b9383",
   "metadata": {},
   "outputs": [],
   "source": [
    "prod_feat = order_merge_prior.groupby('product_id')[['reordered']].mean().rename(columns={'reordered':'prod_mean_reorder_ratio'}).reset_index()\n",
    "mean_add_to_cart_order = order_merge_prior.groupby('product_id')[['add_to_cart_order']].mean().rename(columns={'add_to_cart_order':'prod_mean_add_to_cart_order'}).reset_index()"
   ]
  },
  {
   "cell_type": "code",
   "execution_count": 78,
   "id": "69cad866",
   "metadata": {},
   "outputs": [],
   "source": [
    "prod_feat = prod_feat.merge(mean_add_to_cart_order, on='product_id')"
   ]
  },
  {
   "cell_type": "code",
   "execution_count": 79,
   "id": "2984aad8",
   "metadata": {},
   "outputs": [],
   "source": [
    "user_prod_feat = order_merge_prior.groupby(['user_id', 'product_id'])[['reordered']].mean().rename(columns={'reordered':'mean_reorder_ratio'}).reset_index()\n",
    "user_prod_mean_add_to_cart_order = order_merge_prior.groupby(['user_id', 'product_id'])[['add_to_cart_order']].mean().rename(columns={'add_to_cart_order':'mean_add_to_cart_order'}).reset_index()"
   ]
  },
  {
   "cell_type": "code",
   "execution_count": 80,
   "id": "26b1683e",
   "metadata": {},
   "outputs": [],
   "source": [
    "user_prod_feat = user_prod_feat.merge(user_prod_mean_add_to_cart_order, on=['user_id', 'product_id'])"
   ]
  },
  {
   "cell_type": "code",
   "execution_count": 81,
   "id": "3a872e6f",
   "metadata": {},
   "outputs": [
    {
     "data": {
      "text/html": [
       "<div>\n",
       "<style scoped>\n",
       "    .dataframe tbody tr th:only-of-type {\n",
       "        vertical-align: middle;\n",
       "    }\n",
       "\n",
       "    .dataframe tbody tr th {\n",
       "        vertical-align: top;\n",
       "    }\n",
       "\n",
       "    .dataframe thead th {\n",
       "        text-align: right;\n",
       "    }\n",
       "</style>\n",
       "<table border=\"1\" class=\"dataframe\">\n",
       "  <thead>\n",
       "    <tr style=\"text-align: right;\">\n",
       "      <th></th>\n",
       "      <th>product_id</th>\n",
       "      <th>prod_mean_reorder_ratio</th>\n",
       "      <th>prod_mean_add_to_cart_order</th>\n",
       "    </tr>\n",
       "  </thead>\n",
       "  <tbody>\n",
       "    <tr>\n",
       "      <th>0</th>\n",
       "      <td>1</td>\n",
       "      <td>0.613391</td>\n",
       "      <td>5.801836</td>\n",
       "    </tr>\n",
       "    <tr>\n",
       "      <th>1</th>\n",
       "      <td>2</td>\n",
       "      <td>0.133333</td>\n",
       "      <td>9.888889</td>\n",
       "    </tr>\n",
       "    <tr>\n",
       "      <th>2</th>\n",
       "      <td>3</td>\n",
       "      <td>0.732852</td>\n",
       "      <td>6.415162</td>\n",
       "    </tr>\n",
       "    <tr>\n",
       "      <th>3</th>\n",
       "      <td>4</td>\n",
       "      <td>0.446809</td>\n",
       "      <td>9.507599</td>\n",
       "    </tr>\n",
       "    <tr>\n",
       "      <th>4</th>\n",
       "      <td>5</td>\n",
       "      <td>0.6</td>\n",
       "      <td>6.466667</td>\n",
       "    </tr>\n",
       "  </tbody>\n",
       "</table>\n",
       "</div>"
      ],
      "text/plain": [
       "   product_id  prod_mean_reorder_ratio  prod_mean_add_to_cart_order\n",
       "0           1                 0.613391                     5.801836\n",
       "1           2                 0.133333                     9.888889\n",
       "2           3                 0.732852                     6.415162\n",
       "3           4                 0.446809                     9.507599\n",
       "4           5                      0.6                     6.466667"
      ]
     },
     "execution_count": 81,
     "metadata": {},
     "output_type": "execute_result"
    }
   ],
   "source": [
    "prod_feat.head()"
   ]
  },
  {
   "cell_type": "code",
   "execution_count": 82,
   "id": "915784cd",
   "metadata": {},
   "outputs": [
    {
     "data": {
      "text/html": [
       "<div>\n",
       "<style scoped>\n",
       "    .dataframe tbody tr th:only-of-type {\n",
       "        vertical-align: middle;\n",
       "    }\n",
       "\n",
       "    .dataframe tbody tr th {\n",
       "        vertical-align: top;\n",
       "    }\n",
       "\n",
       "    .dataframe thead th {\n",
       "        text-align: right;\n",
       "    }\n",
       "</style>\n",
       "<table border=\"1\" class=\"dataframe\">\n",
       "  <thead>\n",
       "    <tr style=\"text-align: right;\">\n",
       "      <th></th>\n",
       "      <th>user_id</th>\n",
       "      <th>product_id</th>\n",
       "      <th>mean_reorder_ratio</th>\n",
       "      <th>mean_add_to_cart_order</th>\n",
       "    </tr>\n",
       "  </thead>\n",
       "  <tbody>\n",
       "    <tr>\n",
       "      <th>0</th>\n",
       "      <td>1</td>\n",
       "      <td>196</td>\n",
       "      <td>0.9</td>\n",
       "      <td>1.4</td>\n",
       "    </tr>\n",
       "    <tr>\n",
       "      <th>1</th>\n",
       "      <td>1</td>\n",
       "      <td>10258</td>\n",
       "      <td>0.888889</td>\n",
       "      <td>3.333333</td>\n",
       "    </tr>\n",
       "    <tr>\n",
       "      <th>2</th>\n",
       "      <td>1</td>\n",
       "      <td>10326</td>\n",
       "      <td>0.0</td>\n",
       "      <td>5.0</td>\n",
       "    </tr>\n",
       "    <tr>\n",
       "      <th>3</th>\n",
       "      <td>1</td>\n",
       "      <td>12427</td>\n",
       "      <td>0.9</td>\n",
       "      <td>3.3</td>\n",
       "    </tr>\n",
       "    <tr>\n",
       "      <th>4</th>\n",
       "      <td>1</td>\n",
       "      <td>13032</td>\n",
       "      <td>0.666667</td>\n",
       "      <td>6.333333</td>\n",
       "    </tr>\n",
       "  </tbody>\n",
       "</table>\n",
       "</div>"
      ],
      "text/plain": [
       "   user_id  product_id  mean_reorder_ratio  mean_add_to_cart_order\n",
       "0        1         196                 0.9                     1.4\n",
       "1        1       10258            0.888889                3.333333\n",
       "2        1       10326                 0.0                     5.0\n",
       "3        1       12427                 0.9                     3.3\n",
       "4        1       13032            0.666667                6.333333"
      ]
     },
     "execution_count": 82,
     "metadata": {},
     "output_type": "execute_result"
    }
   ],
   "source": [
    "user_prod_feat.head()"
   ]
  },
  {
   "cell_type": "code",
   "execution_count": 83,
   "id": "a189abb1",
   "metadata": {},
   "outputs": [],
   "source": [
    "result = result.merge(prod_feat, on='product_id', how='left')"
   ]
  },
  {
   "cell_type": "code",
   "execution_count": 84,
   "id": "f8adc3c6",
   "metadata": {},
   "outputs": [],
   "source": [
    "result = result.merge(user_prod_feat, on=['user_id', 'product_id'], how='left')"
   ]
  },
  {
   "cell_type": "markdown",
   "id": "91da5996",
   "metadata": {},
   "source": [
    "### Users feature"
   ]
  },
  {
   "cell_type": "code",
   "execution_count": 85,
   "id": "44d9b4e7",
   "metadata": {},
   "outputs": [
    {
     "data": {
      "text/html": [
       "<div>\n",
       "<style scoped>\n",
       "    .dataframe tbody tr th:only-of-type {\n",
       "        vertical-align: middle;\n",
       "    }\n",
       "\n",
       "    .dataframe tbody tr th {\n",
       "        vertical-align: top;\n",
       "    }\n",
       "\n",
       "    .dataframe thead th {\n",
       "        text-align: right;\n",
       "    }\n",
       "</style>\n",
       "<table border=\"1\" class=\"dataframe\">\n",
       "  <thead>\n",
       "    <tr style=\"text-align: right;\">\n",
       "      <th></th>\n",
       "      <th>order_id</th>\n",
       "      <th>user_id</th>\n",
       "      <th>eval_set</th>\n",
       "      <th>order_number</th>\n",
       "      <th>order_dow</th>\n",
       "      <th>order_hour_of_day</th>\n",
       "      <th>days_since_prior_order</th>\n",
       "      <th>product_id</th>\n",
       "      <th>add_to_cart_order</th>\n",
       "      <th>reordered</th>\n",
       "      <th>order_number_back</th>\n",
       "      <th>first_order_number</th>\n",
       "      <th>last_order_number</th>\n",
       "      <th>product_order_ratio</th>\n",
       "    </tr>\n",
       "  </thead>\n",
       "  <tbody>\n",
       "    <tr>\n",
       "      <th>0</th>\n",
       "      <td>761287</td>\n",
       "      <td>2928</td>\n",
       "      <td>prior</td>\n",
       "      <td>1</td>\n",
       "      <td>0</td>\n",
       "      <td>1</td>\n",
       "      <td>NaN</td>\n",
       "      <td>29589</td>\n",
       "      <td>2</td>\n",
       "      <td>0</td>\n",
       "      <td>14</td>\n",
       "      <td>1</td>\n",
       "      <td>13</td>\n",
       "      <td>0.0</td>\n",
       "    </tr>\n",
       "    <tr>\n",
       "      <th>1</th>\n",
       "      <td>761287</td>\n",
       "      <td>2928</td>\n",
       "      <td>prior</td>\n",
       "      <td>1</td>\n",
       "      <td>0</td>\n",
       "      <td>1</td>\n",
       "      <td>NaN</td>\n",
       "      <td>18932</td>\n",
       "      <td>3</td>\n",
       "      <td>0</td>\n",
       "      <td>14</td>\n",
       "      <td>1</td>\n",
       "      <td>1</td>\n",
       "      <td>NaN</td>\n",
       "    </tr>\n",
       "    <tr>\n",
       "      <th>2</th>\n",
       "      <td>761287</td>\n",
       "      <td>2928</td>\n",
       "      <td>prior</td>\n",
       "      <td>1</td>\n",
       "      <td>0</td>\n",
       "      <td>1</td>\n",
       "      <td>NaN</td>\n",
       "      <td>48075</td>\n",
       "      <td>1</td>\n",
       "      <td>0</td>\n",
       "      <td>14</td>\n",
       "      <td>1</td>\n",
       "      <td>13</td>\n",
       "      <td>0.0</td>\n",
       "    </tr>\n",
       "    <tr>\n",
       "      <th>3</th>\n",
       "      <td>1039920</td>\n",
       "      <td>4640</td>\n",
       "      <td>prior</td>\n",
       "      <td>1</td>\n",
       "      <td>0</td>\n",
       "      <td>3</td>\n",
       "      <td>NaN</td>\n",
       "      <td>40199</td>\n",
       "      <td>1</td>\n",
       "      <td>0</td>\n",
       "      <td>6</td>\n",
       "      <td>1</td>\n",
       "      <td>1</td>\n",
       "      <td>NaN</td>\n",
       "    </tr>\n",
       "    <tr>\n",
       "      <th>4</th>\n",
       "      <td>1039920</td>\n",
       "      <td>4640</td>\n",
       "      <td>prior</td>\n",
       "      <td>1</td>\n",
       "      <td>0</td>\n",
       "      <td>3</td>\n",
       "      <td>NaN</td>\n",
       "      <td>38684</td>\n",
       "      <td>4</td>\n",
       "      <td>0</td>\n",
       "      <td>6</td>\n",
       "      <td>1</td>\n",
       "      <td>1</td>\n",
       "      <td>NaN</td>\n",
       "    </tr>\n",
       "  </tbody>\n",
       "</table>\n",
       "</div>"
      ],
      "text/plain": [
       "   order_id  user_id eval_set  order_number  order_dow  order_hour_of_day  \\\n",
       "0    761287     2928    prior             1          0                  1   \n",
       "1    761287     2928    prior             1          0                  1   \n",
       "2    761287     2928    prior             1          0                  1   \n",
       "3   1039920     4640    prior             1          0                  3   \n",
       "4   1039920     4640    prior             1          0                  3   \n",
       "\n",
       "   days_since_prior_order  product_id  add_to_cart_order  reordered  \\\n",
       "0                     NaN       29589                  2          0   \n",
       "1                     NaN       18932                  3          0   \n",
       "2                     NaN       48075                  1          0   \n",
       "3                     NaN       40199                  1          0   \n",
       "4                     NaN       38684                  4          0   \n",
       "\n",
       "   order_number_back  first_order_number  last_order_number  \\\n",
       "0                 14                   1                 13   \n",
       "1                 14                   1                  1   \n",
       "2                 14                   1                 13   \n",
       "3                  6                   1                  1   \n",
       "4                  6                   1                  1   \n",
       "\n",
       "   product_order_ratio  \n",
       "0                  0.0  \n",
       "1                  NaN  \n",
       "2                  0.0  \n",
       "3                  NaN  \n",
       "4                  NaN  "
      ]
     },
     "execution_count": 85,
     "metadata": {},
     "output_type": "execute_result"
    }
   ],
   "source": [
    "order_merge_prior.head()"
   ]
  },
  {
   "cell_type": "code",
   "execution_count": 86,
   "id": "580b1f7f",
   "metadata": {},
   "outputs": [],
   "source": [
    "user_feat = order_merge_prior.groupby('user_id').agg(\n",
    "    max_order_number=('order_number', 'max'),\n",
    "    sum_days_since_prior=('days_since_prior_order', 'sum'),\n",
    "    mean_days_since_prior=('days_since_prior_order', 'mean'),\n",
    "    count_product_id=('product_id', 'count'),\n",
    "    unique_count_product_id=('product_id', 'nunique')\n",
    ").reset_index()"
   ]
  },
  {
   "cell_type": "code",
   "execution_count": 87,
   "id": "2f4ca4cb",
   "metadata": {},
   "outputs": [
    {
     "data": {
      "text/html": [
       "<div>\n",
       "<style scoped>\n",
       "    .dataframe tbody tr th:only-of-type {\n",
       "        vertical-align: middle;\n",
       "    }\n",
       "\n",
       "    .dataframe tbody tr th {\n",
       "        vertical-align: top;\n",
       "    }\n",
       "\n",
       "    .dataframe thead th {\n",
       "        text-align: right;\n",
       "    }\n",
       "</style>\n",
       "<table border=\"1\" class=\"dataframe\">\n",
       "  <thead>\n",
       "    <tr style=\"text-align: right;\">\n",
       "      <th></th>\n",
       "      <th>user_id</th>\n",
       "      <th>max_order_number</th>\n",
       "      <th>sum_days_since_prior</th>\n",
       "      <th>mean_days_since_prior</th>\n",
       "      <th>count_product_id</th>\n",
       "      <th>unique_count_product_id</th>\n",
       "    </tr>\n",
       "  </thead>\n",
       "  <tbody>\n",
       "    <tr>\n",
       "      <th>0</th>\n",
       "      <td>1</td>\n",
       "      <td>11</td>\n",
       "      <td>1108.0</td>\n",
       "      <td>20.145455</td>\n",
       "      <td>59</td>\n",
       "      <td>18</td>\n",
       "    </tr>\n",
       "    <tr>\n",
       "      <th>1</th>\n",
       "      <td>2</td>\n",
       "      <td>15</td>\n",
       "      <td>2936.0</td>\n",
       "      <td>16.043716</td>\n",
       "      <td>195</td>\n",
       "      <td>102</td>\n",
       "    </tr>\n",
       "    <tr>\n",
       "      <th>2</th>\n",
       "      <td>3</td>\n",
       "      <td>13</td>\n",
       "      <td>907.0</td>\n",
       "      <td>11.481013</td>\n",
       "      <td>88</td>\n",
       "      <td>33</td>\n",
       "    </tr>\n",
       "    <tr>\n",
       "      <th>3</th>\n",
       "      <td>4</td>\n",
       "      <td>6</td>\n",
       "      <td>245.0</td>\n",
       "      <td>16.333333</td>\n",
       "      <td>18</td>\n",
       "      <td>17</td>\n",
       "    </tr>\n",
       "    <tr>\n",
       "      <th>4</th>\n",
       "      <td>5</td>\n",
       "      <td>5</td>\n",
       "      <td>383.0</td>\n",
       "      <td>14.185185</td>\n",
       "      <td>37</td>\n",
       "      <td>23</td>\n",
       "    </tr>\n",
       "  </tbody>\n",
       "</table>\n",
       "</div>"
      ],
      "text/plain": [
       "   user_id  max_order_number  sum_days_since_prior  mean_days_since_prior  \\\n",
       "0        1                11                1108.0              20.145455   \n",
       "1        2                15                2936.0              16.043716   \n",
       "2        3                13                 907.0              11.481013   \n",
       "3        4                 6                 245.0              16.333333   \n",
       "4        5                 5                 383.0              14.185185   \n",
       "\n",
       "   count_product_id  unique_count_product_id  \n",
       "0                59                       18  \n",
       "1               195                      102  \n",
       "2                88                       33  \n",
       "3                18                       17  \n",
       "4                37                       23  "
      ]
     },
     "execution_count": 87,
     "metadata": {},
     "output_type": "execute_result"
    }
   ],
   "source": [
    "user_feat.head()"
   ]
  },
  {
   "cell_type": "code",
   "execution_count": 88,
   "id": "ca779921",
   "metadata": {},
   "outputs": [],
   "source": [
    "result = result.merge(user_feat, on='user_id', how='left')"
   ]
  },
  {
   "cell_type": "code",
   "execution_count": null,
   "id": "1c4a9b28",
   "metadata": {},
   "outputs": [],
   "source": []
  },
  {
   "cell_type": "code",
   "execution_count": null,
   "id": "87cfff45",
   "metadata": {},
   "outputs": [],
   "source": []
  },
  {
   "cell_type": "code",
   "execution_count": 89,
   "id": "ba1c8c71",
   "metadata": {},
   "outputs": [
    {
     "data": {
      "text/html": [
       "<div>\n",
       "<style scoped>\n",
       "    .dataframe tbody tr th:only-of-type {\n",
       "        vertical-align: middle;\n",
       "    }\n",
       "\n",
       "    .dataframe tbody tr th {\n",
       "        vertical-align: top;\n",
       "    }\n",
       "\n",
       "    .dataframe thead th {\n",
       "        text-align: right;\n",
       "    }\n",
       "</style>\n",
       "<table border=\"1\" class=\"dataframe\">\n",
       "  <thead>\n",
       "    <tr style=\"text-align: right;\">\n",
       "      <th></th>\n",
       "      <th>order_id</th>\n",
       "      <th>user_id</th>\n",
       "      <th>eval_set</th>\n",
       "      <th>order_number</th>\n",
       "      <th>order_dow</th>\n",
       "      <th>order_hour_of_day</th>\n",
       "      <th>days_since_prior_order</th>\n",
       "      <th>product_id</th>\n",
       "      <th>add_to_cart_order</th>\n",
       "      <th>reordered</th>\n",
       "      <th>...</th>\n",
       "      <th>order_fre_ratio_aft_first</th>\n",
       "      <th>prod_mean_reorder_ratio</th>\n",
       "      <th>prod_mean_add_to_cart_order</th>\n",
       "      <th>mean_reorder_ratio</th>\n",
       "      <th>mean_add_to_cart_order</th>\n",
       "      <th>max_order_number</th>\n",
       "      <th>sum_days_since_prior</th>\n",
       "      <th>mean_days_since_prior</th>\n",
       "      <th>count_product_id</th>\n",
       "      <th>unique_count_product_id</th>\n",
       "    </tr>\n",
       "  </thead>\n",
       "  <tbody>\n",
       "    <tr>\n",
       "      <th>0</th>\n",
       "      <td>761287</td>\n",
       "      <td>2928</td>\n",
       "      <td>prior</td>\n",
       "      <td>1</td>\n",
       "      <td>0</td>\n",
       "      <td>1</td>\n",
       "      <td>NaN</td>\n",
       "      <td>29589</td>\n",
       "      <td>2</td>\n",
       "      <td>0</td>\n",
       "      <td>...</td>\n",
       "      <td>0.642857</td>\n",
       "      <td>0.54572</td>\n",
       "      <td>8.586576</td>\n",
       "      <td>0.888889</td>\n",
       "      <td>2.777778</td>\n",
       "      <td>14</td>\n",
       "      <td>734.0</td>\n",
       "      <td>7.489796</td>\n",
       "      <td>100</td>\n",
       "      <td>47</td>\n",
       "    </tr>\n",
       "    <tr>\n",
       "      <th>1</th>\n",
       "      <td>761287</td>\n",
       "      <td>2928</td>\n",
       "      <td>prior</td>\n",
       "      <td>1</td>\n",
       "      <td>0</td>\n",
       "      <td>1</td>\n",
       "      <td>NaN</td>\n",
       "      <td>18932</td>\n",
       "      <td>3</td>\n",
       "      <td>0</td>\n",
       "      <td>...</td>\n",
       "      <td>0.071429</td>\n",
       "      <td>0.25</td>\n",
       "      <td>6.428571</td>\n",
       "      <td>0.0</td>\n",
       "      <td>3.0</td>\n",
       "      <td>14</td>\n",
       "      <td>734.0</td>\n",
       "      <td>7.489796</td>\n",
       "      <td>100</td>\n",
       "      <td>47</td>\n",
       "    </tr>\n",
       "    <tr>\n",
       "      <th>2</th>\n",
       "      <td>761287</td>\n",
       "      <td>2928</td>\n",
       "      <td>prior</td>\n",
       "      <td>1</td>\n",
       "      <td>0</td>\n",
       "      <td>1</td>\n",
       "      <td>NaN</td>\n",
       "      <td>48075</td>\n",
       "      <td>1</td>\n",
       "      <td>0</td>\n",
       "      <td>...</td>\n",
       "      <td>0.5</td>\n",
       "      <td>0.465228</td>\n",
       "      <td>10.342926</td>\n",
       "      <td>0.857143</td>\n",
       "      <td>3.571429</td>\n",
       "      <td>14</td>\n",
       "      <td>734.0</td>\n",
       "      <td>7.489796</td>\n",
       "      <td>100</td>\n",
       "      <td>47</td>\n",
       "    </tr>\n",
       "    <tr>\n",
       "      <th>3</th>\n",
       "      <td>1039920</td>\n",
       "      <td>4640</td>\n",
       "      <td>prior</td>\n",
       "      <td>1</td>\n",
       "      <td>0</td>\n",
       "      <td>3</td>\n",
       "      <td>NaN</td>\n",
       "      <td>40199</td>\n",
       "      <td>1</td>\n",
       "      <td>0</td>\n",
       "      <td>...</td>\n",
       "      <td>0.166667</td>\n",
       "      <td>0.602276</td>\n",
       "      <td>6.884577</td>\n",
       "      <td>0.0</td>\n",
       "      <td>1.0</td>\n",
       "      <td>6</td>\n",
       "      <td>265.0</td>\n",
       "      <td>12.045455</td>\n",
       "      <td>26</td>\n",
       "      <td>18</td>\n",
       "    </tr>\n",
       "    <tr>\n",
       "      <th>4</th>\n",
       "      <td>1039920</td>\n",
       "      <td>4640</td>\n",
       "      <td>prior</td>\n",
       "      <td>1</td>\n",
       "      <td>0</td>\n",
       "      <td>3</td>\n",
       "      <td>NaN</td>\n",
       "      <td>38684</td>\n",
       "      <td>4</td>\n",
       "      <td>0</td>\n",
       "      <td>...</td>\n",
       "      <td>0.166667</td>\n",
       "      <td>0.252101</td>\n",
       "      <td>9.918487</td>\n",
       "      <td>0.0</td>\n",
       "      <td>4.0</td>\n",
       "      <td>6</td>\n",
       "      <td>265.0</td>\n",
       "      <td>12.045455</td>\n",
       "      <td>26</td>\n",
       "      <td>18</td>\n",
       "    </tr>\n",
       "  </tbody>\n",
       "</table>\n",
       "<p>5 rows × 25 columns</p>\n",
       "</div>"
      ],
      "text/plain": [
       "   order_id  user_id eval_set  order_number  order_dow  order_hour_of_day  \\\n",
       "0    761287     2928    prior             1          0                  1   \n",
       "1    761287     2928    prior             1          0                  1   \n",
       "2    761287     2928    prior             1          0                  1   \n",
       "3   1039920     4640    prior             1          0                  3   \n",
       "4   1039920     4640    prior             1          0                  3   \n",
       "\n",
       "   days_since_prior_order  product_id  add_to_cart_order  reordered  ...  \\\n",
       "0                     NaN       29589                  2          0  ...   \n",
       "1                     NaN       18932                  3          0  ...   \n",
       "2                     NaN       48075                  1          0  ...   \n",
       "3                     NaN       40199                  1          0  ...   \n",
       "4                     NaN       38684                  4          0  ...   \n",
       "\n",
       "   order_fre_ratio_aft_first  prod_mean_reorder_ratio  \\\n",
       "0                   0.642857                  0.54572   \n",
       "1                   0.071429                     0.25   \n",
       "2                        0.5                 0.465228   \n",
       "3                   0.166667                 0.602276   \n",
       "4                   0.166667                 0.252101   \n",
       "\n",
       "   prod_mean_add_to_cart_order  mean_reorder_ratio  mean_add_to_cart_order  \\\n",
       "0                     8.586576            0.888889                2.777778   \n",
       "1                     6.428571                 0.0                     3.0   \n",
       "2                    10.342926            0.857143                3.571429   \n",
       "3                     6.884577                 0.0                     1.0   \n",
       "4                     9.918487                 0.0                     4.0   \n",
       "\n",
       "   max_order_number  sum_days_since_prior  mean_days_since_prior  \\\n",
       "0                14                 734.0               7.489796   \n",
       "1                14                 734.0               7.489796   \n",
       "2                14                 734.0               7.489796   \n",
       "3                 6                 265.0              12.045455   \n",
       "4                 6                 265.0              12.045455   \n",
       "\n",
       "   count_product_id  unique_count_product_id  \n",
       "0               100                       47  \n",
       "1               100                       47  \n",
       "2               100                       47  \n",
       "3                26                       18  \n",
       "4                26                       18  \n",
       "\n",
       "[5 rows x 25 columns]"
      ]
     },
     "execution_count": 89,
     "metadata": {},
     "output_type": "execute_result"
    }
   ],
   "source": [
    "result.head()"
   ]
  },
  {
   "cell_type": "markdown",
   "id": "d4a812c7",
   "metadata": {},
   "source": [
    "# Preparing dataset"
   ]
  },
  {
   "cell_type": "code",
   "execution_count": 12,
   "id": "e327dc98",
   "metadata": {},
   "outputs": [],
   "source": [
    "\n",
    "def generate_results(orders, order_products):\n",
    "    order_merge_prior = orders.merge(order_products, on='order_id', how='left')\n",
    "    user_product = order_merge_prior.groupby(['user_id', 'product_id'])[['order_id']].count().rename(columns={'order_id':'total_bought_freq'}).reset_index()\n",
    "    result = orders.merge(order_products, on='order_id', how='left')\n",
    "\n",
    "    # Create user total orders dataframe\n",
    "    user_total = order_merge_prior.groupby('user_id')[['order_id']].count().rename(columns={'order_id':'user_total_bought'}).reset_index()\n",
    "    item_one = user_product[user_product.total_bought_freq==1].groupby('product_id')[['user_id']].count().rename(columns={'user_id': 'one_order_freq'}).reset_index()\n",
    "    result.product_id.fillna(0, inplace=True)\n",
    "    result = result.merge(item_one, on='product_id', how='left')\n",
    "    result = result.merge(user_product, on=['user_id', 'product_id'], how='left')\n",
    "    item_cust_freq = user_product.groupby('product_id')[['user_id']].count().rename(columns={'user_id':'item_cust_freq'}).reset_index()\n",
    "    result = result.merge(item_cust_freq, on='product_id', how='left')\n",
    "    order_merge_prior['order_number_back'] = order_merge_prior.groupby('user_id')['order_number'].transform(max) - order_merge_prior.order_number +1 \n",
    "    last_five = order_merge_prior[order_merge_prior.order_number_back <=5]\n",
    "    product_occur_l5 = last_five.groupby(['user_id','product_id'])[['order_id']].count().rename(columns={'order_id':'times_last5'}).reset_index()\n",
    "    result = result.merge(product_occur_l5, on=['user_id', 'product_id'], how='left')\n",
    "    first_order_number = order_merge_prior.groupby(['user_id', 'product_id'])[['order_number']].min().rename(columns={'order_number':'first_order_number'}).reset_index()\n",
    "    total_order_number = order_merge_prior.groupby('user_id')[['order_number']].max().rename(columns={'order_number':'total_order_number'}).reset_index()\n",
    "    first_order_number = first_order_number.merge(total_order_number, on='user_id', how='left')\n",
    "    first_order_number['range'] = first_order_number.total_order_number - first_order_number.first_order_number +1 \n",
    "    user_product = user_product.merge(first_order_number, on=['user_id', 'product_id'], how='left')\n",
    "    user_product['order_fre_ratio_aft_first'] = user_product.total_bought_freq/user_product.range\n",
    "    order_number_df = order_merge_prior.groupby(['user_id', 'product_id'])['order_number'].agg(['min', 'max']).reset_index().rename(columns={'min': 'first_order_number', 'max': 'last_order_number'})\n",
    "    order_merge_prior.product_id.fillna(0, inplace=True)\n",
    "    order_merge_prior = order_merge_prior.merge(order_number_df, on=['user_id', 'product_id'], how='left')\n",
    "    order_merge_prior.product_id.replace(0, np.nan, inplace=True)\n",
    "    order_merge_prior['product_order_ratio'] = (order_merge_prior['order_number']-order_merge_prior['first_order_number'])/(order_merge_prior['last_order_number'] - order_merge_prior['first_order_number'])\n",
    "    result = result.merge(order_merge_prior[['order_id', 'user_id', 'product_id', 'product_order_ratio']], on=['order_id', 'user_id', 'product_id'], how='left')\n",
    "    result = result.merge(user_product[['user_id', 'product_id', 'order_fre_ratio_aft_first']],  on=['user_id', 'product_id'], how='left')\n",
    "    prod_feat = order_merge_prior.groupby('product_id')[['reordered']].mean().rename(columns={'reordered':'prod_mean_reorder_ratio'}).reset_index()\n",
    "    mean_add_to_cart_order = order_merge_prior.groupby('product_id')[['add_to_cart_order']].mean().rename(columns={'add_to_cart_order':'prod_mean_add_to_cart_order'}).reset_index()\n",
    "    prod_feat = prod_feat.merge(mean_add_to_cart_order, on='product_id')\n",
    "    user_prod_feat = order_merge_prior.groupby(['user_id', 'product_id'])[['reordered']].mean().rename(columns={'reordered':'mean_reorder_ratio'}).reset_index()\n",
    "    user_prod_mean_add_to_cart_order = order_merge_prior.groupby(['user_id', 'product_id'])[['add_to_cart_order']].mean().rename(columns={'add_to_cart_order':'mean_add_to_cart_order'}).reset_index()\n",
    "    user_prod_feat = user_prod_feat.merge(user_prod_mean_add_to_cart_order, on=['user_id', 'product_id'])\n",
    "    result = result.merge(prod_feat, on='product_id', how='left')\n",
    "    result = result.merge(user_prod_feat, on=['user_id', 'product_id'], how='left')\n",
    "    user_feat = order_merge_prior.groupby('user_id').agg(\n",
    "        max_order_number=('order_number', 'max'),\n",
    "        sum_days_since_prior=('days_since_prior_order', 'sum'),\n",
    "        mean_days_since_prior=('days_since_prior_order', 'mean'),\n",
    "        count_product_id=('product_id', 'count'),\n",
    "        unique_count_product_id=('product_id', 'nunique')\n",
    "    ).reset_index()\n",
    "    result = result.merge(user_feat, on='user_id', how='left')\n",
    "    result.product_id.replace(0, np.nan, inplace=True)\n",
    "    return result\n",
    "\n"
   ]
  },
  {
   "cell_type": "code",
   "execution_count": 13,
   "id": "3d9710f5",
   "metadata": {},
   "outputs": [],
   "source": [
    "# Call the function with your dataframes and variables\n",
    "generated_results = generate_results(orders, order_products_prior)\n"
   ]
  },
  {
   "cell_type": "code",
   "execution_count": 14,
   "id": "7e6b59a1",
   "metadata": {},
   "outputs": [],
   "source": [
    "with open(\"../feature_train.pkl\", \"wb\") as file: \n",
    "    pickle.dump(generated_results, file) "
   ]
  },
  {
   "cell_type": "code",
   "execution_count": null,
   "id": "e1d16667",
   "metadata": {},
   "outputs": [],
   "source": []
  },
  {
   "cell_type": "markdown",
   "id": "ac0cca39",
   "metadata": {},
   "source": [
    "## Dump features dataframe"
   ]
  },
  {
   "cell_type": "code",
   "execution_count": 90,
   "id": "415ff2b4",
   "metadata": {},
   "outputs": [],
   "source": [
    "result.product_id.replace(0, np.nan, inplace=True)"
   ]
  },
  {
   "cell_type": "code",
   "execution_count": 91,
   "id": "e9c67a00",
   "metadata": {},
   "outputs": [
    {
     "data": {
      "text/html": [
       "<div>\n",
       "<style scoped>\n",
       "    .dataframe tbody tr th:only-of-type {\n",
       "        vertical-align: middle;\n",
       "    }\n",
       "\n",
       "    .dataframe tbody tr th {\n",
       "        vertical-align: top;\n",
       "    }\n",
       "\n",
       "    .dataframe thead th {\n",
       "        text-align: right;\n",
       "    }\n",
       "</style>\n",
       "<table border=\"1\" class=\"dataframe\">\n",
       "  <thead>\n",
       "    <tr style=\"text-align: right;\">\n",
       "      <th></th>\n",
       "      <th>order_id</th>\n",
       "      <th>user_id</th>\n",
       "      <th>eval_set</th>\n",
       "      <th>order_number</th>\n",
       "      <th>order_dow</th>\n",
       "      <th>order_hour_of_day</th>\n",
       "      <th>days_since_prior_order</th>\n",
       "      <th>product_id</th>\n",
       "      <th>add_to_cart_order</th>\n",
       "      <th>reordered</th>\n",
       "      <th>...</th>\n",
       "      <th>order_fre_ratio_aft_first</th>\n",
       "      <th>prod_mean_reorder_ratio</th>\n",
       "      <th>prod_mean_add_to_cart_order</th>\n",
       "      <th>mean_reorder_ratio</th>\n",
       "      <th>mean_add_to_cart_order</th>\n",
       "      <th>max_order_number</th>\n",
       "      <th>sum_days_since_prior</th>\n",
       "      <th>mean_days_since_prior</th>\n",
       "      <th>count_product_id</th>\n",
       "      <th>unique_count_product_id</th>\n",
       "    </tr>\n",
       "  </thead>\n",
       "  <tbody>\n",
       "    <tr>\n",
       "      <th>0</th>\n",
       "      <td>761287</td>\n",
       "      <td>2928</td>\n",
       "      <td>prior</td>\n",
       "      <td>1</td>\n",
       "      <td>0</td>\n",
       "      <td>1</td>\n",
       "      <td>NaN</td>\n",
       "      <td>29589</td>\n",
       "      <td>2</td>\n",
       "      <td>0</td>\n",
       "      <td>...</td>\n",
       "      <td>0.642857</td>\n",
       "      <td>0.54572</td>\n",
       "      <td>8.586576</td>\n",
       "      <td>0.888889</td>\n",
       "      <td>2.777778</td>\n",
       "      <td>14</td>\n",
       "      <td>734.0</td>\n",
       "      <td>7.489796</td>\n",
       "      <td>100</td>\n",
       "      <td>47</td>\n",
       "    </tr>\n",
       "    <tr>\n",
       "      <th>1</th>\n",
       "      <td>761287</td>\n",
       "      <td>2928</td>\n",
       "      <td>prior</td>\n",
       "      <td>1</td>\n",
       "      <td>0</td>\n",
       "      <td>1</td>\n",
       "      <td>NaN</td>\n",
       "      <td>18932</td>\n",
       "      <td>3</td>\n",
       "      <td>0</td>\n",
       "      <td>...</td>\n",
       "      <td>0.071429</td>\n",
       "      <td>0.25</td>\n",
       "      <td>6.428571</td>\n",
       "      <td>0.0</td>\n",
       "      <td>3.0</td>\n",
       "      <td>14</td>\n",
       "      <td>734.0</td>\n",
       "      <td>7.489796</td>\n",
       "      <td>100</td>\n",
       "      <td>47</td>\n",
       "    </tr>\n",
       "    <tr>\n",
       "      <th>2</th>\n",
       "      <td>761287</td>\n",
       "      <td>2928</td>\n",
       "      <td>prior</td>\n",
       "      <td>1</td>\n",
       "      <td>0</td>\n",
       "      <td>1</td>\n",
       "      <td>NaN</td>\n",
       "      <td>48075</td>\n",
       "      <td>1</td>\n",
       "      <td>0</td>\n",
       "      <td>...</td>\n",
       "      <td>0.5</td>\n",
       "      <td>0.465228</td>\n",
       "      <td>10.342926</td>\n",
       "      <td>0.857143</td>\n",
       "      <td>3.571429</td>\n",
       "      <td>14</td>\n",
       "      <td>734.0</td>\n",
       "      <td>7.489796</td>\n",
       "      <td>100</td>\n",
       "      <td>47</td>\n",
       "    </tr>\n",
       "    <tr>\n",
       "      <th>3</th>\n",
       "      <td>1039920</td>\n",
       "      <td>4640</td>\n",
       "      <td>prior</td>\n",
       "      <td>1</td>\n",
       "      <td>0</td>\n",
       "      <td>3</td>\n",
       "      <td>NaN</td>\n",
       "      <td>40199</td>\n",
       "      <td>1</td>\n",
       "      <td>0</td>\n",
       "      <td>...</td>\n",
       "      <td>0.166667</td>\n",
       "      <td>0.602276</td>\n",
       "      <td>6.884577</td>\n",
       "      <td>0.0</td>\n",
       "      <td>1.0</td>\n",
       "      <td>6</td>\n",
       "      <td>265.0</td>\n",
       "      <td>12.045455</td>\n",
       "      <td>26</td>\n",
       "      <td>18</td>\n",
       "    </tr>\n",
       "    <tr>\n",
       "      <th>4</th>\n",
       "      <td>1039920</td>\n",
       "      <td>4640</td>\n",
       "      <td>prior</td>\n",
       "      <td>1</td>\n",
       "      <td>0</td>\n",
       "      <td>3</td>\n",
       "      <td>NaN</td>\n",
       "      <td>38684</td>\n",
       "      <td>4</td>\n",
       "      <td>0</td>\n",
       "      <td>...</td>\n",
       "      <td>0.166667</td>\n",
       "      <td>0.252101</td>\n",
       "      <td>9.918487</td>\n",
       "      <td>0.0</td>\n",
       "      <td>4.0</td>\n",
       "      <td>6</td>\n",
       "      <td>265.0</td>\n",
       "      <td>12.045455</td>\n",
       "      <td>26</td>\n",
       "      <td>18</td>\n",
       "    </tr>\n",
       "  </tbody>\n",
       "</table>\n",
       "<p>5 rows × 25 columns</p>\n",
       "</div>"
      ],
      "text/plain": [
       "   order_id  user_id eval_set  order_number  order_dow  order_hour_of_day  \\\n",
       "0    761287     2928    prior             1          0                  1   \n",
       "1    761287     2928    prior             1          0                  1   \n",
       "2    761287     2928    prior             1          0                  1   \n",
       "3   1039920     4640    prior             1          0                  3   \n",
       "4   1039920     4640    prior             1          0                  3   \n",
       "\n",
       "   days_since_prior_order  product_id  add_to_cart_order  reordered  ...  \\\n",
       "0                     NaN       29589                  2          0  ...   \n",
       "1                     NaN       18932                  3          0  ...   \n",
       "2                     NaN       48075                  1          0  ...   \n",
       "3                     NaN       40199                  1          0  ...   \n",
       "4                     NaN       38684                  4          0  ...   \n",
       "\n",
       "   order_fre_ratio_aft_first  prod_mean_reorder_ratio  \\\n",
       "0                   0.642857                  0.54572   \n",
       "1                   0.071429                     0.25   \n",
       "2                        0.5                 0.465228   \n",
       "3                   0.166667                 0.602276   \n",
       "4                   0.166667                 0.252101   \n",
       "\n",
       "   prod_mean_add_to_cart_order  mean_reorder_ratio  mean_add_to_cart_order  \\\n",
       "0                     8.586576            0.888889                2.777778   \n",
       "1                     6.428571                 0.0                     3.0   \n",
       "2                    10.342926            0.857143                3.571429   \n",
       "3                     6.884577                 0.0                     1.0   \n",
       "4                     9.918487                 0.0                     4.0   \n",
       "\n",
       "   max_order_number  sum_days_since_prior  mean_days_since_prior  \\\n",
       "0                14                 734.0               7.489796   \n",
       "1                14                 734.0               7.489796   \n",
       "2                14                 734.0               7.489796   \n",
       "3                 6                 265.0              12.045455   \n",
       "4                 6                 265.0              12.045455   \n",
       "\n",
       "   count_product_id  unique_count_product_id  \n",
       "0               100                       47  \n",
       "1               100                       47  \n",
       "2               100                       47  \n",
       "3                26                       18  \n",
       "4                26                       18  \n",
       "\n",
       "[5 rows x 25 columns]"
      ]
     },
     "execution_count": 91,
     "metadata": {},
     "output_type": "execute_result"
    }
   ],
   "source": [
    "result.head()"
   ]
  },
  {
   "cell_type": "code",
   "execution_count": 92,
   "id": "76560dc0",
   "metadata": {},
   "outputs": [
    {
     "data": {
      "text/plain": [
       "order_id                              0\n",
       "user_id                               0\n",
       "eval_set                              0\n",
       "order_number                          0\n",
       "order_dow                             0\n",
       "order_hour_of_day                     0\n",
       "days_since_prior_order          2078068\n",
       "product_id                        75000\n",
       "add_to_cart_order                 75000\n",
       "reordered                         75000\n",
       "one_order_freq                    75684\n",
       "total_bought_freq                630793\n",
       "item_cust_freq                    75009\n",
       "times_last5                    15129401\n",
       "product_order_ratio             1459617\n",
       "order_fre_ratio_aft_first        630793\n",
       "prod_mean_reorder_ratio           75009\n",
       "prod_mean_add_to_cart_order       75009\n",
       "mean_reorder_ratio               630793\n",
       "mean_add_to_cart_order           630793\n",
       "max_order_number                      0\n",
       "sum_days_since_prior                  0\n",
       "mean_days_since_prior                 0\n",
       "count_product_id                      0\n",
       "unique_count_product_id               0\n",
       "dtype: int64"
      ]
     },
     "execution_count": 92,
     "metadata": {},
     "output_type": "execute_result"
    }
   ],
   "source": [
    "result.isna().sum()"
   ]
  },
  {
   "cell_type": "code",
   "execution_count": 93,
   "id": "a15b5c0d",
   "metadata": {},
   "outputs": [],
   "source": [
    "with open(\"../feature.pkl\", \"wb\") as file: \n",
    "    pickle.dump(result, file) "
   ]
  },
  {
   "cell_type": "code",
   "execution_count": null,
   "id": "4e25151e",
   "metadata": {},
   "outputs": [],
   "source": []
  },
  {
   "cell_type": "code",
   "execution_count": null,
   "id": "fd07f93f",
   "metadata": {},
   "outputs": [],
   "source": []
  },
  {
   "cell_type": "code",
   "execution_count": null,
   "id": "3b9c058a",
   "metadata": {},
   "outputs": [],
   "source": []
  },
  {
   "cell_type": "code",
   "execution_count": null,
   "id": "426b3d57",
   "metadata": {},
   "outputs": [],
   "source": []
  },
  {
   "cell_type": "code",
   "execution_count": null,
   "id": "1989a29e",
   "metadata": {},
   "outputs": [],
   "source": []
  }
 ],
 "metadata": {
  "kernelspec": {
   "display_name": "Python 3 (ipykernel)",
   "language": "python",
   "name": "python3"
  },
  "language_info": {
   "codemirror_mode": {
    "name": "ipython",
    "version": 3
   },
   "file_extension": ".py",
   "mimetype": "text/x-python",
   "name": "python",
   "nbconvert_exporter": "python",
   "pygments_lexer": "ipython3",
   "version": "3.9.5"
  }
 },
 "nbformat": 4,
 "nbformat_minor": 5
}
